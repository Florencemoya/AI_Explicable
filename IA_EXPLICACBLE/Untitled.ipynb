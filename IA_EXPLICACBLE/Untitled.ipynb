{
 "cells": [
  {
   "cell_type": "code",
   "execution_count": 10,
   "id": "e6abecb7",
   "metadata": {},
   "outputs": [
    {
     "name": "stdout",
     "output_type": "stream",
     "text": [
      "Requirement already satisfied: pycaret in c:\\users\\moya\\anaconda3\\lib\\site-packages (3.2.0)\n",
      "Requirement already satisfied: category-encoders>=2.4.0 in c:\\users\\moya\\anaconda3\\lib\\site-packages (from pycaret) (2.6.3)\n",
      "Requirement already satisfied: cloudpickle in c:\\users\\moya\\anaconda3\\lib\\site-packages (from pycaret) (2.2.1)\n",
      "Requirement already satisfied: deprecation>=2.1.0 in c:\\users\\moya\\anaconda3\\lib\\site-packages (from pycaret) (2.1.0)\n",
      "Requirement already satisfied: imbalanced-learn>=0.8.1 in c:\\users\\moya\\anaconda3\\lib\\site-packages (from pycaret) (0.11.0)\n",
      "Requirement already satisfied: importlib-metadata>=4.12.0 in c:\\users\\moya\\appdata\\roaming\\python\\python311\\site-packages (from pycaret) (6.8.0)\n",
      "Requirement already satisfied: ipython>=5.5.0 in c:\\users\\moya\\appdata\\roaming\\python\\python311\\site-packages (from pycaret) (8.15.0)\n",
      "Requirement already satisfied: ipywidgets>=7.6.5 in c:\\users\\moya\\anaconda3\\lib\\site-packages (from pycaret) (8.0.4)\n",
      "Requirement already satisfied: jinja2>=1.2 in c:\\users\\moya\\anaconda3\\lib\\site-packages (from pycaret) (3.1.2)\n",
      "Requirement already satisfied: joblib>=1.2.0 in c:\\users\\moya\\anaconda3\\lib\\site-packages (from pycaret) (1.2.0)\n",
      "Requirement already satisfied: kaleido>=0.2.1 in c:\\users\\moya\\anaconda3\\lib\\site-packages (from pycaret) (0.2.1)\n",
      "Requirement already satisfied: lightgbm>=3.0.0 in c:\\users\\moya\\anaconda3\\lib\\site-packages (from pycaret) (4.1.0)\n",
      "Requirement already satisfied: markupsafe>=2.0.1 in c:\\users\\moya\\anaconda3\\lib\\site-packages (from pycaret) (2.1.1)\n",
      "Requirement already satisfied: matplotlib<=3.6,>=3.3.0 in c:\\users\\moya\\anaconda3\\lib\\site-packages (from pycaret) (3.6.0)\n",
      "Requirement already satisfied: nbformat>=4.2.0 in c:\\users\\moya\\anaconda3\\lib\\site-packages (from pycaret) (5.7.0)\n",
      "Requirement already satisfied: numba>=0.55.0 in c:\\users\\moya\\anaconda3\\lib\\site-packages (from pycaret) (0.57.0)\n",
      "Requirement already satisfied: numpy<1.27,>=1.21 in c:\\users\\moya\\anaconda3\\lib\\site-packages (from pycaret) (1.24.4)\n",
      "Requirement already satisfied: pandas<2.0.0,>=1.3.0 in c:\\users\\moya\\anaconda3\\lib\\site-packages (from pycaret) (1.5.3)\n",
      "Requirement already satisfied: plotly-resampler>=0.8.3.1 in c:\\users\\moya\\anaconda3\\lib\\site-packages (from pycaret) (0.9.2)\n",
      "Requirement already satisfied: plotly>=5.0.0 in c:\\users\\moya\\anaconda3\\lib\\site-packages (from pycaret) (5.9.0)\n",
      "Requirement already satisfied: pmdarima!=1.8.1,<3.0.0,>=1.8.0 in c:\\users\\moya\\anaconda3\\lib\\site-packages (from pycaret) (2.0.4)\n",
      "Requirement already satisfied: psutil>=5.9.0 in c:\\users\\moya\\appdata\\roaming\\python\\python311\\site-packages (from pycaret) (5.9.5)\n",
      "Requirement already satisfied: pyod>=1.0.8 in c:\\users\\moya\\anaconda3\\lib\\site-packages (from pycaret) (1.1.2)\n",
      "Requirement already satisfied: requests>=2.27.1 in c:\\users\\moya\\anaconda3\\lib\\site-packages (from pycaret) (2.31.0)\n",
      "Requirement already satisfied: schemdraw==0.15 in c:\\users\\moya\\anaconda3\\lib\\site-packages (from pycaret) (0.15)\n",
      "Requirement already satisfied: scikit-learn<1.3.0,>=1.0 in c:\\users\\moya\\anaconda3\\lib\\site-packages (from pycaret) (1.2.2)\n",
      "Requirement already satisfied: scikit-plot>=0.3.7 in c:\\users\\moya\\anaconda3\\lib\\site-packages (from pycaret) (0.3.7)\n",
      "Requirement already satisfied: scipy~=1.10.1 in c:\\users\\moya\\anaconda3\\lib\\site-packages (from pycaret) (1.10.1)\n",
      "Requirement already satisfied: sktime!=0.17.1,!=0.17.2,!=0.18.0,<0.22.0,>=0.16.1 in c:\\users\\moya\\anaconda3\\lib\\site-packages (from pycaret) (0.21.1)\n",
      "Requirement already satisfied: statsmodels>=0.12.1 in c:\\users\\moya\\anaconda3\\lib\\site-packages (from pycaret) (0.14.0)\n",
      "Requirement already satisfied: tbats>=1.1.3 in c:\\users\\moya\\anaconda3\\lib\\site-packages (from pycaret) (1.1.3)\n",
      "Requirement already satisfied: tqdm>=4.62.0 in c:\\users\\moya\\anaconda3\\lib\\site-packages (from pycaret) (4.65.0)\n",
      "Requirement already satisfied: xxhash in c:\\users\\moya\\anaconda3\\lib\\site-packages (from pycaret) (3.4.1)\n",
      "Requirement already satisfied: yellowbrick>=1.4 in c:\\users\\moya\\anaconda3\\lib\\site-packages (from pycaret) (1.5)\n",
      "Requirement already satisfied: patsy>=0.5.1 in c:\\users\\moya\\anaconda3\\lib\\site-packages (from category-encoders>=2.4.0->pycaret) (0.5.3)\n",
      "Requirement already satisfied: packaging in c:\\users\\moya\\anaconda3\\lib\\site-packages (from deprecation>=2.1.0->pycaret) (23.0)\n",
      "Requirement already satisfied: threadpoolctl>=2.0.0 in c:\\users\\moya\\anaconda3\\lib\\site-packages (from imbalanced-learn>=0.8.1->pycaret) (2.2.0)\n",
      "Requirement already satisfied: zipp>=0.5 in c:\\users\\moya\\appdata\\roaming\\python\\python311\\site-packages (from importlib-metadata>=4.12.0->pycaret) (3.17.0)\n",
      "Requirement already satisfied: backcall in c:\\users\\moya\\appdata\\roaming\\python\\python311\\site-packages (from ipython>=5.5.0->pycaret) (0.2.0)\n",
      "Requirement already satisfied: decorator in c:\\users\\moya\\appdata\\roaming\\python\\python311\\site-packages (from ipython>=5.5.0->pycaret) (5.1.1)\n",
      "Requirement already satisfied: jedi>=0.16 in c:\\users\\moya\\appdata\\roaming\\python\\python311\\site-packages (from ipython>=5.5.0->pycaret) (0.19.0)\n",
      "Requirement already satisfied: matplotlib-inline in c:\\users\\moya\\appdata\\roaming\\python\\python311\\site-packages (from ipython>=5.5.0->pycaret) (0.1.6)\n",
      "Requirement already satisfied: pickleshare in c:\\users\\moya\\appdata\\roaming\\python\\python311\\site-packages (from ipython>=5.5.0->pycaret) (0.7.5)\n",
      "Requirement already satisfied: prompt-toolkit!=3.0.37,<3.1.0,>=3.0.30 in c:\\users\\moya\\appdata\\roaming\\python\\python311\\site-packages (from ipython>=5.5.0->pycaret) (3.0.39)\n",
      "Requirement already satisfied: pygments>=2.4.0 in c:\\users\\moya\\appdata\\roaming\\python\\python311\\site-packages (from ipython>=5.5.0->pycaret) (2.16.1)\n",
      "Requirement already satisfied: stack-data in c:\\users\\moya\\appdata\\roaming\\python\\python311\\site-packages (from ipython>=5.5.0->pycaret) (0.6.2)\n",
      "Requirement already satisfied: traitlets>=5 in c:\\users\\moya\\appdata\\roaming\\python\\python311\\site-packages (from ipython>=5.5.0->pycaret) (5.9.0)\n",
      "Requirement already satisfied: colorama in c:\\users\\moya\\anaconda3\\lib\\site-packages (from ipython>=5.5.0->pycaret) (0.4.6)\n",
      "Requirement already satisfied: ipykernel>=4.5.1 in c:\\users\\moya\\appdata\\roaming\\python\\python311\\site-packages (from ipywidgets>=7.6.5->pycaret) (6.25.2)\n",
      "Requirement already satisfied: widgetsnbextension~=4.0 in c:\\users\\moya\\anaconda3\\lib\\site-packages (from ipywidgets>=7.6.5->pycaret) (4.0.5)\n",
      "Requirement already satisfied: jupyterlab-widgets~=3.0 in c:\\users\\moya\\anaconda3\\lib\\site-packages (from ipywidgets>=7.6.5->pycaret) (3.0.5)\n",
      "Requirement already satisfied: contourpy>=1.0.1 in c:\\users\\moya\\anaconda3\\lib\\site-packages (from matplotlib<=3.6,>=3.3.0->pycaret) (1.0.5)\n",
      "Requirement already satisfied: cycler>=0.10 in c:\\users\\moya\\anaconda3\\lib\\site-packages (from matplotlib<=3.6,>=3.3.0->pycaret) (0.11.0)\n",
      "Requirement already satisfied: fonttools>=4.22.0 in c:\\users\\moya\\anaconda3\\lib\\site-packages (from matplotlib<=3.6,>=3.3.0->pycaret) (4.25.0)\n",
      "Requirement already satisfied: kiwisolver>=1.0.1 in c:\\users\\moya\\anaconda3\\lib\\site-packages (from matplotlib<=3.6,>=3.3.0->pycaret) (1.4.4)\n",
      "Requirement already satisfied: pillow>=6.2.0 in c:\\users\\moya\\anaconda3\\lib\\site-packages (from matplotlib<=3.6,>=3.3.0->pycaret) (9.4.0)\n",
      "Requirement already satisfied: pyparsing>=2.2.1 in c:\\users\\moya\\anaconda3\\lib\\site-packages (from matplotlib<=3.6,>=3.3.0->pycaret) (3.0.9)\n",
      "Requirement already satisfied: python-dateutil>=2.7 in c:\\users\\moya\\anaconda3\\lib\\site-packages (from matplotlib<=3.6,>=3.3.0->pycaret) (2.8.2)\n",
      "Requirement already satisfied: fastjsonschema in c:\\users\\moya\\anaconda3\\lib\\site-packages (from nbformat>=4.2.0->pycaret) (2.16.2)\n",
      "Requirement already satisfied: jsonschema>=2.6 in c:\\users\\moya\\anaconda3\\lib\\site-packages (from nbformat>=4.2.0->pycaret) (4.17.3)\n",
      "Requirement already satisfied: jupyter-core in c:\\users\\moya\\appdata\\roaming\\python\\python311\\site-packages (from nbformat>=4.2.0->pycaret) (5.3.1)\n",
      "Requirement already satisfied: llvmlite<0.41,>=0.40.0dev0 in c:\\users\\moya\\anaconda3\\lib\\site-packages (from numba>=0.55.0->pycaret) (0.40.0)\n",
      "Requirement already satisfied: pytz>=2020.1 in c:\\users\\moya\\anaconda3\\lib\\site-packages (from pandas<2.0.0,>=1.3.0->pycaret) (2022.7)\n",
      "Requirement already satisfied: tenacity>=6.2.0 in c:\\users\\moya\\anaconda3\\lib\\site-packages (from plotly>=5.0.0->pycaret) (8.2.2)\n",
      "Requirement already satisfied: dash>=2.9.0 in c:\\users\\moya\\anaconda3\\lib\\site-packages (from plotly-resampler>=0.8.3.1->pycaret) (2.14.2)\n",
      "Requirement already satisfied: orjson<4.0.0,>=3.8.0 in c:\\users\\moya\\anaconda3\\lib\\site-packages (from plotly-resampler>=0.8.3.1->pycaret) (3.9.10)\n",
      "Requirement already satisfied: tsdownsample==0.1.2 in c:\\users\\moya\\anaconda3\\lib\\site-packages (from plotly-resampler>=0.8.3.1->pycaret) (0.1.2)\n",
      "Requirement already satisfied: Cython!=0.29.18,!=0.29.31,>=0.29 in c:\\users\\moya\\anaconda3\\lib\\site-packages (from pmdarima!=1.8.1,<3.0.0,>=1.8.0->pycaret) (3.0.5)\n",
      "Requirement already satisfied: urllib3 in c:\\users\\moya\\anaconda3\\lib\\site-packages (from pmdarima!=1.8.1,<3.0.0,>=1.8.0->pycaret) (1.26.16)\n",
      "Requirement already satisfied: setuptools!=50.0.0,>=38.6.0 in c:\\users\\moya\\anaconda3\\lib\\site-packages (from pmdarima!=1.8.1,<3.0.0,>=1.8.0->pycaret) (68.0.0)\n",
      "Requirement already satisfied: six in c:\\users\\moya\\anaconda3\\lib\\site-packages (from pyod>=1.0.8->pycaret) (1.16.0)\n",
      "Requirement already satisfied: charset-normalizer<4,>=2 in c:\\users\\moya\\anaconda3\\lib\\site-packages (from requests>=2.27.1->pycaret) (2.0.4)\n",
      "Requirement already satisfied: idna<4,>=2.5 in c:\\users\\moya\\anaconda3\\lib\\site-packages (from requests>=2.27.1->pycaret) (3.4)\n",
      "Requirement already satisfied: certifi>=2017.4.17 in c:\\users\\moya\\anaconda3\\lib\\site-packages (from requests>=2.27.1->pycaret) (2023.7.22)\n",
      "Requirement already satisfied: deprecated>=1.2.13 in c:\\users\\moya\\anaconda3\\lib\\site-packages (from sktime!=0.17.1,!=0.17.2,!=0.18.0,<0.22.0,>=0.16.1->pycaret) (1.2.14)\n",
      "Requirement already satisfied: scikit-base<0.6.0 in c:\\users\\moya\\anaconda3\\lib\\site-packages (from sktime!=0.17.1,!=0.17.2,!=0.18.0,<0.22.0,>=0.16.1->pycaret) (0.5.2)\n",
      "Requirement already satisfied: Flask<3.1,>=1.0.4 in c:\\users\\moya\\anaconda3\\lib\\site-packages (from dash>=2.9.0->plotly-resampler>=0.8.3.1->pycaret) (2.2.2)\n",
      "Requirement already satisfied: Werkzeug<3.1 in c:\\users\\moya\\anaconda3\\lib\\site-packages (from dash>=2.9.0->plotly-resampler>=0.8.3.1->pycaret) (2.2.3)\n",
      "Requirement already satisfied: dash-html-components==2.0.0 in c:\\users\\moya\\anaconda3\\lib\\site-packages (from dash>=2.9.0->plotly-resampler>=0.8.3.1->pycaret) (2.0.0)\n",
      "Requirement already satisfied: dash-core-components==2.0.0 in c:\\users\\moya\\anaconda3\\lib\\site-packages (from dash>=2.9.0->plotly-resampler>=0.8.3.1->pycaret) (2.0.0)\n",
      "Requirement already satisfied: dash-table==5.0.0 in c:\\users\\moya\\anaconda3\\lib\\site-packages (from dash>=2.9.0->plotly-resampler>=0.8.3.1->pycaret) (5.0.0)\n",
      "Requirement already satisfied: typing-extensions>=4.1.1 in c:\\users\\moya\\anaconda3\\lib\\site-packages (from dash>=2.9.0->plotly-resampler>=0.8.3.1->pycaret) (4.5.0)\n",
      "Requirement already satisfied: retrying in c:\\users\\moya\\anaconda3\\lib\\site-packages (from dash>=2.9.0->plotly-resampler>=0.8.3.1->pycaret) (1.3.4)\n",
      "Requirement already satisfied: ansi2html in c:\\users\\moya\\anaconda3\\lib\\site-packages (from dash>=2.9.0->plotly-resampler>=0.8.3.1->pycaret) (1.8.0)\n",
      "Requirement already satisfied: nest-asyncio in c:\\users\\moya\\appdata\\roaming\\python\\python311\\site-packages (from dash>=2.9.0->plotly-resampler>=0.8.3.1->pycaret) (1.5.7)\n",
      "Requirement already satisfied: wrapt<2,>=1.10 in c:\\users\\moya\\anaconda3\\lib\\site-packages (from deprecated>=1.2.13->sktime!=0.17.1,!=0.17.2,!=0.18.0,<0.22.0,>=0.16.1->pycaret) (1.14.1)\n",
      "Requirement already satisfied: comm>=0.1.1 in c:\\users\\moya\\appdata\\roaming\\python\\python311\\site-packages (from ipykernel>=4.5.1->ipywidgets>=7.6.5->pycaret) (0.1.4)\n",
      "Requirement already satisfied: debugpy>=1.6.5 in c:\\users\\moya\\appdata\\roaming\\python\\python311\\site-packages (from ipykernel>=4.5.1->ipywidgets>=7.6.5->pycaret) (1.8.0)\n",
      "Requirement already satisfied: jupyter-client>=6.1.12 in c:\\users\\moya\\appdata\\roaming\\python\\python311\\site-packages (from ipykernel>=4.5.1->ipywidgets>=7.6.5->pycaret) (8.3.1)\n",
      "Requirement already satisfied: pyzmq>=20 in c:\\users\\moya\\appdata\\roaming\\python\\python311\\site-packages (from ipykernel>=4.5.1->ipywidgets>=7.6.5->pycaret) (25.1.1)\n",
      "Requirement already satisfied: tornado>=6.1 in c:\\users\\moya\\appdata\\roaming\\python\\python311\\site-packages (from ipykernel>=4.5.1->ipywidgets>=7.6.5->pycaret) (6.3.3)\n",
      "Requirement already satisfied: parso<0.9.0,>=0.8.3 in c:\\users\\moya\\appdata\\roaming\\python\\python311\\site-packages (from jedi>=0.16->ipython>=5.5.0->pycaret) (0.8.3)\n",
      "Requirement already satisfied: attrs>=17.4.0 in c:\\users\\moya\\anaconda3\\lib\\site-packages (from jsonschema>=2.6->nbformat>=4.2.0->pycaret) (22.1.0)\n",
      "Requirement already satisfied: pyrsistent!=0.17.0,!=0.17.1,!=0.17.2,>=0.14.0 in c:\\users\\moya\\anaconda3\\lib\\site-packages (from jsonschema>=2.6->nbformat>=4.2.0->pycaret) (0.18.0)\n",
      "Requirement already satisfied: platformdirs>=2.5 in c:\\users\\moya\\appdata\\roaming\\python\\python311\\site-packages (from jupyter-core->nbformat>=4.2.0->pycaret) (3.10.0)\n",
      "Requirement already satisfied: pywin32>=300 in c:\\users\\moya\\appdata\\roaming\\python\\python311\\site-packages (from jupyter-core->nbformat>=4.2.0->pycaret) (306)\n",
      "Requirement already satisfied: wcwidth in c:\\users\\moya\\appdata\\roaming\\python\\python311\\site-packages (from prompt-toolkit!=3.0.37,<3.1.0,>=3.0.30->ipython>=5.5.0->pycaret) (0.2.6)\n",
      "Requirement already satisfied: executing>=1.2.0 in c:\\users\\moya\\appdata\\roaming\\python\\python311\\site-packages (from stack-data->ipython>=5.5.0->pycaret) (1.2.0)\n",
      "Requirement already satisfied: asttokens>=2.1.0 in c:\\users\\moya\\appdata\\roaming\\python\\python311\\site-packages (from stack-data->ipython>=5.5.0->pycaret) (2.4.0)\n",
      "Requirement already satisfied: pure-eval in c:\\users\\moya\\appdata\\roaming\\python\\python311\\site-packages (from stack-data->ipython>=5.5.0->pycaret) (0.2.2)\n",
      "Requirement already satisfied: itsdangerous>=2.0 in c:\\users\\moya\\anaconda3\\lib\\site-packages (from Flask<3.1,>=1.0.4->dash>=2.9.0->plotly-resampler>=0.8.3.1->pycaret) (2.0.1)\n",
      "Requirement already satisfied: click>=8.0 in c:\\users\\moya\\anaconda3\\lib\\site-packages (from Flask<3.1,>=1.0.4->dash>=2.9.0->plotly-resampler>=0.8.3.1->pycaret) (8.0.4)\n",
      "Note: you may need to restart the kernel to use updated packages.\n"
     ]
    }
   ],
   "source": [
    "pip install pycaret"
   ]
  },
  {
   "cell_type": "code",
   "execution_count": 2,
   "id": "bd46be69",
   "metadata": {},
   "outputs": [
    {
     "name": "stdout",
     "output_type": "stream",
     "text": [
      "Requirement already satisfied: pip in c:\\users\\moya\\anaconda3\\lib\\site-packages (23.3.1)\n",
      "Collecting pip\n",
      "  Using cached pip-23.3.2-py3-none-any.whl.metadata (3.5 kB)\n",
      "Using cached pip-23.3.2-py3-none-any.whl (2.1 MB)\n",
      "Installing collected packages: pip\n",
      "  Attempting uninstall: pip\n",
      "    Found existing installation: pip 23.3.1\n",
      "    Uninstalling pip-23.3.1:\n",
      "      Successfully uninstalled pip-23.3.1\n",
      "Successfully installed pip-23.3.2\n",
      "Note: you may need to restart the kernel to use updated packages.\n"
     ]
    }
   ],
   "source": [
    "pip install --upgrade pip"
   ]
  },
  {
   "cell_type": "code",
   "execution_count": 11,
   "id": "417c74b4",
   "metadata": {},
   "outputs": [
    {
     "name": "stdout",
     "output_type": "stream",
     "text": [
      "Requirement already satisfied: lime in c:\\users\\moya\\anaconda3\\lib\\site-packages (0.2.0.1)\n",
      "Requirement already satisfied: matplotlib in c:\\users\\moya\\anaconda3\\lib\\site-packages (from lime) (3.6.0)\n",
      "Requirement already satisfied: numpy in c:\\users\\moya\\anaconda3\\lib\\site-packages (from lime) (1.24.4)\n",
      "Requirement already satisfied: scipy in c:\\users\\moya\\anaconda3\\lib\\site-packages (from lime) (1.10.1)\n",
      "Requirement already satisfied: tqdm in c:\\users\\moya\\anaconda3\\lib\\site-packages (from lime) (4.65.0)\n",
      "Requirement already satisfied: scikit-learn>=0.18 in c:\\users\\moya\\anaconda3\\lib\\site-packages (from lime) (1.2.2)\n",
      "Requirement already satisfied: scikit-image>=0.12 in c:\\users\\moya\\anaconda3\\lib\\site-packages (from lime) (0.20.0)\n",
      "Requirement already satisfied: networkx>=2.8 in c:\\users\\moya\\anaconda3\\lib\\site-packages (from scikit-image>=0.12->lime) (3.1)\n",
      "Requirement already satisfied: pillow>=9.0.1 in c:\\users\\moya\\anaconda3\\lib\\site-packages (from scikit-image>=0.12->lime) (9.4.0)\n",
      "Requirement already satisfied: imageio>=2.4.1 in c:\\users\\moya\\anaconda3\\lib\\site-packages (from scikit-image>=0.12->lime) (2.26.0)\n",
      "Requirement already satisfied: tifffile>=2019.7.26 in c:\\users\\moya\\anaconda3\\lib\\site-packages (from scikit-image>=0.12->lime) (2021.7.2)\n",
      "Requirement already satisfied: PyWavelets>=1.1.1 in c:\\users\\moya\\anaconda3\\lib\\site-packages (from scikit-image>=0.12->lime) (1.4.1)\n",
      "Requirement already satisfied: packaging>=20.0 in c:\\users\\moya\\anaconda3\\lib\\site-packages (from scikit-image>=0.12->lime) (23.0)\n",
      "Requirement already satisfied: lazy_loader>=0.1 in c:\\users\\moya\\anaconda3\\lib\\site-packages (from scikit-image>=0.12->lime) (0.2)\n",
      "Requirement already satisfied: joblib>=1.1.1 in c:\\users\\moya\\anaconda3\\lib\\site-packages (from scikit-learn>=0.18->lime) (1.2.0)\n",
      "Requirement already satisfied: threadpoolctl>=2.0.0 in c:\\users\\moya\\anaconda3\\lib\\site-packages (from scikit-learn>=0.18->lime) (2.2.0)\n",
      "Requirement already satisfied: contourpy>=1.0.1 in c:\\users\\moya\\anaconda3\\lib\\site-packages (from matplotlib->lime) (1.0.5)\n",
      "Requirement already satisfied: cycler>=0.10 in c:\\users\\moya\\anaconda3\\lib\\site-packages (from matplotlib->lime) (0.11.0)\n",
      "Requirement already satisfied: fonttools>=4.22.0 in c:\\users\\moya\\anaconda3\\lib\\site-packages (from matplotlib->lime) (4.25.0)\n",
      "Requirement already satisfied: kiwisolver>=1.0.1 in c:\\users\\moya\\anaconda3\\lib\\site-packages (from matplotlib->lime) (1.4.4)\n",
      "Requirement already satisfied: pyparsing>=2.2.1 in c:\\users\\moya\\anaconda3\\lib\\site-packages (from matplotlib->lime) (3.0.9)\n",
      "Requirement already satisfied: python-dateutil>=2.7 in c:\\users\\moya\\anaconda3\\lib\\site-packages (from matplotlib->lime) (2.8.2)\n",
      "Requirement already satisfied: colorama in c:\\users\\moya\\anaconda3\\lib\\site-packages (from tqdm->lime) (0.4.6)\n",
      "Requirement already satisfied: six>=1.5 in c:\\users\\moya\\anaconda3\\lib\\site-packages (from python-dateutil>=2.7->matplotlib->lime) (1.16.0)\n",
      "Note: you may need to restart the kernel to use updated packages.\n"
     ]
    }
   ],
   "source": [
    "pip install lime"
   ]
  },
  {
   "cell_type": "code",
   "execution_count": 1,
   "id": "caf0f520",
   "metadata": {},
   "outputs": [
    {
     "name": "stdout",
     "output_type": "stream",
     "text": [
      "Collecting interpret\n",
      "  Downloading interpret-0.5.0-py3-none-any.whl.metadata (1.1 kB)\n",
      "Collecting interpret-core==0.5.0 (from interpret-core[dash,debug,linear,notebook,plotly,sensitivity,shap]==0.5.0->interpret)\n",
      "  Downloading interpret_core-0.5.0-py3-none-any.whl.metadata (2.7 kB)\n",
      "Requirement already satisfied: numpy>=1.11.1 in c:\\users\\moya\\anaconda3\\lib\\site-packages (from interpret-core==0.5.0->interpret-core[dash,debug,linear,notebook,plotly,sensitivity,shap]==0.5.0->interpret) (1.24.4)\n",
      "Requirement already satisfied: scipy>=0.18.1 in c:\\users\\moya\\anaconda3\\lib\\site-packages (from interpret-core==0.5.0->interpret-core[dash,debug,linear,notebook,plotly,sensitivity,shap]==0.5.0->interpret) (1.10.1)\n",
      "Requirement already satisfied: pandas>=0.19.2 in c:\\users\\moya\\anaconda3\\lib\\site-packages (from interpret-core==0.5.0->interpret-core[dash,debug,linear,notebook,plotly,sensitivity,shap]==0.5.0->interpret) (1.5.3)\n",
      "Requirement already satisfied: scikit-learn>=0.18.1 in c:\\users\\moya\\anaconda3\\lib\\site-packages (from interpret-core==0.5.0->interpret-core[dash,debug,linear,notebook,plotly,sensitivity,shap]==0.5.0->interpret) (1.2.2)\n",
      "Requirement already satisfied: joblib>=0.11 in c:\\users\\moya\\anaconda3\\lib\\site-packages (from interpret-core==0.5.0->interpret-core[dash,debug,linear,notebook,plotly,sensitivity,shap]==0.5.0->interpret) (1.2.0)\n",
      "Requirement already satisfied: dash>=1.0.0 in c:\\users\\moya\\anaconda3\\lib\\site-packages (from interpret-core[dash,debug,linear,notebook,plotly,sensitivity,shap]==0.5.0->interpret) (2.14.2)\n",
      "Requirement already satisfied: dash-core-components>=1.0.0 in c:\\users\\moya\\anaconda3\\lib\\site-packages (from interpret-core[dash,debug,linear,notebook,plotly,sensitivity,shap]==0.5.0->interpret) (2.0.0)\n",
      "Requirement already satisfied: dash-html-components>=1.0.0 in c:\\users\\moya\\anaconda3\\lib\\site-packages (from interpret-core[dash,debug,linear,notebook,plotly,sensitivity,shap]==0.5.0->interpret) (2.0.0)\n",
      "Requirement already satisfied: dash-table>=4.1.0 in c:\\users\\moya\\anaconda3\\lib\\site-packages (from interpret-core[dash,debug,linear,notebook,plotly,sensitivity,shap]==0.5.0->interpret) (5.0.0)\n",
      "Collecting dash-cytoscape>=0.1.1 (from interpret-core[dash,debug,linear,notebook,plotly,sensitivity,shap]==0.5.0->interpret)\n",
      "  Downloading dash_cytoscape-0.3.0-py3-none-any.whl (3.6 MB)\n",
      "     ---------------------------------------- 0.0/3.6 MB ? eta -:--:--\n",
      "     --- ------------------------------------ 0.3/3.6 MB 9.6 MB/s eta 0:00:01\n",
      "     ------- -------------------------------- 0.7/3.6 MB 7.3 MB/s eta 0:00:01\n",
      "     ----------- ---------------------------- 1.0/3.6 MB 8.1 MB/s eta 0:00:01\n",
      "     --------------- ------------------------ 1.4/3.6 MB 8.3 MB/s eta 0:00:01\n",
      "     --------------------- ------------------ 1.9/3.6 MB 8.2 MB/s eta 0:00:01\n",
      "     -------------------------- ------------- 2.4/3.6 MB 8.9 MB/s eta 0:00:01\n",
      "     -------------------------------- ------- 2.9/3.6 MB 9.0 MB/s eta 0:00:01\n",
      "     ------------------------------------- -- 3.4/3.6 MB 9.0 MB/s eta 0:00:01\n",
      "     ---------------------------------------- 3.6/3.6 MB 8.5 MB/s eta 0:00:00\n",
      "Collecting gevent>=1.3.6 (from interpret-core[dash,debug,linear,notebook,plotly,sensitivity,shap]==0.5.0->interpret)\n",
      "  Downloading gevent-23.9.1-cp311-cp311-win_amd64.whl.metadata (13 kB)\n",
      "Requirement already satisfied: requests>=2.19.0 in c:\\users\\moya\\anaconda3\\lib\\site-packages (from interpret-core[dash,debug,linear,notebook,plotly,sensitivity,shap]==0.5.0->interpret) (2.31.0)\n",
      "Requirement already satisfied: psutil>=5.6.2 in c:\\users\\moya\\appdata\\roaming\\python\\python311\\site-packages (from interpret-core[dash,debug,linear,notebook,plotly,sensitivity,shap]==0.5.0->interpret) (5.9.5)\n",
      "Requirement already satisfied: ipykernel>=4.10.0 in c:\\users\\moya\\appdata\\roaming\\python\\python311\\site-packages (from interpret-core[dash,debug,linear,notebook,plotly,sensitivity,shap]==0.5.0->interpret) (6.25.2)\n",
      "Requirement already satisfied: ipython>=5.5.0 in c:\\users\\moya\\appdata\\roaming\\python\\python311\\site-packages (from interpret-core[dash,debug,linear,notebook,plotly,sensitivity,shap]==0.5.0->interpret) (8.15.0)\n",
      "Requirement already satisfied: plotly>=3.8.1 in c:\\users\\moya\\anaconda3\\lib\\site-packages (from interpret-core[dash,debug,linear,notebook,plotly,sensitivity,shap]==0.5.0->interpret) (5.9.0)\n",
      "Collecting SALib>=1.3.3 (from interpret-core[dash,debug,linear,notebook,plotly,sensitivity,shap]==0.5.0->interpret)\n",
      "  Downloading salib-1.4.7-py3-none-any.whl (757 kB)\n",
      "     ---------------------------------------- 0.0/758.0 kB ? eta -:--:--\n",
      "     ------------------ ------------------ 389.1/758.0 kB 11.8 MB/s eta 0:00:01\n",
      "     -------------------------------------- 758.0/758.0 kB 9.6 MB/s eta 0:00:00\n",
      "Collecting shap>=0.28.5 (from interpret-core[dash,debug,linear,notebook,plotly,sensitivity,shap]==0.5.0->interpret)\n",
      "  Downloading shap-0.44.0-cp311-cp311-win_amd64.whl.metadata (24 kB)\n",
      "Requirement already satisfied: dill>=0.2.5 in c:\\users\\moya\\anaconda3\\lib\\site-packages (from interpret-core[dash,debug,linear,notebook,plotly,sensitivity,shap]==0.5.0->interpret) (0.3.6)\n",
      "Requirement already satisfied: Flask<3.1,>=1.0.4 in c:\\users\\moya\\anaconda3\\lib\\site-packages (from dash>=1.0.0->interpret-core[dash,debug,linear,notebook,plotly,sensitivity,shap]==0.5.0->interpret) (2.2.2)\n",
      "Requirement already satisfied: Werkzeug<3.1 in c:\\users\\moya\\anaconda3\\lib\\site-packages (from dash>=1.0.0->interpret-core[dash,debug,linear,notebook,plotly,sensitivity,shap]==0.5.0->interpret) (2.2.3)\n",
      "Requirement already satisfied: typing-extensions>=4.1.1 in c:\\users\\moya\\anaconda3\\lib\\site-packages (from dash>=1.0.0->interpret-core[dash,debug,linear,notebook,plotly,sensitivity,shap]==0.5.0->interpret) (4.5.0)\n",
      "Requirement already satisfied: retrying in c:\\users\\moya\\anaconda3\\lib\\site-packages (from dash>=1.0.0->interpret-core[dash,debug,linear,notebook,plotly,sensitivity,shap]==0.5.0->interpret) (1.3.4)\n",
      "Requirement already satisfied: ansi2html in c:\\users\\moya\\anaconda3\\lib\\site-packages (from dash>=1.0.0->interpret-core[dash,debug,linear,notebook,plotly,sensitivity,shap]==0.5.0->interpret) (1.8.0)\n",
      "Requirement already satisfied: nest-asyncio in c:\\users\\moya\\appdata\\roaming\\python\\python311\\site-packages (from dash>=1.0.0->interpret-core[dash,debug,linear,notebook,plotly,sensitivity,shap]==0.5.0->interpret) (1.5.7)\n",
      "Requirement already satisfied: setuptools in c:\\users\\moya\\anaconda3\\lib\\site-packages (from dash>=1.0.0->interpret-core[dash,debug,linear,notebook,plotly,sensitivity,shap]==0.5.0->interpret) (68.0.0)\n",
      "Requirement already satisfied: importlib-metadata in c:\\users\\moya\\appdata\\roaming\\python\\python311\\site-packages (from dash>=1.0.0->interpret-core[dash,debug,linear,notebook,plotly,sensitivity,shap]==0.5.0->interpret) (6.8.0)\n",
      "Collecting zope.event (from gevent>=1.3.6->interpret-core[dash,debug,linear,notebook,plotly,sensitivity,shap]==0.5.0->interpret)\n",
      "  Downloading zope.event-5.0-py3-none-any.whl.metadata (4.4 kB)\n",
      "Requirement already satisfied: zope.interface in c:\\users\\moya\\anaconda3\\lib\\site-packages (from gevent>=1.3.6->interpret-core[dash,debug,linear,notebook,plotly,sensitivity,shap]==0.5.0->interpret) (5.4.0)\n",
      "Collecting greenlet>=3.0rc3 (from gevent>=1.3.6->interpret-core[dash,debug,linear,notebook,plotly,sensitivity,shap]==0.5.0->interpret)\n",
      "  Downloading greenlet-3.0.3-cp311-cp311-win_amd64.whl.metadata (3.9 kB)\n",
      "Requirement already satisfied: cffi>=1.12.2 in c:\\users\\moya\\anaconda3\\lib\\site-packages (from gevent>=1.3.6->interpret-core[dash,debug,linear,notebook,plotly,sensitivity,shap]==0.5.0->interpret) (1.15.1)\n",
      "Requirement already satisfied: comm>=0.1.1 in c:\\users\\moya\\appdata\\roaming\\python\\python311\\site-packages (from ipykernel>=4.10.0->interpret-core[dash,debug,linear,notebook,plotly,sensitivity,shap]==0.5.0->interpret) (0.1.4)\n",
      "Requirement already satisfied: debugpy>=1.6.5 in c:\\users\\moya\\appdata\\roaming\\python\\python311\\site-packages (from ipykernel>=4.10.0->interpret-core[dash,debug,linear,notebook,plotly,sensitivity,shap]==0.5.0->interpret) (1.8.0)\n",
      "Requirement already satisfied: jupyter-client>=6.1.12 in c:\\users\\moya\\appdata\\roaming\\python\\python311\\site-packages (from ipykernel>=4.10.0->interpret-core[dash,debug,linear,notebook,plotly,sensitivity,shap]==0.5.0->interpret) (8.3.1)\n",
      "Requirement already satisfied: jupyter-core!=5.0.*,>=4.12 in c:\\users\\moya\\appdata\\roaming\\python\\python311\\site-packages (from ipykernel>=4.10.0->interpret-core[dash,debug,linear,notebook,plotly,sensitivity,shap]==0.5.0->interpret) (5.3.1)\n",
      "Requirement already satisfied: matplotlib-inline>=0.1 in c:\\users\\moya\\appdata\\roaming\\python\\python311\\site-packages (from ipykernel>=4.10.0->interpret-core[dash,debug,linear,notebook,plotly,sensitivity,shap]==0.5.0->interpret) (0.1.6)\n",
      "Requirement already satisfied: packaging in c:\\users\\moya\\anaconda3\\lib\\site-packages (from ipykernel>=4.10.0->interpret-core[dash,debug,linear,notebook,plotly,sensitivity,shap]==0.5.0->interpret) (23.0)\n",
      "Requirement already satisfied: pyzmq>=20 in c:\\users\\moya\\appdata\\roaming\\python\\python311\\site-packages (from ipykernel>=4.10.0->interpret-core[dash,debug,linear,notebook,plotly,sensitivity,shap]==0.5.0->interpret) (25.1.1)\n",
      "Requirement already satisfied: tornado>=6.1 in c:\\users\\moya\\appdata\\roaming\\python\\python311\\site-packages (from ipykernel>=4.10.0->interpret-core[dash,debug,linear,notebook,plotly,sensitivity,shap]==0.5.0->interpret) (6.3.3)\n",
      "Requirement already satisfied: traitlets>=5.4.0 in c:\\users\\moya\\appdata\\roaming\\python\\python311\\site-packages (from ipykernel>=4.10.0->interpret-core[dash,debug,linear,notebook,plotly,sensitivity,shap]==0.5.0->interpret) (5.9.0)\n",
      "Requirement already satisfied: backcall in c:\\users\\moya\\appdata\\roaming\\python\\python311\\site-packages (from ipython>=5.5.0->interpret-core[dash,debug,linear,notebook,plotly,sensitivity,shap]==0.5.0->interpret) (0.2.0)\n",
      "Requirement already satisfied: decorator in c:\\users\\moya\\appdata\\roaming\\python\\python311\\site-packages (from ipython>=5.5.0->interpret-core[dash,debug,linear,notebook,plotly,sensitivity,shap]==0.5.0->interpret) (5.1.1)\n",
      "Requirement already satisfied: jedi>=0.16 in c:\\users\\moya\\appdata\\roaming\\python\\python311\\site-packages (from ipython>=5.5.0->interpret-core[dash,debug,linear,notebook,plotly,sensitivity,shap]==0.5.0->interpret) (0.19.0)\n",
      "Requirement already satisfied: pickleshare in c:\\users\\moya\\appdata\\roaming\\python\\python311\\site-packages (from ipython>=5.5.0->interpret-core[dash,debug,linear,notebook,plotly,sensitivity,shap]==0.5.0->interpret) (0.7.5)\n",
      "Requirement already satisfied: prompt-toolkit!=3.0.37,<3.1.0,>=3.0.30 in c:\\users\\moya\\appdata\\roaming\\python\\python311\\site-packages (from ipython>=5.5.0->interpret-core[dash,debug,linear,notebook,plotly,sensitivity,shap]==0.5.0->interpret) (3.0.39)\n",
      "Requirement already satisfied: pygments>=2.4.0 in c:\\users\\moya\\appdata\\roaming\\python\\python311\\site-packages (from ipython>=5.5.0->interpret-core[dash,debug,linear,notebook,plotly,sensitivity,shap]==0.5.0->interpret) (2.16.1)\n",
      "Requirement already satisfied: stack-data in c:\\users\\moya\\appdata\\roaming\\python\\python311\\site-packages (from ipython>=5.5.0->interpret-core[dash,debug,linear,notebook,plotly,sensitivity,shap]==0.5.0->interpret) (0.6.2)\n",
      "Requirement already satisfied: colorama in c:\\users\\moya\\anaconda3\\lib\\site-packages (from ipython>=5.5.0->interpret-core[dash,debug,linear,notebook,plotly,sensitivity,shap]==0.5.0->interpret) (0.4.6)\n",
      "Requirement already satisfied: python-dateutil>=2.8.1 in c:\\users\\moya\\anaconda3\\lib\\site-packages (from pandas>=0.19.2->interpret-core==0.5.0->interpret-core[dash,debug,linear,notebook,plotly,sensitivity,shap]==0.5.0->interpret) (2.8.2)\n",
      "Requirement already satisfied: pytz>=2020.1 in c:\\users\\moya\\anaconda3\\lib\\site-packages (from pandas>=0.19.2->interpret-core==0.5.0->interpret-core[dash,debug,linear,notebook,plotly,sensitivity,shap]==0.5.0->interpret) (2022.7)\n",
      "Requirement already satisfied: tenacity>=6.2.0 in c:\\users\\moya\\anaconda3\\lib\\site-packages (from plotly>=3.8.1->interpret-core[dash,debug,linear,notebook,plotly,sensitivity,shap]==0.5.0->interpret) (8.2.2)\n",
      "Requirement already satisfied: charset-normalizer<4,>=2 in c:\\users\\moya\\anaconda3\\lib\\site-packages (from requests>=2.19.0->interpret-core[dash,debug,linear,notebook,plotly,sensitivity,shap]==0.5.0->interpret) (2.0.4)\n",
      "Requirement already satisfied: idna<4,>=2.5 in c:\\users\\moya\\anaconda3\\lib\\site-packages (from requests>=2.19.0->interpret-core[dash,debug,linear,notebook,plotly,sensitivity,shap]==0.5.0->interpret) (3.4)\n",
      "Requirement already satisfied: urllib3<3,>=1.21.1 in c:\\users\\moya\\anaconda3\\lib\\site-packages (from requests>=2.19.0->interpret-core[dash,debug,linear,notebook,plotly,sensitivity,shap]==0.5.0->interpret) (1.26.16)\n",
      "Requirement already satisfied: certifi>=2017.4.17 in c:\\users\\moya\\anaconda3\\lib\\site-packages (from requests>=2.19.0->interpret-core[dash,debug,linear,notebook,plotly,sensitivity,shap]==0.5.0->interpret) (2023.7.22)\n",
      "Requirement already satisfied: matplotlib>=3.2.2 in c:\\users\\moya\\anaconda3\\lib\\site-packages (from SALib>=1.3.3->interpret-core[dash,debug,linear,notebook,plotly,sensitivity,shap]==0.5.0->interpret) (3.6.0)\n",
      "Collecting multiprocess (from SALib>=1.3.3->interpret-core[dash,debug,linear,notebook,plotly,sensitivity,shap]==0.5.0->interpret)\n",
      "  Downloading multiprocess-0.70.15-py311-none-any.whl.metadata (7.2 kB)\n",
      "Requirement already satisfied: threadpoolctl>=2.0.0 in c:\\users\\moya\\anaconda3\\lib\\site-packages (from scikit-learn>=0.18.1->interpret-core==0.5.0->interpret-core[dash,debug,linear,notebook,plotly,sensitivity,shap]==0.5.0->interpret) (2.2.0)\n",
      "Requirement already satisfied: tqdm>=4.27.0 in c:\\users\\moya\\anaconda3\\lib\\site-packages (from shap>=0.28.5->interpret-core[dash,debug,linear,notebook,plotly,sensitivity,shap]==0.5.0->interpret) (4.65.0)\n",
      "Collecting slicer==0.0.7 (from shap>=0.28.5->interpret-core[dash,debug,linear,notebook,plotly,sensitivity,shap]==0.5.0->interpret)\n",
      "  Downloading slicer-0.0.7-py3-none-any.whl (14 kB)\n",
      "Requirement already satisfied: numba in c:\\users\\moya\\anaconda3\\lib\\site-packages (from shap>=0.28.5->interpret-core[dash,debug,linear,notebook,plotly,sensitivity,shap]==0.5.0->interpret) (0.57.0)\n",
      "Requirement already satisfied: cloudpickle in c:\\users\\moya\\anaconda3\\lib\\site-packages (from shap>=0.28.5->interpret-core[dash,debug,linear,notebook,plotly,sensitivity,shap]==0.5.0->interpret) (2.2.1)\n",
      "Requirement already satisfied: pycparser in c:\\users\\moya\\anaconda3\\lib\\site-packages (from cffi>=1.12.2->gevent>=1.3.6->interpret-core[dash,debug,linear,notebook,plotly,sensitivity,shap]==0.5.0->interpret) (2.21)\n",
      "Requirement already satisfied: Jinja2>=3.0 in c:\\users\\moya\\anaconda3\\lib\\site-packages (from Flask<3.1,>=1.0.4->dash>=1.0.0->interpret-core[dash,debug,linear,notebook,plotly,sensitivity,shap]==0.5.0->interpret) (3.1.2)\n",
      "Requirement already satisfied: itsdangerous>=2.0 in c:\\users\\moya\\anaconda3\\lib\\site-packages (from Flask<3.1,>=1.0.4->dash>=1.0.0->interpret-core[dash,debug,linear,notebook,plotly,sensitivity,shap]==0.5.0->interpret) (2.0.1)\n",
      "Requirement already satisfied: click>=8.0 in c:\\users\\moya\\anaconda3\\lib\\site-packages (from Flask<3.1,>=1.0.4->dash>=1.0.0->interpret-core[dash,debug,linear,notebook,plotly,sensitivity,shap]==0.5.0->interpret) (8.0.4)\n",
      "Requirement already satisfied: parso<0.9.0,>=0.8.3 in c:\\users\\moya\\appdata\\roaming\\python\\python311\\site-packages (from jedi>=0.16->ipython>=5.5.0->interpret-core[dash,debug,linear,notebook,plotly,sensitivity,shap]==0.5.0->interpret) (0.8.3)\n",
      "Requirement already satisfied: platformdirs>=2.5 in c:\\users\\moya\\appdata\\roaming\\python\\python311\\site-packages (from jupyter-core!=5.0.*,>=4.12->ipykernel>=4.10.0->interpret-core[dash,debug,linear,notebook,plotly,sensitivity,shap]==0.5.0->interpret) (3.10.0)\n",
      "Requirement already satisfied: pywin32>=300 in c:\\users\\moya\\appdata\\roaming\\python\\python311\\site-packages (from jupyter-core!=5.0.*,>=4.12->ipykernel>=4.10.0->interpret-core[dash,debug,linear,notebook,plotly,sensitivity,shap]==0.5.0->interpret) (306)\n",
      "Requirement already satisfied: contourpy>=1.0.1 in c:\\users\\moya\\anaconda3\\lib\\site-packages (from matplotlib>=3.2.2->SALib>=1.3.3->interpret-core[dash,debug,linear,notebook,plotly,sensitivity,shap]==0.5.0->interpret) (1.0.5)\n",
      "Requirement already satisfied: cycler>=0.10 in c:\\users\\moya\\anaconda3\\lib\\site-packages (from matplotlib>=3.2.2->SALib>=1.3.3->interpret-core[dash,debug,linear,notebook,plotly,sensitivity,shap]==0.5.0->interpret) (0.11.0)\n",
      "Requirement already satisfied: fonttools>=4.22.0 in c:\\users\\moya\\anaconda3\\lib\\site-packages (from matplotlib>=3.2.2->SALib>=1.3.3->interpret-core[dash,debug,linear,notebook,plotly,sensitivity,shap]==0.5.0->interpret) (4.25.0)\n",
      "Requirement already satisfied: kiwisolver>=1.0.1 in c:\\users\\moya\\anaconda3\\lib\\site-packages (from matplotlib>=3.2.2->SALib>=1.3.3->interpret-core[dash,debug,linear,notebook,plotly,sensitivity,shap]==0.5.0->interpret) (1.4.4)\n",
      "Requirement already satisfied: pillow>=6.2.0 in c:\\users\\moya\\anaconda3\\lib\\site-packages (from matplotlib>=3.2.2->SALib>=1.3.3->interpret-core[dash,debug,linear,notebook,plotly,sensitivity,shap]==0.5.0->interpret) (9.4.0)\n",
      "Requirement already satisfied: pyparsing>=2.2.1 in c:\\users\\moya\\anaconda3\\lib\\site-packages (from matplotlib>=3.2.2->SALib>=1.3.3->interpret-core[dash,debug,linear,notebook,plotly,sensitivity,shap]==0.5.0->interpret) (3.0.9)\n",
      "Requirement already satisfied: wcwidth in c:\\users\\moya\\appdata\\roaming\\python\\python311\\site-packages (from prompt-toolkit!=3.0.37,<3.1.0,>=3.0.30->ipython>=5.5.0->interpret-core[dash,debug,linear,notebook,plotly,sensitivity,shap]==0.5.0->interpret) (0.2.6)\n",
      "Requirement already satisfied: six>=1.5 in c:\\users\\moya\\anaconda3\\lib\\site-packages (from python-dateutil>=2.8.1->pandas>=0.19.2->interpret-core==0.5.0->interpret-core[dash,debug,linear,notebook,plotly,sensitivity,shap]==0.5.0->interpret) (1.16.0)\n",
      "Requirement already satisfied: MarkupSafe>=2.1.1 in c:\\users\\moya\\anaconda3\\lib\\site-packages (from Werkzeug<3.1->dash>=1.0.0->interpret-core[dash,debug,linear,notebook,plotly,sensitivity,shap]==0.5.0->interpret) (2.1.1)\n",
      "Requirement already satisfied: zipp>=0.5 in c:\\users\\moya\\appdata\\roaming\\python\\python311\\site-packages (from importlib-metadata->dash>=1.0.0->interpret-core[dash,debug,linear,notebook,plotly,sensitivity,shap]==0.5.0->interpret) (3.17.0)\n",
      "Collecting dill>=0.2.5 (from interpret-core[dash,debug,linear,notebook,plotly,sensitivity,shap]==0.5.0->interpret)\n",
      "  Downloading dill-0.3.7-py3-none-any.whl.metadata (9.9 kB)\n",
      "Requirement already satisfied: llvmlite<0.41,>=0.40.0dev0 in c:\\users\\moya\\anaconda3\\lib\\site-packages (from numba->shap>=0.28.5->interpret-core[dash,debug,linear,notebook,plotly,sensitivity,shap]==0.5.0->interpret) (0.40.0)\n",
      "Requirement already satisfied: executing>=1.2.0 in c:\\users\\moya\\appdata\\roaming\\python\\python311\\site-packages (from stack-data->ipython>=5.5.0->interpret-core[dash,debug,linear,notebook,plotly,sensitivity,shap]==0.5.0->interpret) (1.2.0)\n",
      "Requirement already satisfied: asttokens>=2.1.0 in c:\\users\\moya\\appdata\\roaming\\python\\python311\\site-packages (from stack-data->ipython>=5.5.0->interpret-core[dash,debug,linear,notebook,plotly,sensitivity,shap]==0.5.0->interpret) (2.4.0)\n",
      "Requirement already satisfied: pure-eval in c:\\users\\moya\\appdata\\roaming\\python\\python311\\site-packages (from stack-data->ipython>=5.5.0->interpret-core[dash,debug,linear,notebook,plotly,sensitivity,shap]==0.5.0->interpret) (0.2.2)\n",
      "Downloading interpret-0.5.0-py3-none-any.whl (1.4 kB)\n",
      "Downloading interpret_core-0.5.0-py3-none-any.whl (15.8 MB)\n",
      "   ---------------------------------------- 0.0/15.8 MB ? eta -:--:--\n",
      "   - -------------------------------------- 0.4/15.8 MB 13.5 MB/s eta 0:00:02\n",
      "   -- ------------------------------------- 0.8/15.8 MB 10.0 MB/s eta 0:00:02\n",
      "   -- ------------------------------------- 1.0/15.8 MB 7.1 MB/s eta 0:00:03\n",
      "   -- ------------------------------------- 1.1/15.8 MB 7.2 MB/s eta 0:00:03\n",
      "   ---- ----------------------------------- 1.6/15.8 MB 6.7 MB/s eta 0:00:03\n",
      "   ----- ---------------------------------- 2.1/15.8 MB 7.8 MB/s eta 0:00:02\n",
      "   ------ --------------------------------- 2.6/15.8 MB 8.0 MB/s eta 0:00:02\n",
      "   ------- -------------------------------- 3.1/15.8 MB 8.3 MB/s eta 0:00:02\n",
      "   --------- ------------------------------ 3.7/15.8 MB 8.7 MB/s eta 0:00:02\n",
      "   ---------- ----------------------------- 4.2/15.8 MB 8.9 MB/s eta 0:00:02\n",
      "   ----------- ---------------------------- 4.6/15.8 MB 9.3 MB/s eta 0:00:02\n",
      "   ------------- -------------------------- 5.2/15.8 MB 9.2 MB/s eta 0:00:02\n",
      "   -------------- ------------------------- 5.7/15.8 MB 9.4 MB/s eta 0:00:02\n",
      "   ---------------- ----------------------- 6.3/15.8 MB 9.6 MB/s eta 0:00:01\n",
      "   ----------------- ---------------------- 6.9/15.8 MB 9.8 MB/s eta 0:00:01\n",
      "   ------------------ --------------------- 7.4/15.8 MB 9.9 MB/s eta 0:00:01\n",
      "   -------------------- ------------------- 8.0/15.8 MB 10.0 MB/s eta 0:00:01\n",
      "   --------------------- ------------------ 8.5/15.8 MB 10.1 MB/s eta 0:00:01\n",
      "   ----------------------- ---------------- 9.1/15.8 MB 10.2 MB/s eta 0:00:01\n",
      "   ------------------------ --------------- 9.7/15.8 MB 10.1 MB/s eta 0:00:01\n",
      "   ------------------------- -------------- 10.2/15.8 MB 10.2 MB/s eta 0:00:01\n",
      "   --------------------------- ------------ 10.7/15.8 MB 10.2 MB/s eta 0:00:01\n",
      "   ---------------------------- ----------- 11.3/15.8 MB 10.7 MB/s eta 0:00:01\n",
      "   ------------------------------ --------- 11.8/15.8 MB 11.3 MB/s eta 0:00:01\n",
      "   ------------------------------- -------- 12.4/15.8 MB 11.3 MB/s eta 0:00:01\n",
      "   -------------------------------- ------- 12.9/15.8 MB 11.5 MB/s eta 0:00:01\n",
      "   --------------------------------- ------ 13.2/15.8 MB 11.1 MB/s eta 0:00:01\n",
      "   ---------------------------------- ----- 13.4/15.8 MB 10.9 MB/s eta 0:00:01\n",
      "   ---------------------------------- ----- 13.8/15.8 MB 10.6 MB/s eta 0:00:01\n",
      "   ----------------------------------- ---- 14.0/15.8 MB 10.4 MB/s eta 0:00:01\n",
      "   ------------------------------------ --- 14.4/15.8 MB 10.2 MB/s eta 0:00:01\n",
      "   ------------------------------------- -- 14.8/15.8 MB 10.1 MB/s eta 0:00:01\n",
      "   -------------------------------------- - 15.1/15.8 MB 9.9 MB/s eta 0:00:01\n",
      "   ---------------------------------------  15.4/15.8 MB 9.8 MB/s eta 0:00:01\n",
      "   ---------------------------------------  15.7/15.8 MB 9.5 MB/s eta 0:00:01\n",
      "   ---------------------------------------  15.7/15.8 MB 9.4 MB/s eta 0:00:01\n",
      "   ---------------------------------------- 15.8/15.8 MB 9.1 MB/s eta 0:00:00\n",
      "Downloading gevent-23.9.1-cp311-cp311-win_amd64.whl (1.5 MB)\n",
      "   ---------------------------------------- 0.0/1.5 MB ? eta -:--:--\n",
      "   ----- ---------------------------------- 0.2/1.5 MB 6.1 MB/s eta 0:00:01\n",
      "   ---------------- ----------------------- 0.6/1.5 MB 6.8 MB/s eta 0:00:01\n",
      "   -------------------------- ------------- 1.0/1.5 MB 8.0 MB/s eta 0:00:01\n",
      "   ------------------------------------ --- 1.4/1.5 MB 8.0 MB/s eta 0:00:01\n",
      "   ---------------------------------------- 1.5/1.5 MB 6.9 MB/s eta 0:00:00\n",
      "Downloading shap-0.44.0-cp311-cp311-win_amd64.whl (447 kB)\n",
      "   ---------------------------------------- 0.0/448.0 kB ? eta -:--:--\n",
      "   ----------------------------- --------- 337.9/448.0 kB 10.6 MB/s eta 0:00:01\n",
      "   ---------------------------------------- 448.0/448.0 kB 5.6 MB/s eta 0:00:00\n",
      "Downloading greenlet-3.0.3-cp311-cp311-win_amd64.whl (292 kB)\n",
      "   ---------------------------------------- 0.0/292.8 kB ? eta -:--:--\n",
      "   ---------------------------------------- 292.8/292.8 kB 9.1 MB/s eta 0:00:00\n",
      "Downloading multiprocess-0.70.15-py311-none-any.whl (135 kB)\n",
      "   ---------------------------------------- 0.0/135.4 kB ? eta -:--:--\n",
      "   ---------------------------------------- 135.4/135.4 kB 7.8 MB/s eta 0:00:00\n",
      "Downloading dill-0.3.7-py3-none-any.whl (115 kB)\n",
      "   ---------------------------------------- 0.0/115.3 kB ? eta -:--:--\n",
      "   ---------------------------------------- 115.3/115.3 kB 6.6 MB/s eta 0:00:00\n",
      "Downloading zope.event-5.0-py3-none-any.whl (6.8 kB)\n",
      "Installing collected packages: zope.event, slicer, greenlet, dill, multiprocess, gevent, shap, SALib, interpret-core, dash-cytoscape, interpret\n",
      "  Attempting uninstall: greenlet\n",
      "    Found existing installation: greenlet 2.0.1\n",
      "    Uninstalling greenlet-2.0.1:\n",
      "      Successfully uninstalled greenlet-2.0.1\n",
      "  Attempting uninstall: dill\n",
      "    Found existing installation: dill 0.3.6\n",
      "    Uninstalling dill-0.3.6:\n",
      "      Successfully uninstalled dill-0.3.6\n",
      "Successfully installed SALib-1.4.7 dash-cytoscape-0.3.0 dill-0.3.7 gevent-23.9.1 greenlet-3.0.3 interpret-0.5.0 interpret-core-0.5.0 multiprocess-0.70.15 shap-0.44.0 slicer-0.0.7 zope.event-5.0\n",
      "Note: you may need to restart the kernel to use updated packages.\n"
     ]
    },
    {
     "name": "stderr",
     "output_type": "stream",
     "text": [
      "ERROR: pip's dependency resolver does not currently take into account all the packages that are installed. This behaviour is the source of the following dependency conflicts.\n",
      "spyder 5.4.3 requires jedi<0.19.0,>=0.17.2, but you have jedi 0.19.0 which is incompatible.\n"
     ]
    }
   ],
   "source": [
    "pip install interpret"
   ]
  },
  {
   "cell_type": "code",
   "execution_count": 12,
   "id": "a35855f8",
   "metadata": {},
   "outputs": [
    {
     "name": "stdout",
     "output_type": "stream",
     "text": [
      "Requirement already satisfied: shap in c:\\users\\moya\\anaconda3\\lib\\site-packages (0.44.0)\n",
      "Requirement already satisfied: numpy in c:\\users\\moya\\anaconda3\\lib\\site-packages (from shap) (1.24.4)\n",
      "Requirement already satisfied: scipy in c:\\users\\moya\\anaconda3\\lib\\site-packages (from shap) (1.10.1)\n",
      "Requirement already satisfied: scikit-learn in c:\\users\\moya\\anaconda3\\lib\\site-packages (from shap) (1.2.2)\n",
      "Requirement already satisfied: pandas in c:\\users\\moya\\anaconda3\\lib\\site-packages (from shap) (1.5.3)\n",
      "Requirement already satisfied: tqdm>=4.27.0 in c:\\users\\moya\\anaconda3\\lib\\site-packages (from shap) (4.65.0)\n",
      "Requirement already satisfied: packaging>20.9 in c:\\users\\moya\\anaconda3\\lib\\site-packages (from shap) (23.0)\n",
      "Requirement already satisfied: slicer==0.0.7 in c:\\users\\moya\\anaconda3\\lib\\site-packages (from shap) (0.0.7)\n",
      "Requirement already satisfied: numba in c:\\users\\moya\\anaconda3\\lib\\site-packages (from shap) (0.57.0)\n",
      "Requirement already satisfied: cloudpickle in c:\\users\\moya\\anaconda3\\lib\\site-packages (from shap) (2.2.1)\n",
      "Requirement already satisfied: colorama in c:\\users\\moya\\anaconda3\\lib\\site-packages (from tqdm>=4.27.0->shap) (0.4.6)\n",
      "Requirement already satisfied: llvmlite<0.41,>=0.40.0dev0 in c:\\users\\moya\\anaconda3\\lib\\site-packages (from numba->shap) (0.40.0)\n",
      "Requirement already satisfied: python-dateutil>=2.8.1 in c:\\users\\moya\\anaconda3\\lib\\site-packages (from pandas->shap) (2.8.2)\n",
      "Requirement already satisfied: pytz>=2020.1 in c:\\users\\moya\\anaconda3\\lib\\site-packages (from pandas->shap) (2022.7)\n",
      "Requirement already satisfied: joblib>=1.1.1 in c:\\users\\moya\\anaconda3\\lib\\site-packages (from scikit-learn->shap) (1.2.0)\n",
      "Requirement already satisfied: threadpoolctl>=2.0.0 in c:\\users\\moya\\anaconda3\\lib\\site-packages (from scikit-learn->shap) (2.2.0)\n",
      "Requirement already satisfied: six>=1.5 in c:\\users\\moya\\anaconda3\\lib\\site-packages (from python-dateutil>=2.8.1->pandas->shap) (1.16.0)\n",
      "Note: you may need to restart the kernel to use updated packages.\n"
     ]
    }
   ],
   "source": [
    "pip install shap"
   ]
  },
  {
   "cell_type": "code",
   "execution_count": 14,
   "id": "f71033d8",
   "metadata": {},
   "outputs": [
    {
     "data": {
      "text/html": [
       "<style type=\"text/css\">\n",
       "#T_b131e_row8_col1 {\n",
       "  background-color: lightgreen;\n",
       "}\n",
       "</style>\n",
       "<table id=\"T_b131e\">\n",
       "  <thead>\n",
       "    <tr>\n",
       "      <th class=\"blank level0\" >&nbsp;</th>\n",
       "      <th id=\"T_b131e_level0_col0\" class=\"col_heading level0 col0\" >Description</th>\n",
       "      <th id=\"T_b131e_level0_col1\" class=\"col_heading level0 col1\" >Value</th>\n",
       "    </tr>\n",
       "  </thead>\n",
       "  <tbody>\n",
       "    <tr>\n",
       "      <th id=\"T_b131e_level0_row0\" class=\"row_heading level0 row0\" >0</th>\n",
       "      <td id=\"T_b131e_row0_col0\" class=\"data row0 col0\" >Session id</td>\n",
       "      <td id=\"T_b131e_row0_col1\" class=\"data row0 col1\" >5746</td>\n",
       "    </tr>\n",
       "    <tr>\n",
       "      <th id=\"T_b131e_level0_row1\" class=\"row_heading level0 row1\" >1</th>\n",
       "      <td id=\"T_b131e_row1_col0\" class=\"data row1 col0\" >Target</td>\n",
       "      <td id=\"T_b131e_row1_col1\" class=\"data row1 col1\" >condition</td>\n",
       "    </tr>\n",
       "    <tr>\n",
       "      <th id=\"T_b131e_level0_row2\" class=\"row_heading level0 row2\" >2</th>\n",
       "      <td id=\"T_b131e_row2_col0\" class=\"data row2 col0\" >Target type</td>\n",
       "      <td id=\"T_b131e_row2_col1\" class=\"data row2 col1\" >Binary</td>\n",
       "    </tr>\n",
       "    <tr>\n",
       "      <th id=\"T_b131e_level0_row3\" class=\"row_heading level0 row3\" >3</th>\n",
       "      <td id=\"T_b131e_row3_col0\" class=\"data row3 col0\" >Original data shape</td>\n",
       "      <td id=\"T_b131e_row3_col1\" class=\"data row3 col1\" >(297, 14)</td>\n",
       "    </tr>\n",
       "    <tr>\n",
       "      <th id=\"T_b131e_level0_row4\" class=\"row_heading level0 row4\" >4</th>\n",
       "      <td id=\"T_b131e_row4_col0\" class=\"data row4 col0\" >Transformed data shape</td>\n",
       "      <td id=\"T_b131e_row4_col1\" class=\"data row4 col1\" >(297, 14)</td>\n",
       "    </tr>\n",
       "    <tr>\n",
       "      <th id=\"T_b131e_level0_row5\" class=\"row_heading level0 row5\" >5</th>\n",
       "      <td id=\"T_b131e_row5_col0\" class=\"data row5 col0\" >Transformed train set shape</td>\n",
       "      <td id=\"T_b131e_row5_col1\" class=\"data row5 col1\" >(207, 14)</td>\n",
       "    </tr>\n",
       "    <tr>\n",
       "      <th id=\"T_b131e_level0_row6\" class=\"row_heading level0 row6\" >6</th>\n",
       "      <td id=\"T_b131e_row6_col0\" class=\"data row6 col0\" >Transformed test set shape</td>\n",
       "      <td id=\"T_b131e_row6_col1\" class=\"data row6 col1\" >(90, 14)</td>\n",
       "    </tr>\n",
       "    <tr>\n",
       "      <th id=\"T_b131e_level0_row7\" class=\"row_heading level0 row7\" >7</th>\n",
       "      <td id=\"T_b131e_row7_col0\" class=\"data row7 col0\" >Numeric features</td>\n",
       "      <td id=\"T_b131e_row7_col1\" class=\"data row7 col1\" >13</td>\n",
       "    </tr>\n",
       "    <tr>\n",
       "      <th id=\"T_b131e_level0_row8\" class=\"row_heading level0 row8\" >8</th>\n",
       "      <td id=\"T_b131e_row8_col0\" class=\"data row8 col0\" >Preprocess</td>\n",
       "      <td id=\"T_b131e_row8_col1\" class=\"data row8 col1\" >True</td>\n",
       "    </tr>\n",
       "    <tr>\n",
       "      <th id=\"T_b131e_level0_row9\" class=\"row_heading level0 row9\" >9</th>\n",
       "      <td id=\"T_b131e_row9_col0\" class=\"data row9 col0\" >Imputation type</td>\n",
       "      <td id=\"T_b131e_row9_col1\" class=\"data row9 col1\" >simple</td>\n",
       "    </tr>\n",
       "    <tr>\n",
       "      <th id=\"T_b131e_level0_row10\" class=\"row_heading level0 row10\" >10</th>\n",
       "      <td id=\"T_b131e_row10_col0\" class=\"data row10 col0\" >Numeric imputation</td>\n",
       "      <td id=\"T_b131e_row10_col1\" class=\"data row10 col1\" >mean</td>\n",
       "    </tr>\n",
       "    <tr>\n",
       "      <th id=\"T_b131e_level0_row11\" class=\"row_heading level0 row11\" >11</th>\n",
       "      <td id=\"T_b131e_row11_col0\" class=\"data row11 col0\" >Categorical imputation</td>\n",
       "      <td id=\"T_b131e_row11_col1\" class=\"data row11 col1\" >mode</td>\n",
       "    </tr>\n",
       "    <tr>\n",
       "      <th id=\"T_b131e_level0_row12\" class=\"row_heading level0 row12\" >12</th>\n",
       "      <td id=\"T_b131e_row12_col0\" class=\"data row12 col0\" >Fold Generator</td>\n",
       "      <td id=\"T_b131e_row12_col1\" class=\"data row12 col1\" >StratifiedKFold</td>\n",
       "    </tr>\n",
       "    <tr>\n",
       "      <th id=\"T_b131e_level0_row13\" class=\"row_heading level0 row13\" >13</th>\n",
       "      <td id=\"T_b131e_row13_col0\" class=\"data row13 col0\" >Fold Number</td>\n",
       "      <td id=\"T_b131e_row13_col1\" class=\"data row13 col1\" >10</td>\n",
       "    </tr>\n",
       "    <tr>\n",
       "      <th id=\"T_b131e_level0_row14\" class=\"row_heading level0 row14\" >14</th>\n",
       "      <td id=\"T_b131e_row14_col0\" class=\"data row14 col0\" >CPU Jobs</td>\n",
       "      <td id=\"T_b131e_row14_col1\" class=\"data row14 col1\" >-1</td>\n",
       "    </tr>\n",
       "    <tr>\n",
       "      <th id=\"T_b131e_level0_row15\" class=\"row_heading level0 row15\" >15</th>\n",
       "      <td id=\"T_b131e_row15_col0\" class=\"data row15 col0\" >Use GPU</td>\n",
       "      <td id=\"T_b131e_row15_col1\" class=\"data row15 col1\" >False</td>\n",
       "    </tr>\n",
       "    <tr>\n",
       "      <th id=\"T_b131e_level0_row16\" class=\"row_heading level0 row16\" >16</th>\n",
       "      <td id=\"T_b131e_row16_col0\" class=\"data row16 col0\" >Log Experiment</td>\n",
       "      <td id=\"T_b131e_row16_col1\" class=\"data row16 col1\" >False</td>\n",
       "    </tr>\n",
       "    <tr>\n",
       "      <th id=\"T_b131e_level0_row17\" class=\"row_heading level0 row17\" >17</th>\n",
       "      <td id=\"T_b131e_row17_col0\" class=\"data row17 col0\" >Experiment Name</td>\n",
       "      <td id=\"T_b131e_row17_col1\" class=\"data row17 col1\" >clf-default-name</td>\n",
       "    </tr>\n",
       "    <tr>\n",
       "      <th id=\"T_b131e_level0_row18\" class=\"row_heading level0 row18\" >18</th>\n",
       "      <td id=\"T_b131e_row18_col0\" class=\"data row18 col0\" >USI</td>\n",
       "      <td id=\"T_b131e_row18_col1\" class=\"data row18 col1\" >b192</td>\n",
       "    </tr>\n",
       "  </tbody>\n",
       "</table>\n"
      ],
      "text/plain": [
       "<pandas.io.formats.style.Styler at 0x1fa122d6fd0>"
      ]
     },
     "metadata": {},
     "output_type": "display_data"
    },
    {
     "data": {
      "text/html": [],
      "text/plain": [
       "<IPython.core.display.HTML object>"
      ]
     },
     "metadata": {},
     "output_type": "display_data"
    },
    {
     "data": {
      "text/html": [
       "<style type=\"text/css\">\n",
       "#T_53a6e_row10_col0, #T_53a6e_row10_col1, #T_53a6e_row10_col2, #T_53a6e_row10_col3, #T_53a6e_row10_col4, #T_53a6e_row10_col5, #T_53a6e_row10_col6 {\n",
       "  background: yellow;\n",
       "}\n",
       "</style>\n",
       "<table id=\"T_53a6e\">\n",
       "  <thead>\n",
       "    <tr>\n",
       "      <th class=\"blank level0\" >&nbsp;</th>\n",
       "      <th id=\"T_53a6e_level0_col0\" class=\"col_heading level0 col0\" >Accuracy</th>\n",
       "      <th id=\"T_53a6e_level0_col1\" class=\"col_heading level0 col1\" >AUC</th>\n",
       "      <th id=\"T_53a6e_level0_col2\" class=\"col_heading level0 col2\" >Recall</th>\n",
       "      <th id=\"T_53a6e_level0_col3\" class=\"col_heading level0 col3\" >Prec.</th>\n",
       "      <th id=\"T_53a6e_level0_col4\" class=\"col_heading level0 col4\" >F1</th>\n",
       "      <th id=\"T_53a6e_level0_col5\" class=\"col_heading level0 col5\" >Kappa</th>\n",
       "      <th id=\"T_53a6e_level0_col6\" class=\"col_heading level0 col6\" >MCC</th>\n",
       "    </tr>\n",
       "    <tr>\n",
       "      <th class=\"index_name level0\" >Fold</th>\n",
       "      <th class=\"blank col0\" >&nbsp;</th>\n",
       "      <th class=\"blank col1\" >&nbsp;</th>\n",
       "      <th class=\"blank col2\" >&nbsp;</th>\n",
       "      <th class=\"blank col3\" >&nbsp;</th>\n",
       "      <th class=\"blank col4\" >&nbsp;</th>\n",
       "      <th class=\"blank col5\" >&nbsp;</th>\n",
       "      <th class=\"blank col6\" >&nbsp;</th>\n",
       "    </tr>\n",
       "  </thead>\n",
       "  <tbody>\n",
       "    <tr>\n",
       "      <th id=\"T_53a6e_level0_row0\" class=\"row_heading level0 row0\" >0</th>\n",
       "      <td id=\"T_53a6e_row0_col0\" class=\"data row0 col0\" >0.7619</td>\n",
       "      <td id=\"T_53a6e_row0_col1\" class=\"data row0 col1\" >0.8241</td>\n",
       "      <td id=\"T_53a6e_row0_col2\" class=\"data row0 col2\" >0.7778</td>\n",
       "      <td id=\"T_53a6e_row0_col3\" class=\"data row0 col3\" >0.7000</td>\n",
       "      <td id=\"T_53a6e_row0_col4\" class=\"data row0 col4\" >0.7368</td>\n",
       "      <td id=\"T_53a6e_row0_col5\" class=\"data row0 col5\" >0.5205</td>\n",
       "      <td id=\"T_53a6e_row0_col6\" class=\"data row0 col6\" >0.5230</td>\n",
       "    </tr>\n",
       "    <tr>\n",
       "      <th id=\"T_53a6e_level0_row1\" class=\"row_heading level0 row1\" >1</th>\n",
       "      <td id=\"T_53a6e_row1_col0\" class=\"data row1 col0\" >0.9048</td>\n",
       "      <td id=\"T_53a6e_row1_col1\" class=\"data row1 col1\" >0.9352</td>\n",
       "      <td id=\"T_53a6e_row1_col2\" class=\"data row1 col2\" >1.0000</td>\n",
       "      <td id=\"T_53a6e_row1_col3\" class=\"data row1 col3\" >0.8182</td>\n",
       "      <td id=\"T_53a6e_row1_col4\" class=\"data row1 col4\" >0.9000</td>\n",
       "      <td id=\"T_53a6e_row1_col5\" class=\"data row1 col5\" >0.8108</td>\n",
       "      <td id=\"T_53a6e_row1_col6\" class=\"data row1 col6\" >0.8257</td>\n",
       "    </tr>\n",
       "    <tr>\n",
       "      <th id=\"T_53a6e_level0_row2\" class=\"row_heading level0 row2\" >2</th>\n",
       "      <td id=\"T_53a6e_row2_col0\" class=\"data row2 col0\" >0.8571</td>\n",
       "      <td id=\"T_53a6e_row2_col1\" class=\"data row2 col1\" >0.9364</td>\n",
       "      <td id=\"T_53a6e_row2_col2\" class=\"data row2 col2\" >0.8000</td>\n",
       "      <td id=\"T_53a6e_row2_col3\" class=\"data row2 col3\" >0.8889</td>\n",
       "      <td id=\"T_53a6e_row2_col4\" class=\"data row2 col4\" >0.8421</td>\n",
       "      <td id=\"T_53a6e_row2_col5\" class=\"data row2 col5\" >0.7123</td>\n",
       "      <td id=\"T_53a6e_row2_col6\" class=\"data row2 col6\" >0.7156</td>\n",
       "    </tr>\n",
       "    <tr>\n",
       "      <th id=\"T_53a6e_level0_row3\" class=\"row_heading level0 row3\" >3</th>\n",
       "      <td id=\"T_53a6e_row3_col0\" class=\"data row3 col0\" >0.7143</td>\n",
       "      <td id=\"T_53a6e_row3_col1\" class=\"data row3 col1\" >0.7455</td>\n",
       "      <td id=\"T_53a6e_row3_col2\" class=\"data row3 col2\" >0.6000</td>\n",
       "      <td id=\"T_53a6e_row3_col3\" class=\"data row3 col3\" >0.7500</td>\n",
       "      <td id=\"T_53a6e_row3_col4\" class=\"data row3 col4\" >0.6667</td>\n",
       "      <td id=\"T_53a6e_row3_col5\" class=\"data row3 col5\" >0.4220</td>\n",
       "      <td id=\"T_53a6e_row3_col6\" class=\"data row3 col6\" >0.4301</td>\n",
       "    </tr>\n",
       "    <tr>\n",
       "      <th id=\"T_53a6e_level0_row4\" class=\"row_heading level0 row4\" >4</th>\n",
       "      <td id=\"T_53a6e_row4_col0\" class=\"data row4 col0\" >0.9048</td>\n",
       "      <td id=\"T_53a6e_row4_col1\" class=\"data row4 col1\" >0.9727</td>\n",
       "      <td id=\"T_53a6e_row4_col2\" class=\"data row4 col2\" >0.9000</td>\n",
       "      <td id=\"T_53a6e_row4_col3\" class=\"data row4 col3\" >0.9000</td>\n",
       "      <td id=\"T_53a6e_row4_col4\" class=\"data row4 col4\" >0.9000</td>\n",
       "      <td id=\"T_53a6e_row4_col5\" class=\"data row4 col5\" >0.8091</td>\n",
       "      <td id=\"T_53a6e_row4_col6\" class=\"data row4 col6\" >0.8091</td>\n",
       "    </tr>\n",
       "    <tr>\n",
       "      <th id=\"T_53a6e_level0_row5\" class=\"row_heading level0 row5\" >5</th>\n",
       "      <td id=\"T_53a6e_row5_col0\" class=\"data row5 col0\" >0.7619</td>\n",
       "      <td id=\"T_53a6e_row5_col1\" class=\"data row5 col1\" >0.7182</td>\n",
       "      <td id=\"T_53a6e_row5_col2\" class=\"data row5 col2\" >0.6000</td>\n",
       "      <td id=\"T_53a6e_row5_col3\" class=\"data row5 col3\" >0.8571</td>\n",
       "      <td id=\"T_53a6e_row5_col4\" class=\"data row5 col4\" >0.7059</td>\n",
       "      <td id=\"T_53a6e_row5_col5\" class=\"data row5 col5\" >0.5161</td>\n",
       "      <td id=\"T_53a6e_row5_col6\" class=\"data row5 col6\" >0.5394</td>\n",
       "    </tr>\n",
       "    <tr>\n",
       "      <th id=\"T_53a6e_level0_row6\" class=\"row_heading level0 row6\" >6</th>\n",
       "      <td id=\"T_53a6e_row6_col0\" class=\"data row6 col0\" >0.9048</td>\n",
       "      <td id=\"T_53a6e_row6_col1\" class=\"data row6 col1\" >0.9455</td>\n",
       "      <td id=\"T_53a6e_row6_col2\" class=\"data row6 col2\" >0.9000</td>\n",
       "      <td id=\"T_53a6e_row6_col3\" class=\"data row6 col3\" >0.9000</td>\n",
       "      <td id=\"T_53a6e_row6_col4\" class=\"data row6 col4\" >0.9000</td>\n",
       "      <td id=\"T_53a6e_row6_col5\" class=\"data row6 col5\" >0.8091</td>\n",
       "      <td id=\"T_53a6e_row6_col6\" class=\"data row6 col6\" >0.8091</td>\n",
       "    </tr>\n",
       "    <tr>\n",
       "      <th id=\"T_53a6e_level0_row7\" class=\"row_heading level0 row7\" >7</th>\n",
       "      <td id=\"T_53a6e_row7_col0\" class=\"data row7 col0\" >1.0000</td>\n",
       "      <td id=\"T_53a6e_row7_col1\" class=\"data row7 col1\" >1.0000</td>\n",
       "      <td id=\"T_53a6e_row7_col2\" class=\"data row7 col2\" >1.0000</td>\n",
       "      <td id=\"T_53a6e_row7_col3\" class=\"data row7 col3\" >1.0000</td>\n",
       "      <td id=\"T_53a6e_row7_col4\" class=\"data row7 col4\" >1.0000</td>\n",
       "      <td id=\"T_53a6e_row7_col5\" class=\"data row7 col5\" >1.0000</td>\n",
       "      <td id=\"T_53a6e_row7_col6\" class=\"data row7 col6\" >1.0000</td>\n",
       "    </tr>\n",
       "    <tr>\n",
       "      <th id=\"T_53a6e_level0_row8\" class=\"row_heading level0 row8\" >8</th>\n",
       "      <td id=\"T_53a6e_row8_col0\" class=\"data row8 col0\" >0.7500</td>\n",
       "      <td id=\"T_53a6e_row8_col1\" class=\"data row8 col1\" >0.7778</td>\n",
       "      <td id=\"T_53a6e_row8_col2\" class=\"data row8 col2\" >0.6667</td>\n",
       "      <td id=\"T_53a6e_row8_col3\" class=\"data row8 col3\" >0.7500</td>\n",
       "      <td id=\"T_53a6e_row8_col4\" class=\"data row8 col4\" >0.7059</td>\n",
       "      <td id=\"T_53a6e_row8_col5\" class=\"data row8 col5\" >0.4898</td>\n",
       "      <td id=\"T_53a6e_row8_col6\" class=\"data row8 col6\" >0.4924</td>\n",
       "    </tr>\n",
       "    <tr>\n",
       "      <th id=\"T_53a6e_level0_row9\" class=\"row_heading level0 row9\" >9</th>\n",
       "      <td id=\"T_53a6e_row9_col0\" class=\"data row9 col0\" >0.7000</td>\n",
       "      <td id=\"T_53a6e_row9_col1\" class=\"data row9 col1\" >0.8081</td>\n",
       "      <td id=\"T_53a6e_row9_col2\" class=\"data row9 col2\" >0.6667</td>\n",
       "      <td id=\"T_53a6e_row9_col3\" class=\"data row9 col3\" >0.6667</td>\n",
       "      <td id=\"T_53a6e_row9_col4\" class=\"data row9 col4\" >0.6667</td>\n",
       "      <td id=\"T_53a6e_row9_col5\" class=\"data row9 col5\" >0.3939</td>\n",
       "      <td id=\"T_53a6e_row9_col6\" class=\"data row9 col6\" >0.3939</td>\n",
       "    </tr>\n",
       "    <tr>\n",
       "      <th id=\"T_53a6e_level0_row10\" class=\"row_heading level0 row10\" >Mean</th>\n",
       "      <td id=\"T_53a6e_row10_col0\" class=\"data row10 col0\" >0.8260</td>\n",
       "      <td id=\"T_53a6e_row10_col1\" class=\"data row10 col1\" >0.8663</td>\n",
       "      <td id=\"T_53a6e_row10_col2\" class=\"data row10 col2\" >0.7911</td>\n",
       "      <td id=\"T_53a6e_row10_col3\" class=\"data row10 col3\" >0.8231</td>\n",
       "      <td id=\"T_53a6e_row10_col4\" class=\"data row10 col4\" >0.8024</td>\n",
       "      <td id=\"T_53a6e_row10_col5\" class=\"data row10 col5\" >0.6484</td>\n",
       "      <td id=\"T_53a6e_row10_col6\" class=\"data row10 col6\" >0.6538</td>\n",
       "    </tr>\n",
       "    <tr>\n",
       "      <th id=\"T_53a6e_level0_row11\" class=\"row_heading level0 row11\" >Std</th>\n",
       "      <td id=\"T_53a6e_row11_col0\" class=\"data row11 col0\" >0.0960</td>\n",
       "      <td id=\"T_53a6e_row11_col1\" class=\"data row11 col1\" >0.0973</td>\n",
       "      <td id=\"T_53a6e_row11_col2\" class=\"data row11 col2\" >0.1467</td>\n",
       "      <td id=\"T_53a6e_row11_col3\" class=\"data row11 col3\" >0.0995</td>\n",
       "      <td id=\"T_53a6e_row11_col4\" class=\"data row11 col4\" >0.1136</td>\n",
       "      <td id=\"T_53a6e_row11_col5\" class=\"data row11 col5\" >0.1951</td>\n",
       "      <td id=\"T_53a6e_row11_col6\" class=\"data row11 col6\" >0.1937</td>\n",
       "    </tr>\n",
       "  </tbody>\n",
       "</table>\n"
      ],
      "text/plain": [
       "<pandas.io.formats.style.Styler at 0x1fa12376d50>"
      ]
     },
     "metadata": {},
     "output_type": "display_data"
    },
    {
     "data": {
      "text/html": [],
      "text/plain": [
       "<IPython.core.display.HTML object>"
      ]
     },
     "metadata": {},
     "output_type": "display_data"
    },
    {
     "data": {
      "text/html": [],
      "text/plain": [
       "<IPython.core.display.HTML object>"
      ]
     },
     "metadata": {},
     "output_type": "display_data"
    },
    {
     "data": {
      "text/html": [
       "<style type=\"text/css\">\n",
       "#T_f00ba_row10_col0, #T_f00ba_row10_col1, #T_f00ba_row10_col2, #T_f00ba_row10_col3, #T_f00ba_row10_col4, #T_f00ba_row10_col5, #T_f00ba_row10_col6 {\n",
       "  background: yellow;\n",
       "}\n",
       "</style>\n",
       "<table id=\"T_f00ba\">\n",
       "  <thead>\n",
       "    <tr>\n",
       "      <th class=\"blank level0\" >&nbsp;</th>\n",
       "      <th id=\"T_f00ba_level0_col0\" class=\"col_heading level0 col0\" >Accuracy</th>\n",
       "      <th id=\"T_f00ba_level0_col1\" class=\"col_heading level0 col1\" >AUC</th>\n",
       "      <th id=\"T_f00ba_level0_col2\" class=\"col_heading level0 col2\" >Recall</th>\n",
       "      <th id=\"T_f00ba_level0_col3\" class=\"col_heading level0 col3\" >Prec.</th>\n",
       "      <th id=\"T_f00ba_level0_col4\" class=\"col_heading level0 col4\" >F1</th>\n",
       "      <th id=\"T_f00ba_level0_col5\" class=\"col_heading level0 col5\" >Kappa</th>\n",
       "      <th id=\"T_f00ba_level0_col6\" class=\"col_heading level0 col6\" >MCC</th>\n",
       "    </tr>\n",
       "    <tr>\n",
       "      <th class=\"index_name level0\" >Fold</th>\n",
       "      <th class=\"blank col0\" >&nbsp;</th>\n",
       "      <th class=\"blank col1\" >&nbsp;</th>\n",
       "      <th class=\"blank col2\" >&nbsp;</th>\n",
       "      <th class=\"blank col3\" >&nbsp;</th>\n",
       "      <th class=\"blank col4\" >&nbsp;</th>\n",
       "      <th class=\"blank col5\" >&nbsp;</th>\n",
       "      <th class=\"blank col6\" >&nbsp;</th>\n",
       "    </tr>\n",
       "  </thead>\n",
       "  <tbody>\n",
       "    <tr>\n",
       "      <th id=\"T_f00ba_level0_row0\" class=\"row_heading level0 row0\" >0</th>\n",
       "      <td id=\"T_f00ba_row0_col0\" class=\"data row0 col0\" >0.6667</td>\n",
       "      <td id=\"T_f00ba_row0_col1\" class=\"data row0 col1\" >0.6528</td>\n",
       "      <td id=\"T_f00ba_row0_col2\" class=\"data row0 col2\" >0.5556</td>\n",
       "      <td id=\"T_f00ba_row0_col3\" class=\"data row0 col3\" >0.6250</td>\n",
       "      <td id=\"T_f00ba_row0_col4\" class=\"data row0 col4\" >0.5882</td>\n",
       "      <td id=\"T_f00ba_row0_col5\" class=\"data row0 col5\" >0.3099</td>\n",
       "      <td id=\"T_f00ba_row0_col6\" class=\"data row0 col6\" >0.3114</td>\n",
       "    </tr>\n",
       "    <tr>\n",
       "      <th id=\"T_f00ba_level0_row1\" class=\"row_heading level0 row1\" >1</th>\n",
       "      <td id=\"T_f00ba_row1_col0\" class=\"data row1 col0\" >0.7143</td>\n",
       "      <td id=\"T_f00ba_row1_col1\" class=\"data row1 col1\" >0.7083</td>\n",
       "      <td id=\"T_f00ba_row1_col2\" class=\"data row1 col2\" >0.6667</td>\n",
       "      <td id=\"T_f00ba_row1_col3\" class=\"data row1 col3\" >0.6667</td>\n",
       "      <td id=\"T_f00ba_row1_col4\" class=\"data row1 col4\" >0.6667</td>\n",
       "      <td id=\"T_f00ba_row1_col5\" class=\"data row1 col5\" >0.4167</td>\n",
       "      <td id=\"T_f00ba_row1_col6\" class=\"data row1 col6\" >0.4167</td>\n",
       "    </tr>\n",
       "    <tr>\n",
       "      <th id=\"T_f00ba_level0_row2\" class=\"row_heading level0 row2\" >2</th>\n",
       "      <td id=\"T_f00ba_row2_col0\" class=\"data row2 col0\" >0.6667</td>\n",
       "      <td id=\"T_f00ba_row2_col1\" class=\"data row2 col1\" >0.6682</td>\n",
       "      <td id=\"T_f00ba_row2_col2\" class=\"data row2 col2\" >0.7000</td>\n",
       "      <td id=\"T_f00ba_row2_col3\" class=\"data row2 col3\" >0.6364</td>\n",
       "      <td id=\"T_f00ba_row2_col4\" class=\"data row2 col4\" >0.6667</td>\n",
       "      <td id=\"T_f00ba_row2_col5\" class=\"data row2 col5\" >0.3348</td>\n",
       "      <td id=\"T_f00ba_row2_col6\" class=\"data row2 col6\" >0.3364</td>\n",
       "    </tr>\n",
       "    <tr>\n",
       "      <th id=\"T_f00ba_level0_row3\" class=\"row_heading level0 row3\" >3</th>\n",
       "      <td id=\"T_f00ba_row3_col0\" class=\"data row3 col0\" >0.6667</td>\n",
       "      <td id=\"T_f00ba_row3_col1\" class=\"data row3 col1\" >0.6636</td>\n",
       "      <td id=\"T_f00ba_row3_col2\" class=\"data row3 col2\" >0.6000</td>\n",
       "      <td id=\"T_f00ba_row3_col3\" class=\"data row3 col3\" >0.6667</td>\n",
       "      <td id=\"T_f00ba_row3_col4\" class=\"data row3 col4\" >0.6316</td>\n",
       "      <td id=\"T_f00ba_row3_col5\" class=\"data row3 col5\" >0.3288</td>\n",
       "      <td id=\"T_f00ba_row3_col6\" class=\"data row3 col6\" >0.3303</td>\n",
       "    </tr>\n",
       "    <tr>\n",
       "      <th id=\"T_f00ba_level0_row4\" class=\"row_heading level0 row4\" >4</th>\n",
       "      <td id=\"T_f00ba_row4_col0\" class=\"data row4 col0\" >0.6667</td>\n",
       "      <td id=\"T_f00ba_row4_col1\" class=\"data row4 col1\" >0.6682</td>\n",
       "      <td id=\"T_f00ba_row4_col2\" class=\"data row4 col2\" >0.7000</td>\n",
       "      <td id=\"T_f00ba_row4_col3\" class=\"data row4 col3\" >0.6364</td>\n",
       "      <td id=\"T_f00ba_row4_col4\" class=\"data row4 col4\" >0.6667</td>\n",
       "      <td id=\"T_f00ba_row4_col5\" class=\"data row4 col5\" >0.3348</td>\n",
       "      <td id=\"T_f00ba_row4_col6\" class=\"data row4 col6\" >0.3364</td>\n",
       "    </tr>\n",
       "    <tr>\n",
       "      <th id=\"T_f00ba_level0_row5\" class=\"row_heading level0 row5\" >5</th>\n",
       "      <td id=\"T_f00ba_row5_col0\" class=\"data row5 col0\" >0.6190</td>\n",
       "      <td id=\"T_f00ba_row5_col1\" class=\"data row5 col1\" >0.6136</td>\n",
       "      <td id=\"T_f00ba_row5_col2\" class=\"data row5 col2\" >0.5000</td>\n",
       "      <td id=\"T_f00ba_row5_col3\" class=\"data row5 col3\" >0.6250</td>\n",
       "      <td id=\"T_f00ba_row5_col4\" class=\"data row5 col4\" >0.5556</td>\n",
       "      <td id=\"T_f00ba_row5_col5\" class=\"data row5 col5\" >0.2294</td>\n",
       "      <td id=\"T_f00ba_row5_col6\" class=\"data row5 col6\" >0.2337</td>\n",
       "    </tr>\n",
       "    <tr>\n",
       "      <th id=\"T_f00ba_level0_row6\" class=\"row_heading level0 row6\" >6</th>\n",
       "      <td id=\"T_f00ba_row6_col0\" class=\"data row6 col0\" >0.8095</td>\n",
       "      <td id=\"T_f00ba_row6_col1\" class=\"data row6 col1\" >0.8136</td>\n",
       "      <td id=\"T_f00ba_row6_col2\" class=\"data row6 col2\" >0.9000</td>\n",
       "      <td id=\"T_f00ba_row6_col3\" class=\"data row6 col3\" >0.7500</td>\n",
       "      <td id=\"T_f00ba_row6_col4\" class=\"data row6 col4\" >0.8182</td>\n",
       "      <td id=\"T_f00ba_row6_col5\" class=\"data row6 col5\" >0.6216</td>\n",
       "      <td id=\"T_f00ba_row6_col6\" class=\"data row6 col6\" >0.6331</td>\n",
       "    </tr>\n",
       "    <tr>\n",
       "      <th id=\"T_f00ba_level0_row7\" class=\"row_heading level0 row7\" >7</th>\n",
       "      <td id=\"T_f00ba_row7_col0\" class=\"data row7 col0\" >0.7500</td>\n",
       "      <td id=\"T_f00ba_row7_col1\" class=\"data row7 col1\" >0.7424</td>\n",
       "      <td id=\"T_f00ba_row7_col2\" class=\"data row7 col2\" >0.6667</td>\n",
       "      <td id=\"T_f00ba_row7_col3\" class=\"data row7 col3\" >0.7500</td>\n",
       "      <td id=\"T_f00ba_row7_col4\" class=\"data row7 col4\" >0.7059</td>\n",
       "      <td id=\"T_f00ba_row7_col5\" class=\"data row7 col5\" >0.4898</td>\n",
       "      <td id=\"T_f00ba_row7_col6\" class=\"data row7 col6\" >0.4924</td>\n",
       "    </tr>\n",
       "    <tr>\n",
       "      <th id=\"T_f00ba_level0_row8\" class=\"row_heading level0 row8\" >8</th>\n",
       "      <td id=\"T_f00ba_row8_col0\" class=\"data row8 col0\" >0.6500</td>\n",
       "      <td id=\"T_f00ba_row8_col1\" class=\"data row8 col1\" >0.6414</td>\n",
       "      <td id=\"T_f00ba_row8_col2\" class=\"data row8 col2\" >0.5556</td>\n",
       "      <td id=\"T_f00ba_row8_col3\" class=\"data row8 col3\" >0.6250</td>\n",
       "      <td id=\"T_f00ba_row8_col4\" class=\"data row8 col4\" >0.5882</td>\n",
       "      <td id=\"T_f00ba_row8_col5\" class=\"data row8 col5\" >0.2857</td>\n",
       "      <td id=\"T_f00ba_row8_col6\" class=\"data row8 col6\" >0.2872</td>\n",
       "    </tr>\n",
       "    <tr>\n",
       "      <th id=\"T_f00ba_level0_row9\" class=\"row_heading level0 row9\" >9</th>\n",
       "      <td id=\"T_f00ba_row9_col0\" class=\"data row9 col0\" >0.6000</td>\n",
       "      <td id=\"T_f00ba_row9_col1\" class=\"data row9 col1\" >0.5960</td>\n",
       "      <td id=\"T_f00ba_row9_col2\" class=\"data row9 col2\" >0.5556</td>\n",
       "      <td id=\"T_f00ba_row9_col3\" class=\"data row9 col3\" >0.5556</td>\n",
       "      <td id=\"T_f00ba_row9_col4\" class=\"data row9 col4\" >0.5556</td>\n",
       "      <td id=\"T_f00ba_row9_col5\" class=\"data row9 col5\" >0.1919</td>\n",
       "      <td id=\"T_f00ba_row9_col6\" class=\"data row9 col6\" >0.1919</td>\n",
       "    </tr>\n",
       "    <tr>\n",
       "      <th id=\"T_f00ba_level0_row10\" class=\"row_heading level0 row10\" >Mean</th>\n",
       "      <td id=\"T_f00ba_row10_col0\" class=\"data row10 col0\" >0.6810</td>\n",
       "      <td id=\"T_f00ba_row10_col1\" class=\"data row10 col1\" >0.6768</td>\n",
       "      <td id=\"T_f00ba_row10_col2\" class=\"data row10 col2\" >0.6400</td>\n",
       "      <td id=\"T_f00ba_row10_col3\" class=\"data row10 col3\" >0.6537</td>\n",
       "      <td id=\"T_f00ba_row10_col4\" class=\"data row10 col4\" >0.6443</td>\n",
       "      <td id=\"T_f00ba_row10_col5\" class=\"data row10 col5\" >0.3543</td>\n",
       "      <td id=\"T_f00ba_row10_col6\" class=\"data row10 col6\" >0.3569</td>\n",
       "    </tr>\n",
       "    <tr>\n",
       "      <th id=\"T_f00ba_level0_row11\" class=\"row_heading level0 row11\" >Std</th>\n",
       "      <td id=\"T_f00ba_row11_col0\" class=\"data row11 col0\" >0.0588</td>\n",
       "      <td id=\"T_f00ba_row11_col1\" class=\"data row11 col1\" >0.0606</td>\n",
       "      <td id=\"T_f00ba_row11_col2\" class=\"data row11 col2\" >0.1090</td>\n",
       "      <td id=\"T_f00ba_row11_col3\" class=\"data row11 col3\" >0.0562</td>\n",
       "      <td id=\"T_f00ba_row11_col4\" class=\"data row11 col4\" >0.0760</td>\n",
       "      <td id=\"T_f00ba_row11_col5\" class=\"data row11 col5\" >0.1199</td>\n",
       "      <td id=\"T_f00ba_row11_col6\" class=\"data row11 col6\" >0.1221</td>\n",
       "    </tr>\n",
       "  </tbody>\n",
       "</table>\n"
      ],
      "text/plain": [
       "<pandas.io.formats.style.Styler at 0x1fa134ac950>"
      ]
     },
     "metadata": {},
     "output_type": "display_data"
    },
    {
     "data": {
      "text/html": [],
      "text/plain": [
       "<IPython.core.display.HTML object>"
      ]
     },
     "metadata": {},
     "output_type": "display_data"
    },
    {
     "data": {
      "text/html": [],
      "text/plain": [
       "<IPython.core.display.HTML object>"
      ]
     },
     "metadata": {},
     "output_type": "display_data"
    },
    {
     "data": {
      "text/html": [
       "<style type=\"text/css\">\n",
       "#T_de568_row10_col0, #T_de568_row10_col1, #T_de568_row10_col2, #T_de568_row10_col3, #T_de568_row10_col4, #T_de568_row10_col5, #T_de568_row10_col6 {\n",
       "  background: yellow;\n",
       "}\n",
       "</style>\n",
       "<table id=\"T_de568\">\n",
       "  <thead>\n",
       "    <tr>\n",
       "      <th class=\"blank level0\" >&nbsp;</th>\n",
       "      <th id=\"T_de568_level0_col0\" class=\"col_heading level0 col0\" >Accuracy</th>\n",
       "      <th id=\"T_de568_level0_col1\" class=\"col_heading level0 col1\" >AUC</th>\n",
       "      <th id=\"T_de568_level0_col2\" class=\"col_heading level0 col2\" >Recall</th>\n",
       "      <th id=\"T_de568_level0_col3\" class=\"col_heading level0 col3\" >Prec.</th>\n",
       "      <th id=\"T_de568_level0_col4\" class=\"col_heading level0 col4\" >F1</th>\n",
       "      <th id=\"T_de568_level0_col5\" class=\"col_heading level0 col5\" >Kappa</th>\n",
       "      <th id=\"T_de568_level0_col6\" class=\"col_heading level0 col6\" >MCC</th>\n",
       "    </tr>\n",
       "    <tr>\n",
       "      <th class=\"index_name level0\" >Fold</th>\n",
       "      <th class=\"blank col0\" >&nbsp;</th>\n",
       "      <th class=\"blank col1\" >&nbsp;</th>\n",
       "      <th class=\"blank col2\" >&nbsp;</th>\n",
       "      <th class=\"blank col3\" >&nbsp;</th>\n",
       "      <th class=\"blank col4\" >&nbsp;</th>\n",
       "      <th class=\"blank col5\" >&nbsp;</th>\n",
       "      <th class=\"blank col6\" >&nbsp;</th>\n",
       "    </tr>\n",
       "  </thead>\n",
       "  <tbody>\n",
       "    <tr>\n",
       "      <th id=\"T_de568_level0_row0\" class=\"row_heading level0 row0\" >0</th>\n",
       "      <td id=\"T_de568_row0_col0\" class=\"data row0 col0\" >0.6667</td>\n",
       "      <td id=\"T_de568_row0_col1\" class=\"data row0 col1\" >0.7315</td>\n",
       "      <td id=\"T_de568_row0_col2\" class=\"data row0 col2\" >0.6667</td>\n",
       "      <td id=\"T_de568_row0_col3\" class=\"data row0 col3\" >0.6000</td>\n",
       "      <td id=\"T_de568_row0_col4\" class=\"data row0 col4\" >0.6316</td>\n",
       "      <td id=\"T_de568_row0_col5\" class=\"data row0 col5\" >0.3288</td>\n",
       "      <td id=\"T_de568_row0_col6\" class=\"data row0 col6\" >0.3303</td>\n",
       "    </tr>\n",
       "    <tr>\n",
       "      <th id=\"T_de568_level0_row1\" class=\"row_heading level0 row1\" >1</th>\n",
       "      <td id=\"T_de568_row1_col0\" class=\"data row1 col0\" >0.7143</td>\n",
       "      <td id=\"T_de568_row1_col1\" class=\"data row1 col1\" >0.8426</td>\n",
       "      <td id=\"T_de568_row1_col2\" class=\"data row1 col2\" >0.7778</td>\n",
       "      <td id=\"T_de568_row1_col3\" class=\"data row1 col3\" >0.6364</td>\n",
       "      <td id=\"T_de568_row1_col4\" class=\"data row1 col4\" >0.7000</td>\n",
       "      <td id=\"T_de568_row1_col5\" class=\"data row1 col5\" >0.4324</td>\n",
       "      <td id=\"T_de568_row1_col6\" class=\"data row1 col6\" >0.4404</td>\n",
       "    </tr>\n",
       "    <tr>\n",
       "      <th id=\"T_de568_level0_row2\" class=\"row_heading level0 row2\" >2</th>\n",
       "      <td id=\"T_de568_row2_col0\" class=\"data row2 col0\" >0.9048</td>\n",
       "      <td id=\"T_de568_row2_col1\" class=\"data row2 col1\" >0.9364</td>\n",
       "      <td id=\"T_de568_row2_col2\" class=\"data row2 col2\" >0.8000</td>\n",
       "      <td id=\"T_de568_row2_col3\" class=\"data row2 col3\" >1.0000</td>\n",
       "      <td id=\"T_de568_row2_col4\" class=\"data row2 col4\" >0.8889</td>\n",
       "      <td id=\"T_de568_row2_col5\" class=\"data row2 col5\" >0.8073</td>\n",
       "      <td id=\"T_de568_row2_col6\" class=\"data row2 col6\" >0.8228</td>\n",
       "    </tr>\n",
       "    <tr>\n",
       "      <th id=\"T_de568_level0_row3\" class=\"row_heading level0 row3\" >3</th>\n",
       "      <td id=\"T_de568_row3_col0\" class=\"data row3 col0\" >0.7143</td>\n",
       "      <td id=\"T_de568_row3_col1\" class=\"data row3 col1\" >0.7364</td>\n",
       "      <td id=\"T_de568_row3_col2\" class=\"data row3 col2\" >0.7000</td>\n",
       "      <td id=\"T_de568_row3_col3\" class=\"data row3 col3\" >0.7000</td>\n",
       "      <td id=\"T_de568_row3_col4\" class=\"data row3 col4\" >0.7000</td>\n",
       "      <td id=\"T_de568_row3_col5\" class=\"data row3 col5\" >0.4273</td>\n",
       "      <td id=\"T_de568_row3_col6\" class=\"data row3 col6\" >0.4273</td>\n",
       "    </tr>\n",
       "    <tr>\n",
       "      <th id=\"T_de568_level0_row4\" class=\"row_heading level0 row4\" >4</th>\n",
       "      <td id=\"T_de568_row4_col0\" class=\"data row4 col0\" >0.8571</td>\n",
       "      <td id=\"T_de568_row4_col1\" class=\"data row4 col1\" >0.9000</td>\n",
       "      <td id=\"T_de568_row4_col2\" class=\"data row4 col2\" >0.8000</td>\n",
       "      <td id=\"T_de568_row4_col3\" class=\"data row4 col3\" >0.8889</td>\n",
       "      <td id=\"T_de568_row4_col4\" class=\"data row4 col4\" >0.8421</td>\n",
       "      <td id=\"T_de568_row4_col5\" class=\"data row4 col5\" >0.7123</td>\n",
       "      <td id=\"T_de568_row4_col6\" class=\"data row4 col6\" >0.7156</td>\n",
       "    </tr>\n",
       "    <tr>\n",
       "      <th id=\"T_de568_level0_row5\" class=\"row_heading level0 row5\" >5</th>\n",
       "      <td id=\"T_de568_row5_col0\" class=\"data row5 col0\" >0.7619</td>\n",
       "      <td id=\"T_de568_row5_col1\" class=\"data row5 col1\" >0.7227</td>\n",
       "      <td id=\"T_de568_row5_col2\" class=\"data row5 col2\" >0.6000</td>\n",
       "      <td id=\"T_de568_row5_col3\" class=\"data row5 col3\" >0.8571</td>\n",
       "      <td id=\"T_de568_row5_col4\" class=\"data row5 col4\" >0.7059</td>\n",
       "      <td id=\"T_de568_row5_col5\" class=\"data row5 col5\" >0.5161</td>\n",
       "      <td id=\"T_de568_row5_col6\" class=\"data row5 col6\" >0.5394</td>\n",
       "    </tr>\n",
       "    <tr>\n",
       "      <th id=\"T_de568_level0_row6\" class=\"row_heading level0 row6\" >6</th>\n",
       "      <td id=\"T_de568_row6_col0\" class=\"data row6 col0\" >0.9048</td>\n",
       "      <td id=\"T_de568_row6_col1\" class=\"data row6 col1\" >0.9773</td>\n",
       "      <td id=\"T_de568_row6_col2\" class=\"data row6 col2\" >0.9000</td>\n",
       "      <td id=\"T_de568_row6_col3\" class=\"data row6 col3\" >0.9000</td>\n",
       "      <td id=\"T_de568_row6_col4\" class=\"data row6 col4\" >0.9000</td>\n",
       "      <td id=\"T_de568_row6_col5\" class=\"data row6 col5\" >0.8091</td>\n",
       "      <td id=\"T_de568_row6_col6\" class=\"data row6 col6\" >0.8091</td>\n",
       "    </tr>\n",
       "    <tr>\n",
       "      <th id=\"T_de568_level0_row7\" class=\"row_heading level0 row7\" >7</th>\n",
       "      <td id=\"T_de568_row7_col0\" class=\"data row7 col0\" >0.9000</td>\n",
       "      <td id=\"T_de568_row7_col1\" class=\"data row7 col1\" >0.9596</td>\n",
       "      <td id=\"T_de568_row7_col2\" class=\"data row7 col2\" >0.7778</td>\n",
       "      <td id=\"T_de568_row7_col3\" class=\"data row7 col3\" >1.0000</td>\n",
       "      <td id=\"T_de568_row7_col4\" class=\"data row7 col4\" >0.8750</td>\n",
       "      <td id=\"T_de568_row7_col5\" class=\"data row7 col5\" >0.7938</td>\n",
       "      <td id=\"T_de568_row7_col6\" class=\"data row7 col6\" >0.8112</td>\n",
       "    </tr>\n",
       "    <tr>\n",
       "      <th id=\"T_de568_level0_row8\" class=\"row_heading level0 row8\" >8</th>\n",
       "      <td id=\"T_de568_row8_col0\" class=\"data row8 col0\" >0.6500</td>\n",
       "      <td id=\"T_de568_row8_col1\" class=\"data row8 col1\" >0.8283</td>\n",
       "      <td id=\"T_de568_row8_col2\" class=\"data row8 col2\" >0.5556</td>\n",
       "      <td id=\"T_de568_row8_col3\" class=\"data row8 col3\" >0.6250</td>\n",
       "      <td id=\"T_de568_row8_col4\" class=\"data row8 col4\" >0.5882</td>\n",
       "      <td id=\"T_de568_row8_col5\" class=\"data row8 col5\" >0.2857</td>\n",
       "      <td id=\"T_de568_row8_col6\" class=\"data row8 col6\" >0.2872</td>\n",
       "    </tr>\n",
       "    <tr>\n",
       "      <th id=\"T_de568_level0_row9\" class=\"row_heading level0 row9\" >9</th>\n",
       "      <td id=\"T_de568_row9_col0\" class=\"data row9 col0\" >0.8000</td>\n",
       "      <td id=\"T_de568_row9_col1\" class=\"data row9 col1\" >0.8889</td>\n",
       "      <td id=\"T_de568_row9_col2\" class=\"data row9 col2\" >0.6667</td>\n",
       "      <td id=\"T_de568_row9_col3\" class=\"data row9 col3\" >0.8571</td>\n",
       "      <td id=\"T_de568_row9_col4\" class=\"data row9 col4\" >0.7500</td>\n",
       "      <td id=\"T_de568_row9_col5\" class=\"data row9 col5\" >0.5876</td>\n",
       "      <td id=\"T_de568_row9_col6\" class=\"data row9 col6\" >0.6005</td>\n",
       "    </tr>\n",
       "    <tr>\n",
       "      <th id=\"T_de568_level0_row10\" class=\"row_heading level0 row10\" >Mean</th>\n",
       "      <td id=\"T_de568_row10_col0\" class=\"data row10 col0\" >0.7874</td>\n",
       "      <td id=\"T_de568_row10_col1\" class=\"data row10 col1\" >0.8524</td>\n",
       "      <td id=\"T_de568_row10_col2\" class=\"data row10 col2\" >0.7244</td>\n",
       "      <td id=\"T_de568_row10_col3\" class=\"data row10 col3\" >0.8065</td>\n",
       "      <td id=\"T_de568_row10_col4\" class=\"data row10 col4\" >0.7582</td>\n",
       "      <td id=\"T_de568_row10_col5\" class=\"data row10 col5\" >0.5701</td>\n",
       "      <td id=\"T_de568_row10_col6\" class=\"data row10 col6\" >0.5784</td>\n",
       "    </tr>\n",
       "    <tr>\n",
       "      <th id=\"T_de568_level0_row11\" class=\"row_heading level0 row11\" >Std</th>\n",
       "      <td id=\"T_de568_row11_col0\" class=\"data row11 col0\" >0.0949</td>\n",
       "      <td id=\"T_de568_row11_col1\" class=\"data row11 col1\" >0.0913</td>\n",
       "      <td id=\"T_de568_row11_col2\" class=\"data row11 col2\" >0.0996</td>\n",
       "      <td id=\"T_de568_row11_col3\" class=\"data row11 col3\" >0.1454</td>\n",
       "      <td id=\"T_de568_row11_col4\" class=\"data row11 col4\" >0.1060</td>\n",
       "      <td id=\"T_de568_row11_col5\" class=\"data row11 col5\" >0.1911</td>\n",
       "      <td id=\"T_de568_row11_col6\" class=\"data row11 col6\" >0.1940</td>\n",
       "    </tr>\n",
       "  </tbody>\n",
       "</table>\n"
      ],
      "text/plain": [
       "<pandas.io.formats.style.Styler at 0x1fa120cdf10>"
      ]
     },
     "metadata": {},
     "output_type": "display_data"
    },
    {
     "data": {
      "text/html": [],
      "text/plain": [
       "<IPython.core.display.HTML object>"
      ]
     },
     "metadata": {},
     "output_type": "display_data"
    },
    {
     "data": {
      "text/html": [],
      "text/plain": [
       "<IPython.core.display.HTML object>"
      ]
     },
     "metadata": {},
     "output_type": "display_data"
    },
    {
     "data": {
      "text/html": [
       "<style type=\"text/css\">\n",
       "#T_0b17d_row10_col0, #T_0b17d_row10_col1, #T_0b17d_row10_col2, #T_0b17d_row10_col3, #T_0b17d_row10_col4, #T_0b17d_row10_col5, #T_0b17d_row10_col6 {\n",
       "  background: yellow;\n",
       "}\n",
       "</style>\n",
       "<table id=\"T_0b17d\">\n",
       "  <thead>\n",
       "    <tr>\n",
       "      <th class=\"blank level0\" >&nbsp;</th>\n",
       "      <th id=\"T_0b17d_level0_col0\" class=\"col_heading level0 col0\" >Accuracy</th>\n",
       "      <th id=\"T_0b17d_level0_col1\" class=\"col_heading level0 col1\" >AUC</th>\n",
       "      <th id=\"T_0b17d_level0_col2\" class=\"col_heading level0 col2\" >Recall</th>\n",
       "      <th id=\"T_0b17d_level0_col3\" class=\"col_heading level0 col3\" >Prec.</th>\n",
       "      <th id=\"T_0b17d_level0_col4\" class=\"col_heading level0 col4\" >F1</th>\n",
       "      <th id=\"T_0b17d_level0_col5\" class=\"col_heading level0 col5\" >Kappa</th>\n",
       "      <th id=\"T_0b17d_level0_col6\" class=\"col_heading level0 col6\" >MCC</th>\n",
       "    </tr>\n",
       "    <tr>\n",
       "      <th class=\"index_name level0\" >Fold</th>\n",
       "      <th class=\"blank col0\" >&nbsp;</th>\n",
       "      <th class=\"blank col1\" >&nbsp;</th>\n",
       "      <th class=\"blank col2\" >&nbsp;</th>\n",
       "      <th class=\"blank col3\" >&nbsp;</th>\n",
       "      <th class=\"blank col4\" >&nbsp;</th>\n",
       "      <th class=\"blank col5\" >&nbsp;</th>\n",
       "      <th class=\"blank col6\" >&nbsp;</th>\n",
       "    </tr>\n",
       "  </thead>\n",
       "  <tbody>\n",
       "    <tr>\n",
       "      <th id=\"T_0b17d_level0_row0\" class=\"row_heading level0 row0\" >0</th>\n",
       "      <td id=\"T_0b17d_row0_col0\" class=\"data row0 col0\" >0.7143</td>\n",
       "      <td id=\"T_0b17d_row0_col1\" class=\"data row0 col1\" >0.8148</td>\n",
       "      <td id=\"T_0b17d_row0_col2\" class=\"data row0 col2\" >0.7778</td>\n",
       "      <td id=\"T_0b17d_row0_col3\" class=\"data row0 col3\" >0.6364</td>\n",
       "      <td id=\"T_0b17d_row0_col4\" class=\"data row0 col4\" >0.7000</td>\n",
       "      <td id=\"T_0b17d_row0_col5\" class=\"data row0 col5\" >0.4324</td>\n",
       "      <td id=\"T_0b17d_row0_col6\" class=\"data row0 col6\" >0.4404</td>\n",
       "    </tr>\n",
       "    <tr>\n",
       "      <th id=\"T_0b17d_level0_row1\" class=\"row_heading level0 row1\" >1</th>\n",
       "      <td id=\"T_0b17d_row1_col0\" class=\"data row1 col0\" >0.7619</td>\n",
       "      <td id=\"T_0b17d_row1_col1\" class=\"data row1 col1\" >0.8426</td>\n",
       "      <td id=\"T_0b17d_row1_col2\" class=\"data row1 col2\" >0.7778</td>\n",
       "      <td id=\"T_0b17d_row1_col3\" class=\"data row1 col3\" >0.7000</td>\n",
       "      <td id=\"T_0b17d_row1_col4\" class=\"data row1 col4\" >0.7368</td>\n",
       "      <td id=\"T_0b17d_row1_col5\" class=\"data row1 col5\" >0.5205</td>\n",
       "      <td id=\"T_0b17d_row1_col6\" class=\"data row1 col6\" >0.5230</td>\n",
       "    </tr>\n",
       "    <tr>\n",
       "      <th id=\"T_0b17d_level0_row2\" class=\"row_heading level0 row2\" >2</th>\n",
       "      <td id=\"T_0b17d_row2_col0\" class=\"data row2 col0\" >0.8571</td>\n",
       "      <td id=\"T_0b17d_row2_col1\" class=\"data row2 col1\" >0.9273</td>\n",
       "      <td id=\"T_0b17d_row2_col2\" class=\"data row2 col2\" >0.7000</td>\n",
       "      <td id=\"T_0b17d_row2_col3\" class=\"data row2 col3\" >1.0000</td>\n",
       "      <td id=\"T_0b17d_row2_col4\" class=\"data row2 col4\" >0.8235</td>\n",
       "      <td id=\"T_0b17d_row2_col5\" class=\"data row2 col5\" >0.7097</td>\n",
       "      <td id=\"T_0b17d_row2_col6\" class=\"data row2 col6\" >0.7416</td>\n",
       "    </tr>\n",
       "    <tr>\n",
       "      <th id=\"T_0b17d_level0_row3\" class=\"row_heading level0 row3\" >3</th>\n",
       "      <td id=\"T_0b17d_row3_col0\" class=\"data row3 col0\" >0.7143</td>\n",
       "      <td id=\"T_0b17d_row3_col1\" class=\"data row3 col1\" >0.7364</td>\n",
       "      <td id=\"T_0b17d_row3_col2\" class=\"data row3 col2\" >0.6000</td>\n",
       "      <td id=\"T_0b17d_row3_col3\" class=\"data row3 col3\" >0.7500</td>\n",
       "      <td id=\"T_0b17d_row3_col4\" class=\"data row3 col4\" >0.6667</td>\n",
       "      <td id=\"T_0b17d_row3_col5\" class=\"data row3 col5\" >0.4220</td>\n",
       "      <td id=\"T_0b17d_row3_col6\" class=\"data row3 col6\" >0.4301</td>\n",
       "    </tr>\n",
       "    <tr>\n",
       "      <th id=\"T_0b17d_level0_row4\" class=\"row_heading level0 row4\" >4</th>\n",
       "      <td id=\"T_0b17d_row4_col0\" class=\"data row4 col0\" >0.9524</td>\n",
       "      <td id=\"T_0b17d_row4_col1\" class=\"data row4 col1\" >0.9818</td>\n",
       "      <td id=\"T_0b17d_row4_col2\" class=\"data row4 col2\" >0.9000</td>\n",
       "      <td id=\"T_0b17d_row4_col3\" class=\"data row4 col3\" >1.0000</td>\n",
       "      <td id=\"T_0b17d_row4_col4\" class=\"data row4 col4\" >0.9474</td>\n",
       "      <td id=\"T_0b17d_row4_col5\" class=\"data row4 col5\" >0.9041</td>\n",
       "      <td id=\"T_0b17d_row4_col6\" class=\"data row4 col6\" >0.9083</td>\n",
       "    </tr>\n",
       "    <tr>\n",
       "      <th id=\"T_0b17d_level0_row5\" class=\"row_heading level0 row5\" >5</th>\n",
       "      <td id=\"T_0b17d_row5_col0\" class=\"data row5 col0\" >0.7619</td>\n",
       "      <td id=\"T_0b17d_row5_col1\" class=\"data row5 col1\" >0.7455</td>\n",
       "      <td id=\"T_0b17d_row5_col2\" class=\"data row5 col2\" >0.7000</td>\n",
       "      <td id=\"T_0b17d_row5_col3\" class=\"data row5 col3\" >0.7778</td>\n",
       "      <td id=\"T_0b17d_row5_col4\" class=\"data row5 col4\" >0.7368</td>\n",
       "      <td id=\"T_0b17d_row5_col5\" class=\"data row5 col5\" >0.5205</td>\n",
       "      <td id=\"T_0b17d_row5_col6\" class=\"data row5 col6\" >0.5230</td>\n",
       "    </tr>\n",
       "    <tr>\n",
       "      <th id=\"T_0b17d_level0_row6\" class=\"row_heading level0 row6\" >6</th>\n",
       "      <td id=\"T_0b17d_row6_col0\" class=\"data row6 col0\" >0.8095</td>\n",
       "      <td id=\"T_0b17d_row6_col1\" class=\"data row6 col1\" >0.8091</td>\n",
       "      <td id=\"T_0b17d_row6_col2\" class=\"data row6 col2\" >0.9000</td>\n",
       "      <td id=\"T_0b17d_row6_col3\" class=\"data row6 col3\" >0.7500</td>\n",
       "      <td id=\"T_0b17d_row6_col4\" class=\"data row6 col4\" >0.8182</td>\n",
       "      <td id=\"T_0b17d_row6_col5\" class=\"data row6 col5\" >0.6216</td>\n",
       "      <td id=\"T_0b17d_row6_col6\" class=\"data row6 col6\" >0.6331</td>\n",
       "    </tr>\n",
       "    <tr>\n",
       "      <th id=\"T_0b17d_level0_row7\" class=\"row_heading level0 row7\" >7</th>\n",
       "      <td id=\"T_0b17d_row7_col0\" class=\"data row7 col0\" >0.8500</td>\n",
       "      <td id=\"T_0b17d_row7_col1\" class=\"data row7 col1\" >0.9293</td>\n",
       "      <td id=\"T_0b17d_row7_col2\" class=\"data row7 col2\" >0.6667</td>\n",
       "      <td id=\"T_0b17d_row7_col3\" class=\"data row7 col3\" >1.0000</td>\n",
       "      <td id=\"T_0b17d_row7_col4\" class=\"data row7 col4\" >0.8000</td>\n",
       "      <td id=\"T_0b17d_row7_col5\" class=\"data row7 col5\" >0.6875</td>\n",
       "      <td id=\"T_0b17d_row7_col6\" class=\"data row7 col6\" >0.7237</td>\n",
       "    </tr>\n",
       "    <tr>\n",
       "      <th id=\"T_0b17d_level0_row8\" class=\"row_heading level0 row8\" >8</th>\n",
       "      <td id=\"T_0b17d_row8_col0\" class=\"data row8 col0\" >0.6500</td>\n",
       "      <td id=\"T_0b17d_row8_col1\" class=\"data row8 col1\" >0.6263</td>\n",
       "      <td id=\"T_0b17d_row8_col2\" class=\"data row8 col2\" >0.5556</td>\n",
       "      <td id=\"T_0b17d_row8_col3\" class=\"data row8 col3\" >0.6250</td>\n",
       "      <td id=\"T_0b17d_row8_col4\" class=\"data row8 col4\" >0.5882</td>\n",
       "      <td id=\"T_0b17d_row8_col5\" class=\"data row8 col5\" >0.2857</td>\n",
       "      <td id=\"T_0b17d_row8_col6\" class=\"data row8 col6\" >0.2872</td>\n",
       "    </tr>\n",
       "    <tr>\n",
       "      <th id=\"T_0b17d_level0_row9\" class=\"row_heading level0 row9\" >9</th>\n",
       "      <td id=\"T_0b17d_row9_col0\" class=\"data row9 col0\" >0.7500</td>\n",
       "      <td id=\"T_0b17d_row9_col1\" class=\"data row9 col1\" >0.6869</td>\n",
       "      <td id=\"T_0b17d_row9_col2\" class=\"data row9 col2\" >0.5556</td>\n",
       "      <td id=\"T_0b17d_row9_col3\" class=\"data row9 col3\" >0.8333</td>\n",
       "      <td id=\"T_0b17d_row9_col4\" class=\"data row9 col4\" >0.6667</td>\n",
       "      <td id=\"T_0b17d_row9_col5\" class=\"data row9 col5\" >0.4792</td>\n",
       "      <td id=\"T_0b17d_row9_col6\" class=\"data row9 col6\" >0.5044</td>\n",
       "    </tr>\n",
       "    <tr>\n",
       "      <th id=\"T_0b17d_level0_row10\" class=\"row_heading level0 row10\" >Mean</th>\n",
       "      <td id=\"T_0b17d_row10_col0\" class=\"data row10 col0\" >0.7821</td>\n",
       "      <td id=\"T_0b17d_row10_col1\" class=\"data row10 col1\" >0.8100</td>\n",
       "      <td id=\"T_0b17d_row10_col2\" class=\"data row10 col2\" >0.7133</td>\n",
       "      <td id=\"T_0b17d_row10_col3\" class=\"data row10 col3\" >0.8072</td>\n",
       "      <td id=\"T_0b17d_row10_col4\" class=\"data row10 col4\" >0.7484</td>\n",
       "      <td id=\"T_0b17d_row10_col5\" class=\"data row10 col5\" >0.5583</td>\n",
       "      <td id=\"T_0b17d_row10_col6\" class=\"data row10 col6\" >0.5715</td>\n",
       "    </tr>\n",
       "    <tr>\n",
       "      <th id=\"T_0b17d_level0_row11\" class=\"row_heading level0 row11\" >Std</th>\n",
       "      <td id=\"T_0b17d_row11_col0\" class=\"data row11 col0\" >0.0828</td>\n",
       "      <td id=\"T_0b17d_row11_col1\" class=\"data row11 col1\" >0.1082</td>\n",
       "      <td id=\"T_0b17d_row11_col2\" class=\"data row11 col2\" >0.1196</td>\n",
       "      <td id=\"T_0b17d_row11_col3\" class=\"data row11 col3\" >0.1391</td>\n",
       "      <td id=\"T_0b17d_row11_col4\" class=\"data row11 col4\" >0.0972</td>\n",
       "      <td id=\"T_0b17d_row11_col5\" class=\"data row11 col5\" >0.1676</td>\n",
       "      <td id=\"T_0b17d_row11_col6\" class=\"data row11 col6\" >0.1722</td>\n",
       "    </tr>\n",
       "  </tbody>\n",
       "</table>\n"
      ],
      "text/plain": [
       "<pandas.io.formats.style.Styler at 0x1fa13482a10>"
      ]
     },
     "metadata": {},
     "output_type": "display_data"
    },
    {
     "data": {
      "text/html": [],
      "text/plain": [
       "<IPython.core.display.HTML object>"
      ]
     },
     "metadata": {},
     "output_type": "display_data"
    },
    {
     "data": {
      "text/html": [],
      "text/plain": [
       "<IPython.core.display.HTML object>"
      ]
     },
     "metadata": {},
     "output_type": "display_data"
    },
    {
     "data": {
      "text/html": [
       "<style type=\"text/css\">\n",
       "#T_030b9_row10_col0, #T_030b9_row10_col1, #T_030b9_row10_col2, #T_030b9_row10_col3, #T_030b9_row10_col4, #T_030b9_row10_col5, #T_030b9_row10_col6 {\n",
       "  background: yellow;\n",
       "}\n",
       "</style>\n",
       "<table id=\"T_030b9\">\n",
       "  <thead>\n",
       "    <tr>\n",
       "      <th class=\"blank level0\" >&nbsp;</th>\n",
       "      <th id=\"T_030b9_level0_col0\" class=\"col_heading level0 col0\" >Accuracy</th>\n",
       "      <th id=\"T_030b9_level0_col1\" class=\"col_heading level0 col1\" >AUC</th>\n",
       "      <th id=\"T_030b9_level0_col2\" class=\"col_heading level0 col2\" >Recall</th>\n",
       "      <th id=\"T_030b9_level0_col3\" class=\"col_heading level0 col3\" >Prec.</th>\n",
       "      <th id=\"T_030b9_level0_col4\" class=\"col_heading level0 col4\" >F1</th>\n",
       "      <th id=\"T_030b9_level0_col5\" class=\"col_heading level0 col5\" >Kappa</th>\n",
       "      <th id=\"T_030b9_level0_col6\" class=\"col_heading level0 col6\" >MCC</th>\n",
       "    </tr>\n",
       "    <tr>\n",
       "      <th class=\"index_name level0\" >Fold</th>\n",
       "      <th class=\"blank col0\" >&nbsp;</th>\n",
       "      <th class=\"blank col1\" >&nbsp;</th>\n",
       "      <th class=\"blank col2\" >&nbsp;</th>\n",
       "      <th class=\"blank col3\" >&nbsp;</th>\n",
       "      <th class=\"blank col4\" >&nbsp;</th>\n",
       "      <th class=\"blank col5\" >&nbsp;</th>\n",
       "      <th class=\"blank col6\" >&nbsp;</th>\n",
       "    </tr>\n",
       "  </thead>\n",
       "  <tbody>\n",
       "    <tr>\n",
       "      <th id=\"T_030b9_level0_row0\" class=\"row_heading level0 row0\" >0</th>\n",
       "      <td id=\"T_030b9_row0_col0\" class=\"data row0 col0\" >0.6190</td>\n",
       "      <td id=\"T_030b9_row0_col1\" class=\"data row0 col1\" >0.6157</td>\n",
       "      <td id=\"T_030b9_row0_col2\" class=\"data row0 col2\" >0.4444</td>\n",
       "      <td id=\"T_030b9_row0_col3\" class=\"data row0 col3\" >0.5714</td>\n",
       "      <td id=\"T_030b9_row0_col4\" class=\"data row0 col4\" >0.5000</td>\n",
       "      <td id=\"T_030b9_row0_col5\" class=\"data row0 col5\" >0.2000</td>\n",
       "      <td id=\"T_030b9_row0_col6\" class=\"data row0 col6\" >0.2041</td>\n",
       "    </tr>\n",
       "    <tr>\n",
       "      <th id=\"T_030b9_level0_row1\" class=\"row_heading level0 row1\" >1</th>\n",
       "      <td id=\"T_030b9_row1_col0\" class=\"data row1 col0\" >0.6667</td>\n",
       "      <td id=\"T_030b9_row1_col1\" class=\"data row1 col1\" >0.6620</td>\n",
       "      <td id=\"T_030b9_row1_col2\" class=\"data row1 col2\" >0.6667</td>\n",
       "      <td id=\"T_030b9_row1_col3\" class=\"data row1 col3\" >0.6000</td>\n",
       "      <td id=\"T_030b9_row1_col4\" class=\"data row1 col4\" >0.6316</td>\n",
       "      <td id=\"T_030b9_row1_col5\" class=\"data row1 col5\" >0.3288</td>\n",
       "      <td id=\"T_030b9_row1_col6\" class=\"data row1 col6\" >0.3303</td>\n",
       "    </tr>\n",
       "    <tr>\n",
       "      <th id=\"T_030b9_level0_row2\" class=\"row_heading level0 row2\" >2</th>\n",
       "      <td id=\"T_030b9_row2_col0\" class=\"data row2 col0\" >0.6667</td>\n",
       "      <td id=\"T_030b9_row2_col1\" class=\"data row2 col1\" >0.6591</td>\n",
       "      <td id=\"T_030b9_row2_col2\" class=\"data row2 col2\" >0.4000</td>\n",
       "      <td id=\"T_030b9_row2_col3\" class=\"data row2 col3\" >0.8000</td>\n",
       "      <td id=\"T_030b9_row2_col4\" class=\"data row2 col4\" >0.5333</td>\n",
       "      <td id=\"T_030b9_row2_col5\" class=\"data row2 col5\" >0.3163</td>\n",
       "      <td id=\"T_030b9_row2_col6\" class=\"data row2 col6\" >0.3624</td>\n",
       "    </tr>\n",
       "    <tr>\n",
       "      <th id=\"T_030b9_level0_row3\" class=\"row_heading level0 row3\" >3</th>\n",
       "      <td id=\"T_030b9_row3_col0\" class=\"data row3 col0\" >0.5238</td>\n",
       "      <td id=\"T_030b9_row3_col1\" class=\"data row3 col1\" >0.5682</td>\n",
       "      <td id=\"T_030b9_row3_col2\" class=\"data row3 col2\" >0.6000</td>\n",
       "      <td id=\"T_030b9_row3_col3\" class=\"data row3 col3\" >0.5000</td>\n",
       "      <td id=\"T_030b9_row3_col4\" class=\"data row3 col4\" >0.5455</td>\n",
       "      <td id=\"T_030b9_row3_col5\" class=\"data row3 col5\" >0.0541</td>\n",
       "      <td id=\"T_030b9_row3_col6\" class=\"data row3 col6\" >0.0550</td>\n",
       "    </tr>\n",
       "    <tr>\n",
       "      <th id=\"T_030b9_level0_row4\" class=\"row_heading level0 row4\" >4</th>\n",
       "      <td id=\"T_030b9_row4_col0\" class=\"data row4 col0\" >0.6190</td>\n",
       "      <td id=\"T_030b9_row4_col1\" class=\"data row4 col1\" >0.7136</td>\n",
       "      <td id=\"T_030b9_row4_col2\" class=\"data row4 col2\" >0.6000</td>\n",
       "      <td id=\"T_030b9_row4_col3\" class=\"data row4 col3\" >0.6000</td>\n",
       "      <td id=\"T_030b9_row4_col4\" class=\"data row4 col4\" >0.6000</td>\n",
       "      <td id=\"T_030b9_row4_col5\" class=\"data row4 col5\" >0.2364</td>\n",
       "      <td id=\"T_030b9_row4_col6\" class=\"data row4 col6\" >0.2364</td>\n",
       "    </tr>\n",
       "    <tr>\n",
       "      <th id=\"T_030b9_level0_row5\" class=\"row_heading level0 row5\" >5</th>\n",
       "      <td id=\"T_030b9_row5_col0\" class=\"data row5 col0\" >0.5238</td>\n",
       "      <td id=\"T_030b9_row5_col1\" class=\"data row5 col1\" >0.6318</td>\n",
       "      <td id=\"T_030b9_row5_col2\" class=\"data row5 col2\" >0.4000</td>\n",
       "      <td id=\"T_030b9_row5_col3\" class=\"data row5 col3\" >0.5000</td>\n",
       "      <td id=\"T_030b9_row5_col4\" class=\"data row5 col4\" >0.4444</td>\n",
       "      <td id=\"T_030b9_row5_col5\" class=\"data row5 col5\" >0.0367</td>\n",
       "      <td id=\"T_030b9_row5_col6\" class=\"data row5 col6\" >0.0374</td>\n",
       "    </tr>\n",
       "    <tr>\n",
       "      <th id=\"T_030b9_level0_row6\" class=\"row_heading level0 row6\" >6</th>\n",
       "      <td id=\"T_030b9_row6_col0\" class=\"data row6 col0\" >0.6190</td>\n",
       "      <td id=\"T_030b9_row6_col1\" class=\"data row6 col1\" >0.7727</td>\n",
       "      <td id=\"T_030b9_row6_col2\" class=\"data row6 col2\" >0.7000</td>\n",
       "      <td id=\"T_030b9_row6_col3\" class=\"data row6 col3\" >0.5833</td>\n",
       "      <td id=\"T_030b9_row6_col4\" class=\"data row6 col4\" >0.6364</td>\n",
       "      <td id=\"T_030b9_row6_col5\" class=\"data row6 col5\" >0.2432</td>\n",
       "      <td id=\"T_030b9_row6_col6\" class=\"data row6 col6\" >0.2477</td>\n",
       "    </tr>\n",
       "    <tr>\n",
       "      <th id=\"T_030b9_level0_row7\" class=\"row_heading level0 row7\" >7</th>\n",
       "      <td id=\"T_030b9_row7_col0\" class=\"data row7 col0\" >0.8000</td>\n",
       "      <td id=\"T_030b9_row7_col1\" class=\"data row7 col1\" >0.8333</td>\n",
       "      <td id=\"T_030b9_row7_col2\" class=\"data row7 col2\" >0.7778</td>\n",
       "      <td id=\"T_030b9_row7_col3\" class=\"data row7 col3\" >0.7778</td>\n",
       "      <td id=\"T_030b9_row7_col4\" class=\"data row7 col4\" >0.7778</td>\n",
       "      <td id=\"T_030b9_row7_col5\" class=\"data row7 col5\" >0.5960</td>\n",
       "      <td id=\"T_030b9_row7_col6\" class=\"data row7 col6\" >0.5960</td>\n",
       "    </tr>\n",
       "    <tr>\n",
       "      <th id=\"T_030b9_level0_row8\" class=\"row_heading level0 row8\" >8</th>\n",
       "      <td id=\"T_030b9_row8_col0\" class=\"data row8 col0\" >0.6000</td>\n",
       "      <td id=\"T_030b9_row8_col1\" class=\"data row8 col1\" >0.5960</td>\n",
       "      <td id=\"T_030b9_row8_col2\" class=\"data row8 col2\" >0.5556</td>\n",
       "      <td id=\"T_030b9_row8_col3\" class=\"data row8 col3\" >0.5556</td>\n",
       "      <td id=\"T_030b9_row8_col4\" class=\"data row8 col4\" >0.5556</td>\n",
       "      <td id=\"T_030b9_row8_col5\" class=\"data row8 col5\" >0.1919</td>\n",
       "      <td id=\"T_030b9_row8_col6\" class=\"data row8 col6\" >0.1919</td>\n",
       "    </tr>\n",
       "    <tr>\n",
       "      <th id=\"T_030b9_level0_row9\" class=\"row_heading level0 row9\" >9</th>\n",
       "      <td id=\"T_030b9_row9_col0\" class=\"data row9 col0\" >0.5500</td>\n",
       "      <td id=\"T_030b9_row9_col1\" class=\"data row9 col1\" >0.5808</td>\n",
       "      <td id=\"T_030b9_row9_col2\" class=\"data row9 col2\" >0.3333</td>\n",
       "      <td id=\"T_030b9_row9_col3\" class=\"data row9 col3\" >0.5000</td>\n",
       "      <td id=\"T_030b9_row9_col4\" class=\"data row9 col4\" >0.4000</td>\n",
       "      <td id=\"T_030b9_row9_col5\" class=\"data row9 col5\" >0.0625</td>\n",
       "      <td id=\"T_030b9_row9_col6\" class=\"data row9 col6\" >0.0658</td>\n",
       "    </tr>\n",
       "    <tr>\n",
       "      <th id=\"T_030b9_level0_row10\" class=\"row_heading level0 row10\" >Mean</th>\n",
       "      <td id=\"T_030b9_row10_col0\" class=\"data row10 col0\" >0.6188</td>\n",
       "      <td id=\"T_030b9_row10_col1\" class=\"data row10 col1\" >0.6633</td>\n",
       "      <td id=\"T_030b9_row10_col2\" class=\"data row10 col2\" >0.5478</td>\n",
       "      <td id=\"T_030b9_row10_col3\" class=\"data row10 col3\" >0.5988</td>\n",
       "      <td id=\"T_030b9_row10_col4\" class=\"data row10 col4\" >0.5625</td>\n",
       "      <td id=\"T_030b9_row10_col5\" class=\"data row10 col5\" >0.2266</td>\n",
       "      <td id=\"T_030b9_row10_col6\" class=\"data row10 col6\" >0.2327</td>\n",
       "    </tr>\n",
       "    <tr>\n",
       "      <th id=\"T_030b9_level0_row11\" class=\"row_heading level0 row11\" >Std</th>\n",
       "      <td id=\"T_030b9_row11_col0\" class=\"data row11 col0\" >0.0778</td>\n",
       "      <td id=\"T_030b9_row11_col1\" class=\"data row11 col1\" >0.0819</td>\n",
       "      <td id=\"T_030b9_row11_col2\" class=\"data row11 col2\" >0.1400</td>\n",
       "      <td id=\"T_030b9_row11_col3\" class=\"data row11 col3\" >0.1023</td>\n",
       "      <td id=\"T_030b9_row11_col4\" class=\"data row11 col4\" >0.1017</td>\n",
       "      <td id=\"T_030b9_row11_col5\" class=\"data row11 col5\" >0.1581</td>\n",
       "      <td id=\"T_030b9_row11_col6\" class=\"data row11 col6\" >0.1608</td>\n",
       "    </tr>\n",
       "  </tbody>\n",
       "</table>\n"
      ],
      "text/plain": [
       "<pandas.io.formats.style.Styler at 0x1fa11deded0>"
      ]
     },
     "metadata": {},
     "output_type": "display_data"
    },
    {
     "data": {
      "text/html": [],
      "text/plain": [
       "<IPython.core.display.HTML object>"
      ]
     },
     "metadata": {},
     "output_type": "display_data"
    }
   ],
   "source": [
    "from interpret import show\n",
    "from interpret.data import Marginal\n",
    "from interpret.glassbox import ExplainableBoostingClassifier\n",
    "from interpret.blackbox import LimeTabular, ShapKernel, MorrisSensitivity, PartialDependence\n",
    "import lime\n",
    "import lime.lime_tabular\n",
    "from interpret.perf import ROC\n",
    "# Charger le jeu de données\n",
    "import pandas as pd\n",
    "from pycaret.datasets import get_data\n",
    "from pycaret.classification import *\n",
    "\n",
    "# Charger vos propres données\n",
    "df = pd.read_csv(\"heart_disease_data.csv\")\n",
    "\n",
    "# Initialiser l'environnement PyCaret\n",
    "clf1 = setup(data=df, target='condition')\n",
    "\n",
    "# Extracting features and target variable\n",
    "X = get_config('X')\n",
    "y = get_config('y')\n",
    "\n",
    "# Split the data into training and testing sets\n",
    "X_train, X_test, y_train, y_test = train_test_split(X, y, test_size=0.2, random_state=seed)\n"
   ]
  },
  {
   "cell_type": "markdown",
   "id": "c2077676",
   "metadata": {},
   "source": [
    "# Show blackbox model performance"
   ]
  },
  {
   "cell_type": "code",
   "execution_count": 16,
   "id": "1912bb85",
   "metadata": {},
   "outputs": [
    {
     "data": {
      "text/html": [
       "<!-- http://127.0.0.1:7948/2173575955472/ -->\n",
       "<iframe src=\"http://127.0.0.1:7948/2173575955472/\" width=100% height=800 frameBorder=\"0\"></iframe>"
      ]
     },
     "metadata": {},
     "output_type": "display_data"
    },
    {
     "data": {
      "text/html": [
       "<!-- http://127.0.0.1:7948/2173581859856/ -->\n",
       "<iframe src=\"http://127.0.0.1:7948/2173581859856/\" width=100% height=800 frameBorder=\"0\"></iframe>"
      ]
     },
     "metadata": {},
     "output_type": "display_data"
    },
    {
     "data": {
      "text/html": [
       "<!-- http://127.0.0.1:7948/2173576978576/ -->\n",
       "<iframe src=\"http://127.0.0.1:7948/2173576978576/\" width=100% height=800 frameBorder=\"0\"></iframe>"
      ]
     },
     "metadata": {},
     "output_type": "display_data"
    },
    {
     "data": {
      "text/html": [
       "<!-- http://127.0.0.1:7948/2173579103696/ -->\n",
       "<iframe src=\"http://127.0.0.1:7948/2173579103696/\" width=100% height=800 frameBorder=\"0\"></iframe>"
      ]
     },
     "metadata": {},
     "output_type": "display_data"
    },
    {
     "data": {
      "text/html": [
       "<!-- http://127.0.0.1:7948/2173579354704/ -->\n",
       "<iframe src=\"http://127.0.0.1:7948/2173579354704/\" width=100% height=800 frameBorder=\"0\"></iframe>"
      ]
     },
     "metadata": {},
     "output_type": "display_data"
    }
   ],
   "source": [
    " # Performance ROC for the blackbox model\n",
    "for model_name in models_to_compare:\n",
    "\n",
    "    \n",
    "    # Train the model\n",
    "    current_model.fit(X_train, y_train)\n",
    "\n",
    "    # Create a blackbox model using the trained model\n",
    "    blackbox_model = current_model\n",
    "    blackbox_perf = ROC(blackbox_model).explain_perf(X_test, y_test, name=f'Blackbox_{model_name}')\n",
    "    show(blackbox_perf)\n"
   ]
  },
  {
   "cell_type": "markdown",
   "id": "3cdec2bb",
   "metadata": {},
   "source": [
    "# Local Explanations: How an individual prediction was made"
   ]
  },
  {
   "cell_type": "code",
   "execution_count": 15,
   "id": "ad9db5b2",
   "metadata": {},
   "outputs": [
    {
     "data": {
      "text/html": [
       "<!-- http://127.0.0.1:7948/2173575802448/ -->\n",
       "<iframe src=\"http://127.0.0.1:7948/2173575802448/\" width=100% height=800 frameBorder=\"0\"></iframe>"
      ]
     },
     "metadata": {},
     "output_type": "display_data"
    },
    {
     "data": {
      "text/html": [
       "<!-- http://127.0.0.1:7948/2173539383888/ -->\n",
       "<iframe src=\"http://127.0.0.1:7948/2173539383888/\" width=100% height=800 frameBorder=\"0\"></iframe>"
      ]
     },
     "metadata": {},
     "output_type": "display_data"
    },
    {
     "data": {
      "text/html": [
       "<!-- http://127.0.0.1:7948/2173576296528/ -->\n",
       "<iframe src=\"http://127.0.0.1:7948/2173576296528/\" width=100% height=800 frameBorder=\"0\"></iframe>"
      ]
     },
     "metadata": {},
     "output_type": "display_data"
    },
    {
     "data": {
      "text/html": [
       "<!-- http://127.0.0.1:7948/2173553276688/ -->\n",
       "<iframe src=\"http://127.0.0.1:7948/2173553276688/\" width=100% height=800 frameBorder=\"0\"></iframe>"
      ]
     },
     "metadata": {},
     "output_type": "display_data"
    },
    {
     "data": {
      "text/html": [
       "<!-- http://127.0.0.1:7948/2173579398928/ -->\n",
       "<iframe src=\"http://127.0.0.1:7948/2173579398928/\" width=100% height=800 frameBorder=\"0\"></iframe>"
      ]
     },
     "metadata": {},
     "output_type": "display_data"
    }
   ],
   "source": [
    " # Explainability using LIME\n",
    "for model_name in models_to_compare:\n",
    "    # Creating a model\n",
    "    \n",
    "    \n",
    "    # Train the model\n",
    "    current_model.fit(X_train, y_train)\n",
    "\n",
    "    # Create a blackbox model using the trained model\n",
    "    blackbox_model = current_model\n",
    "    lime = LimeTabular(blackbox_model, X_train, random_state=1)\n",
    "    lime_local = lime.explain_local(X_test[:5], y_test[:5], name=f'LIME_{model_name}')\n",
    "    show(lime_local, 0)"
   ]
  },
  {
   "cell_type": "code",
   "execution_count": 17,
   "id": "9078dcdd",
   "metadata": {},
   "outputs": [
    {
     "data": {
      "application/vnd.jupyter.widget-view+json": {
       "model_id": "d2aa2ff7e83a4d8a90fd202759a28e96",
       "version_major": 2,
       "version_minor": 0
      },
      "text/plain": [
       "  0%|          | 0/5 [00:00<?, ?it/s]"
      ]
     },
     "metadata": {},
     "output_type": "display_data"
    },
    {
     "data": {
      "text/html": [
       "<!-- http://127.0.0.1:7948/2173764789520/ -->\n",
       "<iframe src=\"http://127.0.0.1:7948/2173764789520/\" width=100% height=800 frameBorder=\"0\"></iframe>"
      ]
     },
     "metadata": {},
     "output_type": "display_data"
    },
    {
     "data": {
      "application/vnd.jupyter.widget-view+json": {
       "model_id": "31a050f9c80d468bbb71da05bdc6f29a",
       "version_major": 2,
       "version_minor": 0
      },
      "text/plain": [
       "  0%|          | 0/5 [00:00<?, ?it/s]"
      ]
     },
     "metadata": {},
     "output_type": "display_data"
    },
    {
     "data": {
      "text/html": [
       "<!-- http://127.0.0.1:7948/2173774089680/ -->\n",
       "<iframe src=\"http://127.0.0.1:7948/2173774089680/\" width=100% height=800 frameBorder=\"0\"></iframe>"
      ]
     },
     "metadata": {},
     "output_type": "display_data"
    },
    {
     "data": {
      "application/vnd.jupyter.widget-view+json": {
       "model_id": "c4e7fff6fe6a42c0be278cdd47cf4b4f",
       "version_major": 2,
       "version_minor": 0
      },
      "text/plain": [
       "  0%|          | 0/5 [00:00<?, ?it/s]"
      ]
     },
     "metadata": {},
     "output_type": "display_data"
    },
    {
     "data": {
      "text/html": [
       "<!-- http://127.0.0.1:7948/2173774019856/ -->\n",
       "<iframe src=\"http://127.0.0.1:7948/2173774019856/\" width=100% height=800 frameBorder=\"0\"></iframe>"
      ]
     },
     "metadata": {},
     "output_type": "display_data"
    },
    {
     "data": {
      "application/vnd.jupyter.widget-view+json": {
       "model_id": "0b49f771fcf64f3fa11024eb8e2af7aa",
       "version_major": 2,
       "version_minor": 0
      },
      "text/plain": [
       "  0%|          | 0/5 [00:00<?, ?it/s]"
      ]
     },
     "metadata": {},
     "output_type": "display_data"
    },
    {
     "data": {
      "text/html": [
       "<!-- http://127.0.0.1:7948/2173774267152/ -->\n",
       "<iframe src=\"http://127.0.0.1:7948/2173774267152/\" width=100% height=800 frameBorder=\"0\"></iframe>"
      ]
     },
     "metadata": {},
     "output_type": "display_data"
    },
    {
     "data": {
      "application/vnd.jupyter.widget-view+json": {
       "model_id": "59d3a5f8bc7143b7860d53b09c0acf37",
       "version_major": 2,
       "version_minor": 0
      },
      "text/plain": [
       "  0%|          | 0/5 [00:00<?, ?it/s]"
      ]
     },
     "metadata": {},
     "output_type": "display_data"
    },
    {
     "data": {
      "text/html": [
       "<!-- http://127.0.0.1:7948/2173576506384/ -->\n",
       "<iframe src=\"http://127.0.0.1:7948/2173576506384/\" width=100% height=800 frameBorder=\"0\"></iframe>"
      ]
     },
     "metadata": {},
     "output_type": "display_data"
    }
   ],
   "source": [
    " # SHAP explanation\n",
    "for model_name in models_to_compare:\n",
    "    \n",
    "    \n",
    "    # Train the model\n",
    "    current_model.fit(X_train, y_train)\n",
    "\n",
    "    # Create a blackbox model using the trained model\n",
    "    blackbox_model = current_model\n",
    "    background_val = pd.DataFrame(np.median(X_train, axis=0).reshape(1, -1), columns=X.columns)\n",
    "    shap = ShapKernel(blackbox_model, background_val)\n",
    "    shap_local = shap.explain_local(X_test[:5], y_test[:5], name=f'SHAP_{model_name}')\n",
    "    show(shap_local, 0)\n"
   ]
  },
  {
   "cell_type": "markdown",
   "id": "2677bbef",
   "metadata": {},
   "source": [
    "## Global Explanations: How the model behaves overall"
   ]
  },
  {
   "cell_type": "code",
   "execution_count": 18,
   "id": "b43c5497",
   "metadata": {},
   "outputs": [
    {
     "data": {
      "text/html": [
       "<!-- http://127.0.0.1:7948/2173774134608/ -->\n",
       "<iframe src=\"http://127.0.0.1:7948/2173774134608/\" width=100% height=800 frameBorder=\"0\"></iframe>"
      ]
     },
     "metadata": {},
     "output_type": "display_data"
    },
    {
     "data": {
      "text/html": [
       "<!-- http://127.0.0.1:7948/2173775111760/ -->\n",
       "<iframe src=\"http://127.0.0.1:7948/2173775111760/\" width=100% height=800 frameBorder=\"0\"></iframe>"
      ]
     },
     "metadata": {},
     "output_type": "display_data"
    },
    {
     "data": {
      "text/html": [
       "<!-- http://127.0.0.1:7948/2173765051024/ -->\n",
       "<iframe src=\"http://127.0.0.1:7948/2173765051024/\" width=100% height=800 frameBorder=\"0\"></iframe>"
      ]
     },
     "metadata": {},
     "output_type": "display_data"
    },
    {
     "data": {
      "text/html": [
       "<!-- http://127.0.0.1:7948/2173774356688/ -->\n",
       "<iframe src=\"http://127.0.0.1:7948/2173774356688/\" width=100% height=800 frameBorder=\"0\"></iframe>"
      ]
     },
     "metadata": {},
     "output_type": "display_data"
    },
    {
     "data": {
      "text/html": [
       "<!-- http://127.0.0.1:7948/2173774576208/ -->\n",
       "<iframe src=\"http://127.0.0.1:7948/2173774576208/\" width=100% height=800 frameBorder=\"0\"></iframe>"
      ]
     },
     "metadata": {},
     "output_type": "display_data"
    }
   ],
   "source": [
    "for model_name in models_to_compare:\n",
    "\n",
    "    \n",
    "    # Train the model\n",
    "    current_model.fit(X_train, y_train)\n",
    "\n",
    "    # Create a blackbox model using the trained model\n",
    "    blackbox_model = current_model\n",
    "\n",
    "    \n",
    "\n",
    "    # Morris Sensitivity\n",
    "    sensitivity = MorrisSensitivity(blackbox_model, X_train)\n",
    "    sensitivity_global = sensitivity.explain_global(name=f'Morris_{model_name}')\n",
    "    show(sensitivity_global)\n",
    "\n",
    "   "
   ]
  },
  {
   "cell_type": "code",
   "execution_count": 19,
   "id": "7da5fd00",
   "metadata": {},
   "outputs": [
    {
     "data": {
      "text/html": [
       "<!-- http://127.0.0.1:7948/2173457752976/ -->\n",
       "<iframe src=\"http://127.0.0.1:7948/2173457752976/\" width=100% height=800 frameBorder=\"0\"></iframe>"
      ]
     },
     "metadata": {},
     "output_type": "display_data"
    },
    {
     "data": {
      "text/html": [
       "<!-- http://127.0.0.1:7948/2173775202384/ -->\n",
       "<iframe src=\"http://127.0.0.1:7948/2173775202384/\" width=100% height=800 frameBorder=\"0\"></iframe>"
      ]
     },
     "metadata": {},
     "output_type": "display_data"
    },
    {
     "data": {
      "text/html": [
       "<!-- http://127.0.0.1:7948/2173776323344/ -->\n",
       "<iframe src=\"http://127.0.0.1:7948/2173776323344/\" width=100% height=800 frameBorder=\"0\"></iframe>"
      ]
     },
     "metadata": {},
     "output_type": "display_data"
    },
    {
     "data": {
      "text/html": [
       "<!-- http://127.0.0.1:7948/2173777129168/ -->\n",
       "<iframe src=\"http://127.0.0.1:7948/2173777129168/\" width=100% height=800 frameBorder=\"0\"></iframe>"
      ]
     },
     "metadata": {},
     "output_type": "display_data"
    },
    {
     "data": {
      "text/html": [
       "<!-- http://127.0.0.1:7948/2173776708944/ -->\n",
       "<iframe src=\"http://127.0.0.1:7948/2173776708944/\" width=100% height=800 frameBorder=\"0\"></iframe>"
      ]
     },
     "metadata": {},
     "output_type": "display_data"
    }
   ],
   "source": [
    "for model_name in models_to_compare:\n",
    "    \n",
    "    \n",
    "    # Train the model\n",
    "    current_model.fit(X_train, y_train)\n",
    "\n",
    "    # Create a blackbox model using the trained model\n",
    "    blackbox_model = current_model\n",
    "\n",
    "   \n",
    "    \n",
    "     # Marginal explanation\n",
    "    marginal = Marginal().explain_data(X_train, y_train, name=f'Marginal_{model_name}')\n",
    "    show(marginal)"
   ]
  },
  {
   "cell_type": "code",
   "execution_count": 20,
   "id": "6340f33a",
   "metadata": {},
   "outputs": [
    {
     "data": {
      "text/html": [
       "<!-- http://127.0.0.1:7948/2173410720080/ -->\n",
       "<iframe src=\"http://127.0.0.1:7948/2173410720080/\" width=100% height=800 frameBorder=\"0\"></iframe>"
      ]
     },
     "metadata": {},
     "output_type": "display_data"
    },
    {
     "data": {
      "text/html": [
       "<!-- http://127.0.0.1:7948/2173777392208/ -->\n",
       "<iframe src=\"http://127.0.0.1:7948/2173777392208/\" width=100% height=800 frameBorder=\"0\"></iframe>"
      ]
     },
     "metadata": {},
     "output_type": "display_data"
    },
    {
     "data": {
      "text/html": [
       "<!-- http://127.0.0.1:7948/2173775553680/ -->\n",
       "<iframe src=\"http://127.0.0.1:7948/2173775553680/\" width=100% height=800 frameBorder=\"0\"></iframe>"
      ]
     },
     "metadata": {},
     "output_type": "display_data"
    },
    {
     "data": {
      "text/html": [
       "<!-- http://127.0.0.1:7948/2173777381776/ -->\n",
       "<iframe src=\"http://127.0.0.1:7948/2173777381776/\" width=100% height=800 frameBorder=\"0\"></iframe>"
      ]
     },
     "metadata": {},
     "output_type": "display_data"
    },
    {
     "data": {
      "text/html": [
       "<!-- http://127.0.0.1:7948/2173777820496/ -->\n",
       "<iframe src=\"http://127.0.0.1:7948/2173777820496/\" width=100% height=800 frameBorder=\"0\"></iframe>"
      ]
     },
     "metadata": {},
     "output_type": "display_data"
    }
   ],
   "source": [
    "for model_name in models_to_compare: \n",
    "    # Train the model\n",
    "    current_model.fit(X_train, y_train)\n",
    "    # Create a blackbox model using the trained model\n",
    "    blackbox_model = current_model\n",
    "    # Partial Dependence\n",
    "    pdp = PartialDependence(blackbox_model, X_train)\n",
    "    pdp_global = pdp.explain_global(name=f'PDP_{model_name}')\n",
    "    show(pdp_global, 0)\n",
    "\n",
    "    \n",
    "    "
   ]
  },
  {
   "cell_type": "code",
   "execution_count": 28,
   "id": "925786ac",
   "metadata": {},
   "outputs": [
    {
     "data": {
      "text/html": [
       "<!-- http://127.0.0.1:7948/2173787252736/ -->\n",
       "<a href=\"http://127.0.0.1:7948/2173787252736/\" target=\"_new\">Open in new window</a><iframe src=\"http://127.0.0.1:7948/2173787252736/\" width=100% height=800 frameBorder=\"0\"></iframe>"
      ]
     },
     "metadata": {},
     "output_type": "display_data"
    }
   ],
   "source": [
    "show([blackbox_perf, lime_local, shap_local, sensitivity_global, pdp_global])"
   ]
  },
  {
   "cell_type": "code",
   "execution_count": null,
   "id": "25054b95",
   "metadata": {},
   "outputs": [],
   "source": []
  },
  {
   "cell_type": "code",
   "execution_count": null,
   "id": "e6c195ee",
   "metadata": {},
   "outputs": [],
   "source": []
  },
  {
   "cell_type": "code",
   "execution_count": 2,
   "id": "87a4728f",
   "metadata": {},
   "outputs": [
    {
     "name": "stdout",
     "output_type": "stream",
     "text": [
      "Collecting omnixai\n",
      "  Using cached omnixai-1.3.1-py3-none-any.whl.metadata (27 kB)\n",
      "Collecting numpy<1.24,>=1.17 (from omnixai)\n",
      "  Using cached numpy-1.23.5-cp311-cp311-win_amd64.whl (14.6 MB)\n",
      "Requirement already satisfied: pandas>=1.1.0 in c:\\users\\moya\\anaconda3\\lib\\site-packages (from omnixai) (1.5.3)\n",
      "Collecting scikit-learn<1.2,>=0.24 (from omnixai)\n",
      "  Using cached scikit_learn-1.1.3-cp311-cp311-win_amd64.whl (7.5 MB)\n",
      "Requirement already satisfied: scipy>=1.5.0 in c:\\users\\moya\\anaconda3\\lib\\site-packages (from omnixai) (1.10.1)\n",
      "Requirement already satisfied: scikit-image>=0.17.2 in c:\\users\\moya\\anaconda3\\lib\\site-packages (from omnixai) (0.20.0)\n",
      "Requirement already satisfied: matplotlib in c:\\users\\moya\\anaconda3\\lib\\site-packages (from omnixai) (3.6.0)\n",
      "Requirement already satisfied: pillow<10.0 in c:\\users\\moya\\anaconda3\\lib\\site-packages (from omnixai) (9.4.0)\n",
      "Requirement already satisfied: lime in c:\\users\\moya\\anaconda3\\lib\\site-packages (from omnixai) (0.2.0.1)\n",
      "Requirement already satisfied: shap>=0.40.0 in c:\\users\\moya\\anaconda3\\lib\\site-packages (from omnixai) (0.44.0)\n",
      "Requirement already satisfied: SALib in c:\\users\\moya\\anaconda3\\lib\\site-packages (from omnixai) (1.4.7)\n",
      "Collecting hnswlib>=0.5.0 (from omnixai)\n",
      "  Using cached hnswlib-0.8.0.tar.gz (36 kB)\n",
      "  Installing build dependencies: started\n",
      "  Installing build dependencies: finished with status 'done'\n",
      "  Getting requirements to build wheel: started\n",
      "  Getting requirements to build wheel: finished with status 'done'\n",
      "  Preparing metadata (pyproject.toml): started\n",
      "  Preparing metadata (pyproject.toml): finished with status 'done'\n",
      "Requirement already satisfied: dill in c:\\users\\moya\\anaconda3\\lib\\site-packages (from omnixai) (0.3.7)\n",
      "Requirement already satisfied: tqdm in c:\\users\\moya\\anaconda3\\lib\\site-packages (from omnixai) (4.65.0)\n",
      "Requirement already satisfied: wheel in c:\\users\\moya\\anaconda3\\lib\\site-packages (from omnixai) (0.38.4)\n",
      "Requirement already satisfied: packaging in c:\\users\\moya\\anaconda3\\lib\\site-packages (from omnixai) (23.0)\n",
      "Requirement already satisfied: ipython>=8.10.0 in c:\\users\\moya\\appdata\\roaming\\python\\python311\\site-packages (from omnixai) (8.15.0)\n",
      "Requirement already satisfied: tabulate in c:\\users\\moya\\anaconda3\\lib\\site-packages (from omnixai) (0.8.10)\n",
      "Requirement already satisfied: statsmodels>=0.10.1 in c:\\users\\moya\\anaconda3\\lib\\site-packages (from omnixai) (0.14.0)\n",
      "Collecting openai (from omnixai)\n",
      "  Using cached openai-1.8.0-py3-none-any.whl.metadata (18 kB)\n",
      "Requirement already satisfied: backcall in c:\\users\\moya\\appdata\\roaming\\python\\python311\\site-packages (from ipython>=8.10.0->omnixai) (0.2.0)\n",
      "Requirement already satisfied: decorator in c:\\users\\moya\\appdata\\roaming\\python\\python311\\site-packages (from ipython>=8.10.0->omnixai) (5.1.1)\n",
      "Requirement already satisfied: jedi>=0.16 in c:\\users\\moya\\appdata\\roaming\\python\\python311\\site-packages (from ipython>=8.10.0->omnixai) (0.19.0)\n",
      "Requirement already satisfied: matplotlib-inline in c:\\users\\moya\\appdata\\roaming\\python\\python311\\site-packages (from ipython>=8.10.0->omnixai) (0.1.6)\n",
      "Requirement already satisfied: pickleshare in c:\\users\\moya\\appdata\\roaming\\python\\python311\\site-packages (from ipython>=8.10.0->omnixai) (0.7.5)\n",
      "Requirement already satisfied: prompt-toolkit!=3.0.37,<3.1.0,>=3.0.30 in c:\\users\\moya\\appdata\\roaming\\python\\python311\\site-packages (from ipython>=8.10.0->omnixai) (3.0.39)\n",
      "Requirement already satisfied: pygments>=2.4.0 in c:\\users\\moya\\appdata\\roaming\\python\\python311\\site-packages (from ipython>=8.10.0->omnixai) (2.16.1)\n",
      "Requirement already satisfied: stack-data in c:\\users\\moya\\appdata\\roaming\\python\\python311\\site-packages (from ipython>=8.10.0->omnixai) (0.6.2)\n",
      "Requirement already satisfied: traitlets>=5 in c:\\users\\moya\\appdata\\roaming\\python\\python311\\site-packages (from ipython>=8.10.0->omnixai) (5.9.0)\n",
      "Requirement already satisfied: colorama in c:\\users\\moya\\anaconda3\\lib\\site-packages (from ipython>=8.10.0->omnixai) (0.4.6)\n",
      "Requirement already satisfied: python-dateutil>=2.8.1 in c:\\users\\moya\\anaconda3\\lib\\site-packages (from pandas>=1.1.0->omnixai) (2.8.2)\n",
      "Requirement already satisfied: pytz>=2020.1 in c:\\users\\moya\\anaconda3\\lib\\site-packages (from pandas>=1.1.0->omnixai) (2022.7)\n",
      "Requirement already satisfied: networkx>=2.8 in c:\\users\\moya\\anaconda3\\lib\\site-packages (from scikit-image>=0.17.2->omnixai) (3.1)\n",
      "Requirement already satisfied: imageio>=2.4.1 in c:\\users\\moya\\anaconda3\\lib\\site-packages (from scikit-image>=0.17.2->omnixai) (2.26.0)\n",
      "Requirement already satisfied: tifffile>=2019.7.26 in c:\\users\\moya\\anaconda3\\lib\\site-packages (from scikit-image>=0.17.2->omnixai) (2021.7.2)\n",
      "Requirement already satisfied: PyWavelets>=1.1.1 in c:\\users\\moya\\anaconda3\\lib\\site-packages (from scikit-image>=0.17.2->omnixai) (1.4.1)\n",
      "Requirement already satisfied: lazy_loader>=0.1 in c:\\users\\moya\\anaconda3\\lib\\site-packages (from scikit-image>=0.17.2->omnixai) (0.2)\n",
      "Requirement already satisfied: joblib>=1.0.0 in c:\\users\\moya\\anaconda3\\lib\\site-packages (from scikit-learn<1.2,>=0.24->omnixai) (1.2.0)\n",
      "Requirement already satisfied: threadpoolctl>=2.0.0 in c:\\users\\moya\\anaconda3\\lib\\site-packages (from scikit-learn<1.2,>=0.24->omnixai) (2.2.0)\n",
      "Requirement already satisfied: slicer==0.0.7 in c:\\users\\moya\\anaconda3\\lib\\site-packages (from shap>=0.40.0->omnixai) (0.0.7)\n",
      "Requirement already satisfied: numba in c:\\users\\moya\\anaconda3\\lib\\site-packages (from shap>=0.40.0->omnixai) (0.57.0)\n",
      "Requirement already satisfied: cloudpickle in c:\\users\\moya\\anaconda3\\lib\\site-packages (from shap>=0.40.0->omnixai) (2.2.1)\n",
      "Requirement already satisfied: patsy>=0.5.2 in c:\\users\\moya\\anaconda3\\lib\\site-packages (from statsmodels>=0.10.1->omnixai) (0.5.3)\n",
      "Requirement already satisfied: contourpy>=1.0.1 in c:\\users\\moya\\anaconda3\\lib\\site-packages (from matplotlib->omnixai) (1.0.5)\n",
      "Requirement already satisfied: cycler>=0.10 in c:\\users\\moya\\anaconda3\\lib\\site-packages (from matplotlib->omnixai) (0.11.0)\n",
      "Requirement already satisfied: fonttools>=4.22.0 in c:\\users\\moya\\anaconda3\\lib\\site-packages (from matplotlib->omnixai) (4.25.0)\n",
      "Requirement already satisfied: kiwisolver>=1.0.1 in c:\\users\\moya\\anaconda3\\lib\\site-packages (from matplotlib->omnixai) (1.4.4)\n",
      "Requirement already satisfied: pyparsing>=2.2.1 in c:\\users\\moya\\anaconda3\\lib\\site-packages (from matplotlib->omnixai) (3.0.9)\n",
      "Requirement already satisfied: anyio<5,>=3.5.0 in c:\\users\\moya\\anaconda3\\lib\\site-packages (from openai->omnixai) (3.5.0)\n",
      "Collecting distro<2,>=1.7.0 (from openai->omnixai)\n",
      "  Using cached distro-1.9.0-py3-none-any.whl.metadata (6.8 kB)\n",
      "Collecting httpx<1,>=0.23.0 (from openai->omnixai)\n",
      "  Using cached httpx-0.26.0-py3-none-any.whl.metadata (7.6 kB)\n",
      "Collecting pydantic<3,>=1.9.0 (from openai->omnixai)\n",
      "  Using cached pydantic-2.5.3-py3-none-any.whl.metadata (65 kB)\n",
      "Requirement already satisfied: sniffio in c:\\users\\moya\\anaconda3\\lib\\site-packages (from openai->omnixai) (1.2.0)\n",
      "Collecting typing-extensions<5,>=4.7 (from openai->omnixai)\n",
      "  Using cached typing_extensions-4.9.0-py3-none-any.whl.metadata (3.0 kB)\n",
      "Requirement already satisfied: multiprocess in c:\\users\\moya\\anaconda3\\lib\\site-packages (from SALib->omnixai) (0.70.15)\n",
      "Requirement already satisfied: idna>=2.8 in c:\\users\\moya\\anaconda3\\lib\\site-packages (from anyio<5,>=3.5.0->openai->omnixai) (3.4)\n",
      "Requirement already satisfied: certifi in c:\\users\\moya\\anaconda3\\lib\\site-packages (from httpx<1,>=0.23.0->openai->omnixai) (2023.7.22)\n",
      "Collecting httpcore==1.* (from httpx<1,>=0.23.0->openai->omnixai)\n",
      "  Using cached httpcore-1.0.2-py3-none-any.whl.metadata (20 kB)\n",
      "Collecting h11<0.15,>=0.13 (from httpcore==1.*->httpx<1,>=0.23.0->openai->omnixai)\n",
      "  Using cached h11-0.14.0-py3-none-any.whl (58 kB)\n",
      "Requirement already satisfied: parso<0.9.0,>=0.8.3 in c:\\users\\moya\\appdata\\roaming\\python\\python311\\site-packages (from jedi>=0.16->ipython>=8.10.0->omnixai) (0.8.3)\n",
      "Requirement already satisfied: six in c:\\users\\moya\\anaconda3\\lib\\site-packages (from patsy>=0.5.2->statsmodels>=0.10.1->omnixai) (1.16.0)\n",
      "Requirement already satisfied: wcwidth in c:\\users\\moya\\appdata\\roaming\\python\\python311\\site-packages (from prompt-toolkit!=3.0.37,<3.1.0,>=3.0.30->ipython>=8.10.0->omnixai) (0.2.6)\n",
      "Collecting annotated-types>=0.4.0 (from pydantic<3,>=1.9.0->openai->omnixai)\n",
      "  Using cached annotated_types-0.6.0-py3-none-any.whl.metadata (12 kB)\n",
      "Collecting pydantic-core==2.14.6 (from pydantic<3,>=1.9.0->openai->omnixai)\n",
      "  Using cached pydantic_core-2.14.6-cp311-none-win_amd64.whl.metadata (6.6 kB)\n",
      "Requirement already satisfied: llvmlite<0.41,>=0.40.0dev0 in c:\\users\\moya\\anaconda3\\lib\\site-packages (from numba->shap>=0.40.0->omnixai) (0.40.0)\n",
      "Requirement already satisfied: executing>=1.2.0 in c:\\users\\moya\\appdata\\roaming\\python\\python311\\site-packages (from stack-data->ipython>=8.10.0->omnixai) (1.2.0)\n",
      "Requirement already satisfied: asttokens>=2.1.0 in c:\\users\\moya\\appdata\\roaming\\python\\python311\\site-packages (from stack-data->ipython>=8.10.0->omnixai) (2.4.0)\n",
      "Requirement already satisfied: pure-eval in c:\\users\\moya\\appdata\\roaming\\python\\python311\\site-packages (from stack-data->ipython>=8.10.0->omnixai) (0.2.2)\n",
      "Using cached omnixai-1.3.1-py3-none-any.whl (543 kB)\n",
      "Using cached openai-1.8.0-py3-none-any.whl (222 kB)\n",
      "Using cached distro-1.9.0-py3-none-any.whl (20 kB)\n",
      "Using cached httpx-0.26.0-py3-none-any.whl (75 kB)\n",
      "Using cached httpcore-1.0.2-py3-none-any.whl (76 kB)\n",
      "Using cached pydantic-2.5.3-py3-none-any.whl (381 kB)\n",
      "Using cached pydantic_core-2.14.6-cp311-none-win_amd64.whl (1.9 MB)\n",
      "Using cached typing_extensions-4.9.0-py3-none-any.whl (32 kB)\n",
      "Using cached annotated_types-0.6.0-py3-none-any.whl (12 kB)\n",
      "Building wheels for collected packages: hnswlib\n",
      "  Building wheel for hnswlib (pyproject.toml): started\n",
      "  Building wheel for hnswlib (pyproject.toml): finished with status 'error'\n",
      "Failed to build hnswlib\n",
      "Note: you may need to restart the kernel to use updated packages.\n"
     ]
    },
    {
     "name": "stderr",
     "output_type": "stream",
     "text": [
      "  error: subprocess-exited-with-error\n",
      "  \n",
      "  Building wheel for hnswlib (pyproject.toml) did not run successfully.\n",
      "  exit code: 1\n",
      "  \n",
      "  [5 lines of output]\n",
      "  running bdist_wheel\n",
      "  running build\n",
      "  running build_ext\n",
      "  building 'hnswlib' extension\n",
      "  error: Microsoft Visual C++ 14.0 or greater is required. Get it with \"Microsoft C++ Build Tools\": https://visualstudio.microsoft.com/visual-cpp-build-tools/\n",
      "  [end of output]\n",
      "  \n",
      "  note: This error originates from a subprocess, and is likely not a problem with pip.\n",
      "  ERROR: Failed building wheel for hnswlib\n",
      "ERROR: Could not build wheels for hnswlib, which is required to install pyproject.toml-based projects\n"
     ]
    }
   ],
   "source": [
    "pip install omnixai"
   ]
  },
  {
   "cell_type": "code",
   "execution_count": 3,
   "id": "107d6086",
   "metadata": {},
   "outputs": [
    {
     "ename": "ModuleNotFoundError",
     "evalue": "No module named 'omnixai'",
     "output_type": "error",
     "traceback": [
      "\u001b[1;31m---------------------------------------------------------------------------\u001b[0m",
      "\u001b[1;31mModuleNotFoundError\u001b[0m                       Traceback (most recent call last)",
      "Cell \u001b[1;32mIn[3], line 7\u001b[0m\n\u001b[0;32m      4\u001b[0m \u001b[38;5;28;01mimport\u001b[39;00m \u001b[38;5;21;01mnumpy\u001b[39;00m \u001b[38;5;28;01mas\u001b[39;00m \u001b[38;5;21;01mnp\u001b[39;00m\n\u001b[0;32m      5\u001b[0m \u001b[38;5;28;01mimport\u001b[39;00m \u001b[38;5;21;01mpandas\u001b[39;00m \u001b[38;5;28;01mas\u001b[39;00m \u001b[38;5;21;01mpd\u001b[39;00m\n\u001b[1;32m----> 7\u001b[0m \u001b[38;5;28;01mfrom\u001b[39;00m \u001b[38;5;21;01momnixai\u001b[39;00m\u001b[38;5;21;01m.\u001b[39;00m\u001b[38;5;21;01mdata\u001b[39;00m\u001b[38;5;21;01m.\u001b[39;00m\u001b[38;5;21;01mtabular\u001b[39;00m \u001b[38;5;28;01mimport\u001b[39;00m Tabular\n\u001b[0;32m      8\u001b[0m \u001b[38;5;28;01mfrom\u001b[39;00m \u001b[38;5;21;01momnixai\u001b[39;00m\u001b[38;5;21;01m.\u001b[39;00m\u001b[38;5;21;01mpreprocessing\u001b[39;00m\u001b[38;5;21;01m.\u001b[39;00m\u001b[38;5;21;01mtabular\u001b[39;00m \u001b[38;5;28;01mimport\u001b[39;00m TabularTransform\n\u001b[0;32m      9\u001b[0m \u001b[38;5;28;01mfrom\u001b[39;00m \u001b[38;5;21;01momnixai\u001b[39;00m\u001b[38;5;21;01m.\u001b[39;00m\u001b[38;5;21;01mexplainers\u001b[39;00m\u001b[38;5;21;01m.\u001b[39;00m\u001b[38;5;21;01mtabular\u001b[39;00m \u001b[38;5;28;01mimport\u001b[39;00m TabularExplainer\n",
      "\u001b[1;31mModuleNotFoundError\u001b[0m: No module named 'omnixai'"
     ]
    }
   ],
   "source": [
    "\n",
    "import sklearn\n",
    "\n",
    "import xgboost\n",
    "import numpy as np\n",
    "import pandas as pd\n",
    "\n",
    "from omnixai.data.tabular import Tabular\n",
    "from omnixai.preprocessing.tabular import TabularTransform\n",
    "from omnixai.explainers.tabular import TabularExplainer\n",
    "from omnixai.visualization.dashboard import Dashboard\n",
    "\n",
    "# Charger vos propres données\n",
    "df = pd.read_csv(\"heart_disease_data.csv\")\n",
    "\n",
    "# Prétraitement des données\n",
    "preprocess = lambda z: transformer.transform(z)\n",
    "\n",
    "# Initialiser le transformateur Tabular\n",
    "transformer = TabularTransform().fit(df)\n",
    "class_names = transformer.class_names\n",
    "tabular_data = transformer.transform(df)\n",
    "\n",
    "# Diviser les données en ensembles d'entraînement et de test\n",
    "np.random.seed(1)\n",
    "train, test, train_labels, test_labels = sklearn.model_selection.train_test_split(\n",
    "    tabular_data[:, :-1], tabular_data[:, -1], train_size=0.80\n",
    ")\n",
    "\n",
    "print('Training data shape: {}'.format(train.shape))\n",
    "print('Test data shape:     {}'.format(test.shape))\n",
    "\n",
    "# Entraîner un modèle XGBoost\n",
    "gbtree = xgboost.XGBClassifier(n_estimators=300, max_depth=5)\n",
    "gbtree.fit(train, train_labels)\n",
    "print('Test accuracy: {}'.format(\n",
    "    sklearn.metrics.accuracy_score(test_labels, gbtree.predict(test))\n",
    "))\n",
    "\n",
    "# Convertir les données transformées en instances Tabular\n",
    "train_data = transformer.invert(train)\n",
    "test_data = transformer.invert(test)\n",
    "\n",
    "# Initialiser un TabularExplainer\n",
    "explainers = TabularExplainer(\n",
    "    explainers=[\"lime\", \"shap\", \"mace\", \"pdp\", \"ale\"],\n",
    "    mode=\"classification\",\n",
    "    data=train_data,\n",
    "    model=gbtree,\n",
    "    preprocess=preprocess,\n",
    "    params={\n",
    "        \"lime\": {\"kernel_width\": 3},\n",
    "        \"shap\": {\"nsamples\": 100},\n",
    "        \"mace\": {\"ignored_features\": [\"trestbps\",\"chol\",\"fbs\"]},  # Ajoutez les fonctionnalités à ignorer\n",
    "    }\n",
    ")\n",
    "\n",
    "# Générer des explications locales et globales\n",
    "test_instances = test_data[1653:1658]\n",
    "local_explanations = explainers.explain(X=test_instances)\n",
    "global_explanations = explainers.explain_global(\n",
    "    params={\"pdp\": {\"features\": [\"age\",\"sex\",\"cp\",\"restecg\",\"thalach\",\"exang\",\"oldpeak\",\"slope\",\"ca\"]}}  # Ajoutez les fonctionnalités pour PDP\n",
    ")\n",
    "\n",
    "# Afficher les résultats\n",
    "index = 1\n",
    "print(\"LIME results:\")\n",
    "local_explanations[\"lime\"].ipython_plot(index, class_names=class_names)\n",
    "print(\"SHAP results:\")\n",
    "local_explanations[\"shap\"].ipython_plot(index, class_names=class_names)\n",
    "print(\"MACE results:\")\n",
    "local_explanations[\"mace\"].ipython_plot(index, class_names=class_names)\n",
    "print(\"PDP results:\")\n",
    "global_explanations[\"pdp\"].ipython_plot(class_names=class_names)\n",
    "print(\"ALE results:\")\n",
    "global_explanations[\"ale\"].ipython_plot(class_names=class_names)\n"
   ]
  },
  {
   "cell_type": "code",
   "execution_count": null,
   "id": "ed6c044a",
   "metadata": {},
   "outputs": [],
   "source": []
  },
  {
   "cell_type": "code",
   "execution_count": null,
   "id": "dd6352ef",
   "metadata": {},
   "outputs": [],
   "source": []
  },
  {
   "cell_type": "code",
   "execution_count": null,
   "id": "00a98338",
   "metadata": {},
   "outputs": [],
   "source": []
  },
  {
   "cell_type": "code",
   "execution_count": null,
   "id": "564cd923",
   "metadata": {},
   "outputs": [],
   "source": []
  }
 ],
 "metadata": {
  "kernelspec": {
   "display_name": "Python 3 (ipykernel)",
   "language": "python",
   "name": "python3"
  },
  "language_info": {
   "codemirror_mode": {
    "name": "ipython",
    "version": 3
   },
   "file_extension": ".py",
   "mimetype": "text/x-python",
   "name": "python",
   "nbconvert_exporter": "python",
   "pygments_lexer": "ipython3",
   "version": "3.11.4"
  }
 },
 "nbformat": 4,
 "nbformat_minor": 5
}
