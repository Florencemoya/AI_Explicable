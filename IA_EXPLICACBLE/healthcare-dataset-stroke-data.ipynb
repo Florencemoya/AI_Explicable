{
 "cells": [
  {
   "cell_type": "code",
   "execution_count": 1,
   "metadata": {},
   "outputs": [
    {
     "name": "stdout",
     "output_type": "stream",
     "text": [
      "Requirement already satisfied: pycaret in c:\\users\\moya\\anaconda3\\lib\\site-packages (3.2.0)Note: you may need to restart the kernel to use updated packages.\n",
      "\n",
      "Requirement already satisfied: category-encoders>=2.4.0 in c:\\users\\moya\\anaconda3\\lib\\site-packages (from pycaret) (2.6.3)\n",
      "Requirement already satisfied: cloudpickle in c:\\users\\moya\\anaconda3\\lib\\site-packages (from pycaret) (2.2.1)\n",
      "Requirement already satisfied: deprecation>=2.1.0 in c:\\users\\moya\\anaconda3\\lib\\site-packages (from pycaret) (2.1.0)\n",
      "Requirement already satisfied: imbalanced-learn>=0.8.1 in c:\\users\\moya\\anaconda3\\lib\\site-packages (from pycaret) (0.11.0)\n",
      "Requirement already satisfied: importlib-metadata>=4.12.0 in c:\\users\\moya\\appdata\\roaming\\python\\python311\\site-packages (from pycaret) (6.8.0)\n",
      "Requirement already satisfied: ipython>=5.5.0 in c:\\users\\moya\\appdata\\roaming\\python\\python311\\site-packages (from pycaret) (8.15.0)\n",
      "Requirement already satisfied: ipywidgets>=7.6.5 in c:\\users\\moya\\anaconda3\\lib\\site-packages (from pycaret) (8.0.4)\n",
      "Requirement already satisfied: jinja2>=1.2 in c:\\users\\moya\\anaconda3\\lib\\site-packages (from pycaret) (3.1.2)\n",
      "Requirement already satisfied: joblib>=1.2.0 in c:\\users\\moya\\anaconda3\\lib\\site-packages (from pycaret) (1.2.0)\n",
      "Requirement already satisfied: kaleido>=0.2.1 in c:\\users\\moya\\anaconda3\\lib\\site-packages (from pycaret) (0.2.1)\n",
      "Requirement already satisfied: lightgbm>=3.0.0 in c:\\users\\moya\\anaconda3\\lib\\site-packages (from pycaret) (4.1.0)\n",
      "Requirement already satisfied: markupsafe>=2.0.1 in c:\\users\\moya\\anaconda3\\lib\\site-packages (from pycaret) (2.1.1)\n",
      "Requirement already satisfied: matplotlib<=3.6,>=3.3.0 in c:\\users\\moya\\anaconda3\\lib\\site-packages (from pycaret) (3.6.0)\n",
      "Requirement already satisfied: nbformat>=4.2.0 in c:\\users\\moya\\anaconda3\\lib\\site-packages (from pycaret) (5.7.0)\n",
      "Requirement already satisfied: numba>=0.55.0 in c:\\users\\moya\\anaconda3\\lib\\site-packages (from pycaret) (0.57.0)\n",
      "Requirement already satisfied: numpy<1.27,>=1.21 in c:\\users\\moya\\anaconda3\\lib\\site-packages (from pycaret) (1.24.4)\n",
      "Requirement already satisfied: pandas<2.0.0,>=1.3.0 in c:\\users\\moya\\anaconda3\\lib\\site-packages (from pycaret) (1.5.3)\n",
      "Requirement already satisfied: plotly-resampler>=0.8.3.1 in c:\\users\\moya\\anaconda3\\lib\\site-packages (from pycaret) (0.9.2)\n",
      "Requirement already satisfied: plotly>=5.0.0 in c:\\users\\moya\\anaconda3\\lib\\site-packages (from pycaret) (5.9.0)\n",
      "Requirement already satisfied: pmdarima!=1.8.1,<3.0.0,>=1.8.0 in c:\\users\\moya\\anaconda3\\lib\\site-packages (from pycaret) (2.0.4)\n",
      "Requirement already satisfied: psutil>=5.9.0 in c:\\users\\moya\\appdata\\roaming\\python\\python311\\site-packages (from pycaret) (5.9.5)\n",
      "Requirement already satisfied: pyod>=1.0.8 in c:\\users\\moya\\anaconda3\\lib\\site-packages (from pycaret) (1.1.2)\n",
      "Requirement already satisfied: requests>=2.27.1 in c:\\users\\moya\\anaconda3\\lib\\site-packages (from pycaret) (2.31.0)\n",
      "Requirement already satisfied: schemdraw==0.15 in c:\\users\\moya\\anaconda3\\lib\\site-packages (from pycaret) (0.15)\n",
      "Requirement already satisfied: scikit-learn<1.3.0,>=1.0 in c:\\users\\moya\\anaconda3\\lib\\site-packages (from pycaret) (1.2.2)\n",
      "Requirement already satisfied: scikit-plot>=0.3.7 in c:\\users\\moya\\anaconda3\\lib\\site-packages (from pycaret) (0.3.7)\n",
      "Requirement already satisfied: scipy~=1.10.1 in c:\\users\\moya\\anaconda3\\lib\\site-packages (from pycaret) (1.10.1)\n",
      "Requirement already satisfied: sktime!=0.17.1,!=0.17.2,!=0.18.0,<0.22.0,>=0.16.1 in c:\\users\\moya\\anaconda3\\lib\\site-packages (from pycaret) (0.21.1)\n",
      "Requirement already satisfied: statsmodels>=0.12.1 in c:\\users\\moya\\anaconda3\\lib\\site-packages (from pycaret) (0.14.0)\n",
      "Requirement already satisfied: tbats>=1.1.3 in c:\\users\\moya\\anaconda3\\lib\\site-packages (from pycaret) (1.1.3)\n",
      "Requirement already satisfied: tqdm>=4.62.0 in c:\\users\\moya\\anaconda3\\lib\\site-packages (from pycaret) (4.65.0)\n",
      "Requirement already satisfied: xxhash in c:\\users\\moya\\anaconda3\\lib\\site-packages (from pycaret) (3.4.1)\n",
      "Requirement already satisfied: yellowbrick>=1.4 in c:\\users\\moya\\anaconda3\\lib\\site-packages (from pycaret) (1.5)\n",
      "Requirement already satisfied: patsy>=0.5.1 in c:\\users\\moya\\anaconda3\\lib\\site-packages (from category-encoders>=2.4.0->pycaret) (0.5.3)\n",
      "Requirement already satisfied: packaging in c:\\users\\moya\\anaconda3\\lib\\site-packages (from deprecation>=2.1.0->pycaret) (23.0)\n",
      "Requirement already satisfied: threadpoolctl>=2.0.0 in c:\\users\\moya\\anaconda3\\lib\\site-packages (from imbalanced-learn>=0.8.1->pycaret) (2.2.0)\n",
      "Requirement already satisfied: zipp>=0.5 in c:\\users\\moya\\appdata\\roaming\\python\\python311\\site-packages (from importlib-metadata>=4.12.0->pycaret) (3.17.0)\n",
      "Requirement already satisfied: backcall in c:\\users\\moya\\appdata\\roaming\\python\\python311\\site-packages (from ipython>=5.5.0->pycaret) (0.2.0)\n",
      "Requirement already satisfied: decorator in c:\\users\\moya\\appdata\\roaming\\python\\python311\\site-packages (from ipython>=5.5.0->pycaret) (5.1.1)\n",
      "Requirement already satisfied: jedi>=0.16 in c:\\users\\moya\\appdata\\roaming\\python\\python311\\site-packages (from ipython>=5.5.0->pycaret) (0.19.0)\n",
      "Requirement already satisfied: matplotlib-inline in c:\\users\\moya\\appdata\\roaming\\python\\python311\\site-packages (from ipython>=5.5.0->pycaret) (0.1.6)\n",
      "Requirement already satisfied: pickleshare in c:\\users\\moya\\appdata\\roaming\\python\\python311\\site-packages (from ipython>=5.5.0->pycaret) (0.7.5)\n",
      "Requirement already satisfied: prompt-toolkit!=3.0.37,<3.1.0,>=3.0.30 in c:\\users\\moya\\appdata\\roaming\\python\\python311\\site-packages (from ipython>=5.5.0->pycaret) (3.0.39)\n",
      "Requirement already satisfied: pygments>=2.4.0 in c:\\users\\moya\\appdata\\roaming\\python\\python311\\site-packages (from ipython>=5.5.0->pycaret) (2.16.1)\n",
      "Requirement already satisfied: stack-data in c:\\users\\moya\\appdata\\roaming\\python\\python311\\site-packages (from ipython>=5.5.0->pycaret) (0.6.2)\n",
      "Requirement already satisfied: traitlets>=5 in c:\\users\\moya\\appdata\\roaming\\python\\python311\\site-packages (from ipython>=5.5.0->pycaret) (5.9.0)\n",
      "Requirement already satisfied: colorama in c:\\users\\moya\\anaconda3\\lib\\site-packages (from ipython>=5.5.0->pycaret) (0.4.6)\n",
      "Requirement already satisfied: ipykernel>=4.5.1 in c:\\users\\moya\\appdata\\roaming\\python\\python311\\site-packages (from ipywidgets>=7.6.5->pycaret) (6.25.2)\n",
      "Requirement already satisfied: widgetsnbextension~=4.0 in c:\\users\\moya\\anaconda3\\lib\\site-packages (from ipywidgets>=7.6.5->pycaret) (4.0.5)\n",
      "Requirement already satisfied: jupyterlab-widgets~=3.0 in c:\\users\\moya\\anaconda3\\lib\\site-packages (from ipywidgets>=7.6.5->pycaret) (3.0.5)\n",
      "Requirement already satisfied: contourpy>=1.0.1 in c:\\users\\moya\\anaconda3\\lib\\site-packages (from matplotlib<=3.6,>=3.3.0->pycaret) (1.0.5)\n",
      "Requirement already satisfied: cycler>=0.10 in c:\\users\\moya\\anaconda3\\lib\\site-packages (from matplotlib<=3.6,>=3.3.0->pycaret) (0.11.0)\n",
      "Requirement already satisfied: fonttools>=4.22.0 in c:\\users\\moya\\anaconda3\\lib\\site-packages (from matplotlib<=3.6,>=3.3.0->pycaret) (4.25.0)\n",
      "Requirement already satisfied: kiwisolver>=1.0.1 in c:\\users\\moya\\anaconda3\\lib\\site-packages (from matplotlib<=3.6,>=3.3.0->pycaret) (1.4.4)\n",
      "Requirement already satisfied: pillow>=6.2.0 in c:\\users\\moya\\anaconda3\\lib\\site-packages (from matplotlib<=3.6,>=3.3.0->pycaret) (9.4.0)\n",
      "Requirement already satisfied: pyparsing>=2.2.1 in c:\\users\\moya\\anaconda3\\lib\\site-packages (from matplotlib<=3.6,>=3.3.0->pycaret) (3.0.9)\n",
      "Requirement already satisfied: python-dateutil>=2.7 in c:\\users\\moya\\anaconda3\\lib\\site-packages (from matplotlib<=3.6,>=3.3.0->pycaret) (2.8.2)\n",
      "Requirement already satisfied: fastjsonschema in c:\\users\\moya\\anaconda3\\lib\\site-packages (from nbformat>=4.2.0->pycaret) (2.16.2)\n",
      "Requirement already satisfied: jsonschema>=2.6 in c:\\users\\moya\\anaconda3\\lib\\site-packages (from nbformat>=4.2.0->pycaret) (4.17.3)\n",
      "Requirement already satisfied: jupyter-core in c:\\users\\moya\\appdata\\roaming\\python\\python311\\site-packages (from nbformat>=4.2.0->pycaret) (5.3.1)\n",
      "Requirement already satisfied: llvmlite<0.41,>=0.40.0dev0 in c:\\users\\moya\\anaconda3\\lib\\site-packages (from numba>=0.55.0->pycaret) (0.40.0)\n",
      "Requirement already satisfied: pytz>=2020.1 in c:\\users\\moya\\anaconda3\\lib\\site-packages (from pandas<2.0.0,>=1.3.0->pycaret) (2022.7)\n",
      "Requirement already satisfied: tenacity>=6.2.0 in c:\\users\\moya\\anaconda3\\lib\\site-packages (from plotly>=5.0.0->pycaret) (8.2.2)\n",
      "Requirement already satisfied: dash>=2.9.0 in c:\\users\\moya\\anaconda3\\lib\\site-packages (from plotly-resampler>=0.8.3.1->pycaret) (2.14.2)\n",
      "Requirement already satisfied: orjson<4.0.0,>=3.8.0 in c:\\users\\moya\\anaconda3\\lib\\site-packages (from plotly-resampler>=0.8.3.1->pycaret) (3.9.10)\n",
      "Requirement already satisfied: tsdownsample==0.1.2 in c:\\users\\moya\\anaconda3\\lib\\site-packages (from plotly-resampler>=0.8.3.1->pycaret) (0.1.2)\n",
      "Requirement already satisfied: Cython!=0.29.18,!=0.29.31,>=0.29 in c:\\users\\moya\\anaconda3\\lib\\site-packages (from pmdarima!=1.8.1,<3.0.0,>=1.8.0->pycaret) (3.0.5)\n",
      "Requirement already satisfied: urllib3 in c:\\users\\moya\\anaconda3\\lib\\site-packages (from pmdarima!=1.8.1,<3.0.0,>=1.8.0->pycaret) (1.26.16)\n",
      "Requirement already satisfied: setuptools!=50.0.0,>=38.6.0 in c:\\users\\moya\\anaconda3\\lib\\site-packages (from pmdarima!=1.8.1,<3.0.0,>=1.8.0->pycaret) (68.0.0)\n",
      "Requirement already satisfied: six in c:\\users\\moya\\anaconda3\\lib\\site-packages (from pyod>=1.0.8->pycaret) (1.16.0)\n",
      "Requirement already satisfied: charset-normalizer<4,>=2 in c:\\users\\moya\\anaconda3\\lib\\site-packages (from requests>=2.27.1->pycaret) (2.0.4)\n",
      "Requirement already satisfied: idna<4,>=2.5 in c:\\users\\moya\\anaconda3\\lib\\site-packages (from requests>=2.27.1->pycaret) (3.4)\n",
      "Requirement already satisfied: certifi>=2017.4.17 in c:\\users\\moya\\anaconda3\\lib\\site-packages (from requests>=2.27.1->pycaret) (2023.7.22)\n",
      "Requirement already satisfied: deprecated>=1.2.13 in c:\\users\\moya\\anaconda3\\lib\\site-packages (from sktime!=0.17.1,!=0.17.2,!=0.18.0,<0.22.0,>=0.16.1->pycaret) (1.2.14)\n",
      "Requirement already satisfied: scikit-base<0.6.0 in c:\\users\\moya\\anaconda3\\lib\\site-packages (from sktime!=0.17.1,!=0.17.2,!=0.18.0,<0.22.0,>=0.16.1->pycaret) (0.5.2)\n",
      "Requirement already satisfied: Flask<3.1,>=1.0.4 in c:\\users\\moya\\anaconda3\\lib\\site-packages (from dash>=2.9.0->plotly-resampler>=0.8.3.1->pycaret) (2.2.2)\n",
      "Requirement already satisfied: Werkzeug<3.1 in c:\\users\\moya\\anaconda3\\lib\\site-packages (from dash>=2.9.0->plotly-resampler>=0.8.3.1->pycaret) (2.2.3)\n",
      "Requirement already satisfied: dash-html-components==2.0.0 in c:\\users\\moya\\anaconda3\\lib\\site-packages (from dash>=2.9.0->plotly-resampler>=0.8.3.1->pycaret) (2.0.0)\n",
      "Requirement already satisfied: dash-core-components==2.0.0 in c:\\users\\moya\\anaconda3\\lib\\site-packages (from dash>=2.9.0->plotly-resampler>=0.8.3.1->pycaret) (2.0.0)\n",
      "Requirement already satisfied: dash-table==5.0.0 in c:\\users\\moya\\anaconda3\\lib\\site-packages (from dash>=2.9.0->plotly-resampler>=0.8.3.1->pycaret) (5.0.0)\n",
      "Requirement already satisfied: typing-extensions>=4.1.1 in c:\\users\\moya\\anaconda3\\lib\\site-packages (from dash>=2.9.0->plotly-resampler>=0.8.3.1->pycaret) (4.5.0)\n",
      "Requirement already satisfied: retrying in c:\\users\\moya\\anaconda3\\lib\\site-packages (from dash>=2.9.0->plotly-resampler>=0.8.3.1->pycaret) (1.3.4)\n",
      "Requirement already satisfied: ansi2html in c:\\users\\moya\\anaconda3\\lib\\site-packages (from dash>=2.9.0->plotly-resampler>=0.8.3.1->pycaret) (1.8.0)\n",
      "Requirement already satisfied: nest-asyncio in c:\\users\\moya\\appdata\\roaming\\python\\python311\\site-packages (from dash>=2.9.0->plotly-resampler>=0.8.3.1->pycaret) (1.5.7)\n",
      "Requirement already satisfied: wrapt<2,>=1.10 in c:\\users\\moya\\anaconda3\\lib\\site-packages (from deprecated>=1.2.13->sktime!=0.17.1,!=0.17.2,!=0.18.0,<0.22.0,>=0.16.1->pycaret) (1.14.1)\n",
      "Requirement already satisfied: comm>=0.1.1 in c:\\users\\moya\\appdata\\roaming\\python\\python311\\site-packages (from ipykernel>=4.5.1->ipywidgets>=7.6.5->pycaret) (0.1.4)\n",
      "Requirement already satisfied: debugpy>=1.6.5 in c:\\users\\moya\\appdata\\roaming\\python\\python311\\site-packages (from ipykernel>=4.5.1->ipywidgets>=7.6.5->pycaret) (1.8.0)\n",
      "Requirement already satisfied: jupyter-client>=6.1.12 in c:\\users\\moya\\appdata\\roaming\\python\\python311\\site-packages (from ipykernel>=4.5.1->ipywidgets>=7.6.5->pycaret) (8.3.1)\n",
      "Requirement already satisfied: pyzmq>=20 in c:\\users\\moya\\appdata\\roaming\\python\\python311\\site-packages (from ipykernel>=4.5.1->ipywidgets>=7.6.5->pycaret) (25.1.1)\n",
      "Requirement already satisfied: tornado>=6.1 in c:\\users\\moya\\appdata\\roaming\\python\\python311\\site-packages (from ipykernel>=4.5.1->ipywidgets>=7.6.5->pycaret) (6.3.3)\n",
      "Requirement already satisfied: parso<0.9.0,>=0.8.3 in c:\\users\\moya\\appdata\\roaming\\python\\python311\\site-packages (from jedi>=0.16->ipython>=5.5.0->pycaret) (0.8.3)\n",
      "Requirement already satisfied: attrs>=17.4.0 in c:\\users\\moya\\anaconda3\\lib\\site-packages (from jsonschema>=2.6->nbformat>=4.2.0->pycaret) (22.1.0)\n",
      "Requirement already satisfied: pyrsistent!=0.17.0,!=0.17.1,!=0.17.2,>=0.14.0 in c:\\users\\moya\\anaconda3\\lib\\site-packages (from jsonschema>=2.6->nbformat>=4.2.0->pycaret) (0.18.0)\n",
      "Requirement already satisfied: platformdirs>=2.5 in c:\\users\\moya\\appdata\\roaming\\python\\python311\\site-packages (from jupyter-core->nbformat>=4.2.0->pycaret) (3.10.0)\n",
      "Requirement already satisfied: pywin32>=300 in c:\\users\\moya\\appdata\\roaming\\python\\python311\\site-packages (from jupyter-core->nbformat>=4.2.0->pycaret) (306)\n",
      "Requirement already satisfied: wcwidth in c:\\users\\moya\\appdata\\roaming\\python\\python311\\site-packages (from prompt-toolkit!=3.0.37,<3.1.0,>=3.0.30->ipython>=5.5.0->pycaret) (0.2.6)\n",
      "Requirement already satisfied: executing>=1.2.0 in c:\\users\\moya\\appdata\\roaming\\python\\python311\\site-packages (from stack-data->ipython>=5.5.0->pycaret) (1.2.0)\n",
      "Requirement already satisfied: asttokens>=2.1.0 in c:\\users\\moya\\appdata\\roaming\\python\\python311\\site-packages (from stack-data->ipython>=5.5.0->pycaret) (2.4.0)\n",
      "Requirement already satisfied: pure-eval in c:\\users\\moya\\appdata\\roaming\\python\\python311\\site-packages (from stack-data->ipython>=5.5.0->pycaret) (0.2.2)\n",
      "Requirement already satisfied: itsdangerous>=2.0 in c:\\users\\moya\\anaconda3\\lib\\site-packages (from Flask<3.1,>=1.0.4->dash>=2.9.0->plotly-resampler>=0.8.3.1->pycaret) (2.0.1)\n",
      "Requirement already satisfied: click>=8.0 in c:\\users\\moya\\anaconda3\\lib\\site-packages (from Flask<3.1,>=1.0.4->dash>=2.9.0->plotly-resampler>=0.8.3.1->pycaret) (8.0.4)\n"
     ]
    }
   ],
   "source": [
    "pip install pycaret"
   ]
  },
  {
   "cell_type": "code",
   "execution_count": 3,
   "metadata": {},
   "outputs": [
    {
     "name": "stdout",
     "output_type": "stream",
     "text": [
      "Requirement already satisfied: interpret in c:\\users\\moya\\anaconda3\\lib\\site-packages (0.5.0)\n",
      "Requirement already satisfied: interpret-core==0.5.0 in c:\\users\\moya\\anaconda3\\lib\\site-packages (from interpret-core[dash,debug,linear,notebook,plotly,sensitivity,shap]==0.5.0->interpret) (0.5.0)\n",
      "Requirement already satisfied: numpy>=1.11.1 in c:\\users\\moya\\anaconda3\\lib\\site-packages (from interpret-core==0.5.0->interpret-core[dash,debug,linear,notebook,plotly,sensitivity,shap]==0.5.0->interpret) (1.24.4)\n",
      "Requirement already satisfied: scipy>=0.18.1 in c:\\users\\moya\\anaconda3\\lib\\site-packages (from interpret-core==0.5.0->interpret-core[dash,debug,linear,notebook,plotly,sensitivity,shap]==0.5.0->interpret) (1.10.1)\n",
      "Requirement already satisfied: pandas>=0.19.2 in c:\\users\\moya\\anaconda3\\lib\\site-packages (from interpret-core==0.5.0->interpret-core[dash,debug,linear,notebook,plotly,sensitivity,shap]==0.5.0->interpret) (1.5.3)\n",
      "Requirement already satisfied: scikit-learn>=0.18.1 in c:\\users\\moya\\anaconda3\\lib\\site-packages (from interpret-core==0.5.0->interpret-core[dash,debug,linear,notebook,plotly,sensitivity,shap]==0.5.0->interpret) (1.2.2)\n",
      "Requirement already satisfied: joblib>=0.11 in c:\\users\\moya\\anaconda3\\lib\\site-packages (from interpret-core==0.5.0->interpret-core[dash,debug,linear,notebook,plotly,sensitivity,shap]==0.5.0->interpret) (1.2.0)\n",
      "Requirement already satisfied: dash>=1.0.0 in c:\\users\\moya\\anaconda3\\lib\\site-packages (from interpret-core[dash,debug,linear,notebook,plotly,sensitivity,shap]==0.5.0->interpret) (2.14.2)\n",
      "Requirement already satisfied: dash-core-components>=1.0.0 in c:\\users\\moya\\anaconda3\\lib\\site-packages (from interpret-core[dash,debug,linear,notebook,plotly,sensitivity,shap]==0.5.0->interpret) (2.0.0)\n",
      "Requirement already satisfied: dash-html-components>=1.0.0 in c:\\users\\moya\\anaconda3\\lib\\site-packages (from interpret-core[dash,debug,linear,notebook,plotly,sensitivity,shap]==0.5.0->interpret) (2.0.0)\n",
      "Requirement already satisfied: dash-table>=4.1.0 in c:\\users\\moya\\anaconda3\\lib\\site-packages (from interpret-core[dash,debug,linear,notebook,plotly,sensitivity,shap]==0.5.0->interpret) (5.0.0)\n",
      "Requirement already satisfied: dash-cytoscape>=0.1.1 in c:\\users\\moya\\anaconda3\\lib\\site-packages (from interpret-core[dash,debug,linear,notebook,plotly,sensitivity,shap]==0.5.0->interpret) (0.3.0)\n",
      "Requirement already satisfied: gevent>=1.3.6 in c:\\users\\moya\\anaconda3\\lib\\site-packages (from interpret-core[dash,debug,linear,notebook,plotly,sensitivity,shap]==0.5.0->interpret) (23.9.1)\n",
      "Requirement already satisfied: requests>=2.19.0 in c:\\users\\moya\\anaconda3\\lib\\site-packages (from interpret-core[dash,debug,linear,notebook,plotly,sensitivity,shap]==0.5.0->interpret) (2.31.0)\n",
      "Requirement already satisfied: psutil>=5.6.2 in c:\\users\\moya\\appdata\\roaming\\python\\python311\\site-packages (from interpret-core[dash,debug,linear,notebook,plotly,sensitivity,shap]==0.5.0->interpret) (5.9.5)\n",
      "Requirement already satisfied: ipykernel>=4.10.0 in c:\\users\\moya\\appdata\\roaming\\python\\python311\\site-packages (from interpret-core[dash,debug,linear,notebook,plotly,sensitivity,shap]==0.5.0->interpret) (6.25.2)\n",
      "Requirement already satisfied: ipython>=5.5.0 in c:\\users\\moya\\appdata\\roaming\\python\\python311\\site-packages (from interpret-core[dash,debug,linear,notebook,plotly,sensitivity,shap]==0.5.0->interpret) (8.15.0)\n",
      "Requirement already satisfied: plotly>=3.8.1 in c:\\users\\moya\\anaconda3\\lib\\site-packages (from interpret-core[dash,debug,linear,notebook,plotly,sensitivity,shap]==0.5.0->interpret) (5.9.0)\n",
      "Requirement already satisfied: SALib>=1.3.3 in c:\\users\\moya\\anaconda3\\lib\\site-packages (from interpret-core[dash,debug,linear,notebook,plotly,sensitivity,shap]==0.5.0->interpret) (1.4.7)\n",
      "Requirement already satisfied: shap>=0.28.5 in c:\\users\\moya\\anaconda3\\lib\\site-packages (from interpret-core[dash,debug,linear,notebook,plotly,sensitivity,shap]==0.5.0->interpret) (0.44.0)\n",
      "Requirement already satisfied: dill>=0.2.5 in c:\\users\\moya\\anaconda3\\lib\\site-packages (from interpret-core[dash,debug,linear,notebook,plotly,sensitivity,shap]==0.5.0->interpret) (0.3.7)\n",
      "Requirement already satisfied: Flask<3.1,>=1.0.4 in c:\\users\\moya\\anaconda3\\lib\\site-packages (from dash>=1.0.0->interpret-core[dash,debug,linear,notebook,plotly,sensitivity,shap]==0.5.0->interpret) (2.2.2)\n",
      "Requirement already satisfied: Werkzeug<3.1 in c:\\users\\moya\\anaconda3\\lib\\site-packages (from dash>=1.0.0->interpret-core[dash,debug,linear,notebook,plotly,sensitivity,shap]==0.5.0->interpret) (2.2.3)\n",
      "Requirement already satisfied: typing-extensions>=4.1.1 in c:\\users\\moya\\anaconda3\\lib\\site-packages (from dash>=1.0.0->interpret-core[dash,debug,linear,notebook,plotly,sensitivity,shap]==0.5.0->interpret) (4.5.0)\n",
      "Requirement already satisfied: retrying in c:\\users\\moya\\anaconda3\\lib\\site-packages (from dash>=1.0.0->interpret-core[dash,debug,linear,notebook,plotly,sensitivity,shap]==0.5.0->interpret) (1.3.4)\n",
      "Requirement already satisfied: ansi2html in c:\\users\\moya\\anaconda3\\lib\\site-packages (from dash>=1.0.0->interpret-core[dash,debug,linear,notebook,plotly,sensitivity,shap]==0.5.0->interpret) (1.8.0)\n",
      "Requirement already satisfied: nest-asyncio in c:\\users\\moya\\appdata\\roaming\\python\\python311\\site-packages (from dash>=1.0.0->interpret-core[dash,debug,linear,notebook,plotly,sensitivity,shap]==0.5.0->interpret) (1.5.7)\n",
      "Requirement already satisfied: setuptools in c:\\users\\moya\\anaconda3\\lib\\site-packages (from dash>=1.0.0->interpret-core[dash,debug,linear,notebook,plotly,sensitivity,shap]==0.5.0->interpret) (68.0.0)\n",
      "Requirement already satisfied: importlib-metadata in c:\\users\\moya\\appdata\\roaming\\python\\python311\\site-packages (from dash>=1.0.0->interpret-core[dash,debug,linear,notebook,plotly,sensitivity,shap]==0.5.0->interpret) (6.8.0)\n",
      "Requirement already satisfied: zope.event in c:\\users\\moya\\anaconda3\\lib\\site-packages (from gevent>=1.3.6->interpret-core[dash,debug,linear,notebook,plotly,sensitivity,shap]==0.5.0->interpret) (5.0)\n",
      "Requirement already satisfied: zope.interface in c:\\users\\moya\\anaconda3\\lib\\site-packages (from gevent>=1.3.6->interpret-core[dash,debug,linear,notebook,plotly,sensitivity,shap]==0.5.0->interpret) (5.4.0)\n",
      "Requirement already satisfied: greenlet>=3.0rc3 in c:\\users\\moya\\anaconda3\\lib\\site-packages (from gevent>=1.3.6->interpret-core[dash,debug,linear,notebook,plotly,sensitivity,shap]==0.5.0->interpret) (3.0.3)\n",
      "Requirement already satisfied: cffi>=1.12.2 in c:\\users\\moya\\anaconda3\\lib\\site-packages (from gevent>=1.3.6->interpret-core[dash,debug,linear,notebook,plotly,sensitivity,shap]==0.5.0->interpret) (1.15.1)\n",
      "Requirement already satisfied: comm>=0.1.1 in c:\\users\\moya\\appdata\\roaming\\python\\python311\\site-packages (from ipykernel>=4.10.0->interpret-core[dash,debug,linear,notebook,plotly,sensitivity,shap]==0.5.0->interpret) (0.1.4)\n",
      "Requirement already satisfied: debugpy>=1.6.5 in c:\\users\\moya\\appdata\\roaming\\python\\python311\\site-packages (from ipykernel>=4.10.0->interpret-core[dash,debug,linear,notebook,plotly,sensitivity,shap]==0.5.0->interpret) (1.8.0)\n",
      "Requirement already satisfied: jupyter-client>=6.1.12 in c:\\users\\moya\\appdata\\roaming\\python\\python311\\site-packages (from ipykernel>=4.10.0->interpret-core[dash,debug,linear,notebook,plotly,sensitivity,shap]==0.5.0->interpret) (8.3.1)\n",
      "Requirement already satisfied: jupyter-core!=5.0.*,>=4.12 in c:\\users\\moya\\appdata\\roaming\\python\\python311\\site-packages (from ipykernel>=4.10.0->interpret-core[dash,debug,linear,notebook,plotly,sensitivity,shap]==0.5.0->interpret) (5.3.1)\n",
      "Requirement already satisfied: matplotlib-inline>=0.1 in c:\\users\\moya\\appdata\\roaming\\python\\python311\\site-packages (from ipykernel>=4.10.0->interpret-core[dash,debug,linear,notebook,plotly,sensitivity,shap]==0.5.0->interpret) (0.1.6)\n",
      "Requirement already satisfied: packaging in c:\\users\\moya\\anaconda3\\lib\\site-packages (from ipykernel>=4.10.0->interpret-core[dash,debug,linear,notebook,plotly,sensitivity,shap]==0.5.0->interpret) (23.0)\n",
      "Requirement already satisfied: pyzmq>=20 in c:\\users\\moya\\appdata\\roaming\\python\\python311\\site-packages (from ipykernel>=4.10.0->interpret-core[dash,debug,linear,notebook,plotly,sensitivity,shap]==0.5.0->interpret) (25.1.1)\n",
      "Requirement already satisfied: tornado>=6.1 in c:\\users\\moya\\appdata\\roaming\\python\\python311\\site-packages (from ipykernel>=4.10.0->interpret-core[dash,debug,linear,notebook,plotly,sensitivity,shap]==0.5.0->interpret) (6.3.3)\n",
      "Requirement already satisfied: traitlets>=5.4.0 in c:\\users\\moya\\appdata\\roaming\\python\\python311\\site-packages (from ipykernel>=4.10.0->interpret-core[dash,debug,linear,notebook,plotly,sensitivity,shap]==0.5.0->interpret) (5.9.0)\n",
      "Requirement already satisfied: backcall in c:\\users\\moya\\appdata\\roaming\\python\\python311\\site-packages (from ipython>=5.5.0->interpret-core[dash,debug,linear,notebook,plotly,sensitivity,shap]==0.5.0->interpret) (0.2.0)\n",
      "Requirement already satisfied: decorator in c:\\users\\moya\\appdata\\roaming\\python\\python311\\site-packages (from ipython>=5.5.0->interpret-core[dash,debug,linear,notebook,plotly,sensitivity,shap]==0.5.0->interpret) (5.1.1)\n",
      "Requirement already satisfied: jedi>=0.16 in c:\\users\\moya\\appdata\\roaming\\python\\python311\\site-packages (from ipython>=5.5.0->interpret-core[dash,debug,linear,notebook,plotly,sensitivity,shap]==0.5.0->interpret) (0.19.0)\n",
      "Requirement already satisfied: pickleshare in c:\\users\\moya\\appdata\\roaming\\python\\python311\\site-packages (from ipython>=5.5.0->interpret-core[dash,debug,linear,notebook,plotly,sensitivity,shap]==0.5.0->interpret) (0.7.5)\n",
      "Requirement already satisfied: prompt-toolkit!=3.0.37,<3.1.0,>=3.0.30 in c:\\users\\moya\\appdata\\roaming\\python\\python311\\site-packages (from ipython>=5.5.0->interpret-core[dash,debug,linear,notebook,plotly,sensitivity,shap]==0.5.0->interpret) (3.0.39)\n",
      "Requirement already satisfied: pygments>=2.4.0 in c:\\users\\moya\\appdata\\roaming\\python\\python311\\site-packages (from ipython>=5.5.0->interpret-core[dash,debug,linear,notebook,plotly,sensitivity,shap]==0.5.0->interpret) (2.16.1)\n",
      "Requirement already satisfied: stack-data in c:\\users\\moya\\appdata\\roaming\\python\\python311\\site-packages (from ipython>=5.5.0->interpret-core[dash,debug,linear,notebook,plotly,sensitivity,shap]==0.5.0->interpret) (0.6.2)\n",
      "Requirement already satisfied: colorama in c:\\users\\moya\\anaconda3\\lib\\site-packages (from ipython>=5.5.0->interpret-core[dash,debug,linear,notebook,plotly,sensitivity,shap]==0.5.0->interpret) (0.4.6)\n",
      "Requirement already satisfied: python-dateutil>=2.8.1 in c:\\users\\moya\\anaconda3\\lib\\site-packages (from pandas>=0.19.2->interpret-core==0.5.0->interpret-core[dash,debug,linear,notebook,plotly,sensitivity,shap]==0.5.0->interpret) (2.8.2)\n",
      "Requirement already satisfied: pytz>=2020.1 in c:\\users\\moya\\anaconda3\\lib\\site-packages (from pandas>=0.19.2->interpret-core==0.5.0->interpret-core[dash,debug,linear,notebook,plotly,sensitivity,shap]==0.5.0->interpret) (2022.7)\n",
      "Requirement already satisfied: tenacity>=6.2.0 in c:\\users\\moya\\anaconda3\\lib\\site-packages (from plotly>=3.8.1->interpret-core[dash,debug,linear,notebook,plotly,sensitivity,shap]==0.5.0->interpret) (8.2.2)\n",
      "Requirement already satisfied: charset-normalizer<4,>=2 in c:\\users\\moya\\anaconda3\\lib\\site-packages (from requests>=2.19.0->interpret-core[dash,debug,linear,notebook,plotly,sensitivity,shap]==0.5.0->interpret) (2.0.4)\n",
      "Requirement already satisfied: idna<4,>=2.5 in c:\\users\\moya\\anaconda3\\lib\\site-packages (from requests>=2.19.0->interpret-core[dash,debug,linear,notebook,plotly,sensitivity,shap]==0.5.0->interpret) (3.4)\n",
      "Requirement already satisfied: urllib3<3,>=1.21.1 in c:\\users\\moya\\anaconda3\\lib\\site-packages (from requests>=2.19.0->interpret-core[dash,debug,linear,notebook,plotly,sensitivity,shap]==0.5.0->interpret) (1.26.16)\n",
      "Requirement already satisfied: certifi>=2017.4.17 in c:\\users\\moya\\anaconda3\\lib\\site-packages (from requests>=2.19.0->interpret-core[dash,debug,linear,notebook,plotly,sensitivity,shap]==0.5.0->interpret) (2023.7.22)\n",
      "Requirement already satisfied: matplotlib>=3.2.2 in c:\\users\\moya\\anaconda3\\lib\\site-packages (from SALib>=1.3.3->interpret-core[dash,debug,linear,notebook,plotly,sensitivity,shap]==0.5.0->interpret) (3.6.0)\n",
      "Requirement already satisfied: multiprocess in c:\\users\\moya\\anaconda3\\lib\\site-packages (from SALib>=1.3.3->interpret-core[dash,debug,linear,notebook,plotly,sensitivity,shap]==0.5.0->interpret) (0.70.15)\n",
      "Requirement already satisfied: threadpoolctl>=2.0.0 in c:\\users\\moya\\anaconda3\\lib\\site-packages (from scikit-learn>=0.18.1->interpret-core==0.5.0->interpret-core[dash,debug,linear,notebook,plotly,sensitivity,shap]==0.5.0->interpret) (2.2.0)\n",
      "Requirement already satisfied: tqdm>=4.27.0 in c:\\users\\moya\\anaconda3\\lib\\site-packages (from shap>=0.28.5->interpret-core[dash,debug,linear,notebook,plotly,sensitivity,shap]==0.5.0->interpret) (4.65.0)\n",
      "Requirement already satisfied: slicer==0.0.7 in c:\\users\\moya\\anaconda3\\lib\\site-packages (from shap>=0.28.5->interpret-core[dash,debug,linear,notebook,plotly,sensitivity,shap]==0.5.0->interpret) (0.0.7)\n",
      "Requirement already satisfied: numba in c:\\users\\moya\\anaconda3\\lib\\site-packages (from shap>=0.28.5->interpret-core[dash,debug,linear,notebook,plotly,sensitivity,shap]==0.5.0->interpret) (0.57.0)\n",
      "Requirement already satisfied: cloudpickle in c:\\users\\moya\\anaconda3\\lib\\site-packages (from shap>=0.28.5->interpret-core[dash,debug,linear,notebook,plotly,sensitivity,shap]==0.5.0->interpret) (2.2.1)\n",
      "Requirement already satisfied: pycparser in c:\\users\\moya\\anaconda3\\lib\\site-packages (from cffi>=1.12.2->gevent>=1.3.6->interpret-core[dash,debug,linear,notebook,plotly,sensitivity,shap]==0.5.0->interpret) (2.21)\n",
      "Requirement already satisfied: Jinja2>=3.0 in c:\\users\\moya\\anaconda3\\lib\\site-packages (from Flask<3.1,>=1.0.4->dash>=1.0.0->interpret-core[dash,debug,linear,notebook,plotly,sensitivity,shap]==0.5.0->interpret) (3.1.2)\n",
      "Requirement already satisfied: itsdangerous>=2.0 in c:\\users\\moya\\anaconda3\\lib\\site-packages (from Flask<3.1,>=1.0.4->dash>=1.0.0->interpret-core[dash,debug,linear,notebook,plotly,sensitivity,shap]==0.5.0->interpret) (2.0.1)\n",
      "Requirement already satisfied: click>=8.0 in c:\\users\\moya\\anaconda3\\lib\\site-packages (from Flask<3.1,>=1.0.4->dash>=1.0.0->interpret-core[dash,debug,linear,notebook,plotly,sensitivity,shap]==0.5.0->interpret) (8.0.4)\n",
      "Requirement already satisfied: parso<0.9.0,>=0.8.3 in c:\\users\\moya\\appdata\\roaming\\python\\python311\\site-packages (from jedi>=0.16->ipython>=5.5.0->interpret-core[dash,debug,linear,notebook,plotly,sensitivity,shap]==0.5.0->interpret) (0.8.3)\n",
      "Requirement already satisfied: platformdirs>=2.5 in c:\\users\\moya\\appdata\\roaming\\python\\python311\\site-packages (from jupyter-core!=5.0.*,>=4.12->ipykernel>=4.10.0->interpret-core[dash,debug,linear,notebook,plotly,sensitivity,shap]==0.5.0->interpret) (3.10.0)\n",
      "Requirement already satisfied: pywin32>=300 in c:\\users\\moya\\appdata\\roaming\\python\\python311\\site-packages (from jupyter-core!=5.0.*,>=4.12->ipykernel>=4.10.0->interpret-core[dash,debug,linear,notebook,plotly,sensitivity,shap]==0.5.0->interpret) (306)\n",
      "Requirement already satisfied: contourpy>=1.0.1 in c:\\users\\moya\\anaconda3\\lib\\site-packages (from matplotlib>=3.2.2->SALib>=1.3.3->interpret-core[dash,debug,linear,notebook,plotly,sensitivity,shap]==0.5.0->interpret) (1.0.5)\n",
      "Requirement already satisfied: cycler>=0.10 in c:\\users\\moya\\anaconda3\\lib\\site-packages (from matplotlib>=3.2.2->SALib>=1.3.3->interpret-core[dash,debug,linear,notebook,plotly,sensitivity,shap]==0.5.0->interpret) (0.11.0)\n",
      "Requirement already satisfied: fonttools>=4.22.0 in c:\\users\\moya\\anaconda3\\lib\\site-packages (from matplotlib>=3.2.2->SALib>=1.3.3->interpret-core[dash,debug,linear,notebook,plotly,sensitivity,shap]==0.5.0->interpret) (4.25.0)\n",
      "Requirement already satisfied: kiwisolver>=1.0.1 in c:\\users\\moya\\anaconda3\\lib\\site-packages (from matplotlib>=3.2.2->SALib>=1.3.3->interpret-core[dash,debug,linear,notebook,plotly,sensitivity,shap]==0.5.0->interpret) (1.4.4)\n",
      "Requirement already satisfied: pillow>=6.2.0 in c:\\users\\moya\\anaconda3\\lib\\site-packages (from matplotlib>=3.2.2->SALib>=1.3.3->interpret-core[dash,debug,linear,notebook,plotly,sensitivity,shap]==0.5.0->interpret) (9.4.0)\n",
      "Requirement already satisfied: pyparsing>=2.2.1 in c:\\users\\moya\\anaconda3\\lib\\site-packages (from matplotlib>=3.2.2->SALib>=1.3.3->interpret-core[dash,debug,linear,notebook,plotly,sensitivity,shap]==0.5.0->interpret) (3.0.9)\n",
      "Requirement already satisfied: wcwidth in c:\\users\\moya\\appdata\\roaming\\python\\python311\\site-packages (from prompt-toolkit!=3.0.37,<3.1.0,>=3.0.30->ipython>=5.5.0->interpret-core[dash,debug,linear,notebook,plotly,sensitivity,shap]==0.5.0->interpret) (0.2.6)\n",
      "Requirement already satisfied: six>=1.5 in c:\\users\\moya\\anaconda3\\lib\\site-packages (from python-dateutil>=2.8.1->pandas>=0.19.2->interpret-core==0.5.0->interpret-core[dash,debug,linear,notebook,plotly,sensitivity,shap]==0.5.0->interpret) (1.16.0)\n",
      "Requirement already satisfied: MarkupSafe>=2.1.1 in c:\\users\\moya\\anaconda3\\lib\\site-packages (from Werkzeug<3.1->dash>=1.0.0->interpret-core[dash,debug,linear,notebook,plotly,sensitivity,shap]==0.5.0->interpret) (2.1.1)\n",
      "Requirement already satisfied: zipp>=0.5 in c:\\users\\moya\\appdata\\roaming\\python\\python311\\site-packages (from importlib-metadata->dash>=1.0.0->interpret-core[dash,debug,linear,notebook,plotly,sensitivity,shap]==0.5.0->interpret) (3.17.0)\n",
      "Requirement already satisfied: llvmlite<0.41,>=0.40.0dev0 in c:\\users\\moya\\anaconda3\\lib\\site-packages (from numba->shap>=0.28.5->interpret-core[dash,debug,linear,notebook,plotly,sensitivity,shap]==0.5.0->interpret) (0.40.0)\n",
      "Requirement already satisfied: executing>=1.2.0 in c:\\users\\moya\\appdata\\roaming\\python\\python311\\site-packages (from stack-data->ipython>=5.5.0->interpret-core[dash,debug,linear,notebook,plotly,sensitivity,shap]==0.5.0->interpret) (1.2.0)\n",
      "Requirement already satisfied: asttokens>=2.1.0 in c:\\users\\moya\\appdata\\roaming\\python\\python311\\site-packages (from stack-data->ipython>=5.5.0->interpret-core[dash,debug,linear,notebook,plotly,sensitivity,shap]==0.5.0->interpret) (2.4.0)\n",
      "Requirement already satisfied: pure-eval in c:\\users\\moya\\appdata\\roaming\\python\\python311\\site-packages (from stack-data->ipython>=5.5.0->interpret-core[dash,debug,linear,notebook,plotly,sensitivity,shap]==0.5.0->interpret) (0.2.2)\n",
      "Note: you may need to restart the kernel to use updated packages.\n"
     ]
    }
   ],
   "source": [
    "pip install interpret"
   ]
  },
  {
   "cell_type": "code",
   "execution_count": 4,
   "metadata": {},
   "outputs": [
    {
     "name": "stdout",
     "output_type": "stream",
     "text": [
      "Requirement already satisfied: lime in c:\\users\\moya\\anaconda3\\lib\\site-packages (0.2.0.1)\n",
      "Requirement already satisfied: matplotlib in c:\\users\\moya\\anaconda3\\lib\\site-packages (from lime) (3.6.0)\n",
      "Requirement already satisfied: numpy in c:\\users\\moya\\anaconda3\\lib\\site-packages (from lime) (1.24.4)\n",
      "Requirement already satisfied: scipy in c:\\users\\moya\\anaconda3\\lib\\site-packages (from lime) (1.10.1)\n",
      "Requirement already satisfied: tqdm in c:\\users\\moya\\anaconda3\\lib\\site-packages (from lime) (4.65.0)\n",
      "Requirement already satisfied: scikit-learn>=0.18 in c:\\users\\moya\\anaconda3\\lib\\site-packages (from lime) (1.2.2)\n",
      "Requirement already satisfied: scikit-image>=0.12 in c:\\users\\moya\\anaconda3\\lib\\site-packages (from lime) (0.20.0)\n",
      "Requirement already satisfied: networkx>=2.8 in c:\\users\\moya\\anaconda3\\lib\\site-packages (from scikit-image>=0.12->lime) (3.1)\n",
      "Requirement already satisfied: pillow>=9.0.1 in c:\\users\\moya\\anaconda3\\lib\\site-packages (from scikit-image>=0.12->lime) (9.4.0)\n",
      "Requirement already satisfied: imageio>=2.4.1 in c:\\users\\moya\\anaconda3\\lib\\site-packages (from scikit-image>=0.12->lime) (2.26.0)\n",
      "Requirement already satisfied: tifffile>=2019.7.26 in c:\\users\\moya\\anaconda3\\lib\\site-packages (from scikit-image>=0.12->lime) (2021.7.2)\n",
      "Requirement already satisfied: PyWavelets>=1.1.1 in c:\\users\\moya\\anaconda3\\lib\\site-packages (from scikit-image>=0.12->lime) (1.4.1)\n",
      "Requirement already satisfied: packaging>=20.0 in c:\\users\\moya\\anaconda3\\lib\\site-packages (from scikit-image>=0.12->lime) (23.0)\n",
      "Requirement already satisfied: lazy_loader>=0.1 in c:\\users\\moya\\anaconda3\\lib\\site-packages (from scikit-image>=0.12->lime) (0.2)\n",
      "Requirement already satisfied: joblib>=1.1.1 in c:\\users\\moya\\anaconda3\\lib\\site-packages (from scikit-learn>=0.18->lime) (1.2.0)\n",
      "Requirement already satisfied: threadpoolctl>=2.0.0 in c:\\users\\moya\\anaconda3\\lib\\site-packages (from scikit-learn>=0.18->lime) (2.2.0)\n",
      "Requirement already satisfied: contourpy>=1.0.1 in c:\\users\\moya\\anaconda3\\lib\\site-packages (from matplotlib->lime) (1.0.5)\n",
      "Requirement already satisfied: cycler>=0.10 in c:\\users\\moya\\anaconda3\\lib\\site-packages (from matplotlib->lime) (0.11.0)\n",
      "Requirement already satisfied: fonttools>=4.22.0 in c:\\users\\moya\\anaconda3\\lib\\site-packages (from matplotlib->lime) (4.25.0)\n",
      "Requirement already satisfied: kiwisolver>=1.0.1 in c:\\users\\moya\\anaconda3\\lib\\site-packages (from matplotlib->lime) (1.4.4)\n",
      "Requirement already satisfied: pyparsing>=2.2.1 in c:\\users\\moya\\anaconda3\\lib\\site-packages (from matplotlib->lime) (3.0.9)\n",
      "Requirement already satisfied: python-dateutil>=2.7 in c:\\users\\moya\\anaconda3\\lib\\site-packages (from matplotlib->lime) (2.8.2)\n",
      "Requirement already satisfied: colorama in c:\\users\\moya\\anaconda3\\lib\\site-packages (from tqdm->lime) (0.4.6)\n",
      "Requirement already satisfied: six>=1.5 in c:\\users\\moya\\anaconda3\\lib\\site-packages (from python-dateutil>=2.7->matplotlib->lime) (1.16.0)\n",
      "Note: you may need to restart the kernel to use updated packages.\n"
     ]
    }
   ],
   "source": [
    "pip install lime"
   ]
  },
  {
   "cell_type": "code",
   "execution_count": 66,
   "metadata": {},
   "outputs": [
    {
     "name": "stdout",
     "output_type": "stream",
     "text": [
      "Requirement already satisfied: shap in c:\\users\\moya\\anaconda3\\lib\\site-packages (0.44.0)\n",
      "Requirement already satisfied: numpy in c:\\users\\moya\\anaconda3\\lib\\site-packages (from shap) (1.24.4)\n",
      "Requirement already satisfied: scipy in c:\\users\\moya\\anaconda3\\lib\\site-packages (from shap) (1.10.1)\n",
      "Requirement already satisfied: scikit-learn in c:\\users\\moya\\anaconda3\\lib\\site-packages (from shap) (1.2.2)\n",
      "Requirement already satisfied: pandas in c:\\users\\moya\\anaconda3\\lib\\site-packages (from shap) (1.5.3)\n",
      "Requirement already satisfied: tqdm>=4.27.0 in c:\\users\\moya\\anaconda3\\lib\\site-packages (from shap) (4.65.0)\n",
      "Requirement already satisfied: packaging>20.9 in c:\\users\\moya\\anaconda3\\lib\\site-packages (from shap) (23.0)\n",
      "Requirement already satisfied: slicer==0.0.7 in c:\\users\\moya\\anaconda3\\lib\\site-packages (from shap) (0.0.7)\n",
      "Requirement already satisfied: numba in c:\\users\\moya\\anaconda3\\lib\\site-packages (from shap) (0.57.0)\n",
      "Requirement already satisfied: cloudpickle in c:\\users\\moya\\anaconda3\\lib\\site-packages (from shap) (2.2.1)\n",
      "Requirement already satisfied: colorama in c:\\users\\moya\\anaconda3\\lib\\site-packages (from tqdm>=4.27.0->shap) (0.4.6)\n",
      "Requirement already satisfied: llvmlite<0.41,>=0.40.0dev0 in c:\\users\\moya\\anaconda3\\lib\\site-packages (from numba->shap) (0.40.0)\n",
      "Requirement already satisfied: python-dateutil>=2.8.1 in c:\\users\\moya\\anaconda3\\lib\\site-packages (from pandas->shap) (2.8.2)\n",
      "Requirement already satisfied: pytz>=2020.1 in c:\\users\\moya\\anaconda3\\lib\\site-packages (from pandas->shap) (2022.7)\n",
      "Requirement already satisfied: joblib>=1.1.1 in c:\\users\\moya\\anaconda3\\lib\\site-packages (from scikit-learn->shap) (1.2.0)\n",
      "Requirement already satisfied: threadpoolctl>=2.0.0 in c:\\users\\moya\\anaconda3\\lib\\site-packages (from scikit-learn->shap) (2.2.0)\n",
      "Requirement already satisfied: six>=1.5 in c:\\users\\moya\\anaconda3\\lib\\site-packages (from python-dateutil>=2.8.1->pandas->shap) (1.16.0)\n",
      "Note: you may need to restart the kernel to use updated packages.\n"
     ]
    }
   ],
   "source": [
    "pip install shap"
   ]
  },
  {
   "cell_type": "code",
   "execution_count": 5,
   "metadata": {
    "execution": {
     "iopub.execute_input": "2021-03-18T10:33:51.140505Z",
     "iopub.status.busy": "2021-03-18T10:33:51.139881Z",
     "iopub.status.idle": "2021-03-18T10:33:52.366669Z",
     "shell.execute_reply": "2021-03-18T10:33:52.366104Z"
    },
    "papermill": {
     "duration": 1.243695,
     "end_time": "2021-03-18T10:33:52.366807",
     "exception": false,
     "start_time": "2021-03-18T10:33:51.123112",
     "status": "completed"
    },
    "tags": []
   },
   "outputs": [],
   "source": [
    "import numpy as np\n",
    "import pandas as ps\n",
    "import seaborn as sns\n",
    "from interpret import show\n",
    "from interpret.data import Marginal\n",
    "from interpret.glassbox import ExplainableBoostingClassifier\n",
    "from interpret.blackbox import LimeTabular, ShapKernel, MorrisSensitivity, PartialDependence\n",
    "import lime\n",
    "import lime.lime_tabular\n",
    "from interpret.perf import ROC\n",
    "# Charger le jeu de données\n",
    "import pandas as pd\n",
    "from pycaret.datasets import get_data\n",
    "from pycaret.classification import *\n"
   ]
  },
  {
   "cell_type": "code",
   "execution_count": 6,
   "metadata": {
    "execution": {
     "iopub.execute_input": "2021-03-18T10:33:52.405325Z",
     "iopub.status.busy": "2021-03-18T10:33:52.404703Z",
     "iopub.status.idle": "2021-03-18T10:33:52.465940Z",
     "shell.execute_reply": "2021-03-18T10:33:52.465383Z"
    },
    "papermill": {
     "duration": 0.080852,
     "end_time": "2021-03-18T10:33:52.466072",
     "exception": false,
     "start_time": "2021-03-18T10:33:52.385220",
     "status": "completed"
    },
    "tags": []
   },
   "outputs": [
    {
     "data": {
      "text/html": [
       "<div>\n",
       "<style scoped>\n",
       "    .dataframe tbody tr th:only-of-type {\n",
       "        vertical-align: middle;\n",
       "    }\n",
       "\n",
       "    .dataframe tbody tr th {\n",
       "        vertical-align: top;\n",
       "    }\n",
       "\n",
       "    .dataframe thead th {\n",
       "        text-align: right;\n",
       "    }\n",
       "</style>\n",
       "<table border=\"1\" class=\"dataframe\">\n",
       "  <thead>\n",
       "    <tr style=\"text-align: right;\">\n",
       "      <th></th>\n",
       "      <th>id</th>\n",
       "      <th>gender</th>\n",
       "      <th>age</th>\n",
       "      <th>hypertension</th>\n",
       "      <th>heart_disease</th>\n",
       "      <th>ever_married</th>\n",
       "      <th>work_type</th>\n",
       "      <th>Residence_type</th>\n",
       "      <th>avg_glucose_level</th>\n",
       "      <th>bmi</th>\n",
       "      <th>smoking_status</th>\n",
       "      <th>stroke</th>\n",
       "    </tr>\n",
       "  </thead>\n",
       "  <tbody>\n",
       "    <tr>\n",
       "      <th>0</th>\n",
       "      <td>9046</td>\n",
       "      <td>Male</td>\n",
       "      <td>67.0</td>\n",
       "      <td>0</td>\n",
       "      <td>1</td>\n",
       "      <td>Yes</td>\n",
       "      <td>Private</td>\n",
       "      <td>Urban</td>\n",
       "      <td>228.69</td>\n",
       "      <td>36.6</td>\n",
       "      <td>formerly smoked</td>\n",
       "      <td>1</td>\n",
       "    </tr>\n",
       "    <tr>\n",
       "      <th>1</th>\n",
       "      <td>51676</td>\n",
       "      <td>Female</td>\n",
       "      <td>61.0</td>\n",
       "      <td>0</td>\n",
       "      <td>0</td>\n",
       "      <td>Yes</td>\n",
       "      <td>Self-employed</td>\n",
       "      <td>Rural</td>\n",
       "      <td>202.21</td>\n",
       "      <td>NaN</td>\n",
       "      <td>never smoked</td>\n",
       "      <td>1</td>\n",
       "    </tr>\n",
       "    <tr>\n",
       "      <th>2</th>\n",
       "      <td>31112</td>\n",
       "      <td>Male</td>\n",
       "      <td>80.0</td>\n",
       "      <td>0</td>\n",
       "      <td>1</td>\n",
       "      <td>Yes</td>\n",
       "      <td>Private</td>\n",
       "      <td>Rural</td>\n",
       "      <td>105.92</td>\n",
       "      <td>32.5</td>\n",
       "      <td>never smoked</td>\n",
       "      <td>1</td>\n",
       "    </tr>\n",
       "    <tr>\n",
       "      <th>3</th>\n",
       "      <td>60182</td>\n",
       "      <td>Female</td>\n",
       "      <td>49.0</td>\n",
       "      <td>0</td>\n",
       "      <td>0</td>\n",
       "      <td>Yes</td>\n",
       "      <td>Private</td>\n",
       "      <td>Urban</td>\n",
       "      <td>171.23</td>\n",
       "      <td>34.4</td>\n",
       "      <td>smokes</td>\n",
       "      <td>1</td>\n",
       "    </tr>\n",
       "    <tr>\n",
       "      <th>4</th>\n",
       "      <td>1665</td>\n",
       "      <td>Female</td>\n",
       "      <td>79.0</td>\n",
       "      <td>1</td>\n",
       "      <td>0</td>\n",
       "      <td>Yes</td>\n",
       "      <td>Self-employed</td>\n",
       "      <td>Rural</td>\n",
       "      <td>174.12</td>\n",
       "      <td>24.0</td>\n",
       "      <td>never smoked</td>\n",
       "      <td>1</td>\n",
       "    </tr>\n",
       "  </tbody>\n",
       "</table>\n",
       "</div>"
      ],
      "text/plain": [
       "      id  gender   age  hypertension  heart_disease ever_married  \\\n",
       "0   9046    Male  67.0             0              1          Yes   \n",
       "1  51676  Female  61.0             0              0          Yes   \n",
       "2  31112    Male  80.0             0              1          Yes   \n",
       "3  60182  Female  49.0             0              0          Yes   \n",
       "4   1665  Female  79.0             1              0          Yes   \n",
       "\n",
       "       work_type Residence_type  avg_glucose_level   bmi   smoking_status  \\\n",
       "0        Private          Urban             228.69  36.6  formerly smoked   \n",
       "1  Self-employed          Rural             202.21   NaN     never smoked   \n",
       "2        Private          Rural             105.92  32.5     never smoked   \n",
       "3        Private          Urban             171.23  34.4           smokes   \n",
       "4  Self-employed          Rural             174.12  24.0     never smoked   \n",
       "\n",
       "   stroke  \n",
       "0       1  \n",
       "1       1  \n",
       "2       1  \n",
       "3       1  \n",
       "4       1  "
      ]
     },
     "execution_count": 6,
     "metadata": {},
     "output_type": "execute_result"
    }
   ],
   "source": [
    "df=pd.read_csv('healthcare-dataset-stroke-data (1).csv')\n",
    "df.head()"
   ]
  },
  {
   "cell_type": "code",
   "execution_count": 7,
   "metadata": {
    "execution": {
     "iopub.execute_input": "2021-03-18T10:33:52.503390Z",
     "iopub.status.busy": "2021-03-18T10:33:52.502426Z",
     "iopub.status.idle": "2021-03-18T10:33:52.518457Z",
     "shell.execute_reply": "2021-03-18T10:33:52.518908Z"
    },
    "papermill": {
     "duration": 0.038184,
     "end_time": "2021-03-18T10:33:52.519075",
     "exception": false,
     "start_time": "2021-03-18T10:33:52.480891",
     "status": "completed"
    },
    "tags": []
   },
   "outputs": [
    {
     "name": "stdout",
     "output_type": "stream",
     "text": [
      "<class 'pandas.core.frame.DataFrame'>\n",
      "RangeIndex: 5110 entries, 0 to 5109\n",
      "Data columns (total 12 columns):\n",
      " #   Column             Non-Null Count  Dtype  \n",
      "---  ------             --------------  -----  \n",
      " 0   id                 5110 non-null   int64  \n",
      " 1   gender             5110 non-null   object \n",
      " 2   age                5110 non-null   float64\n",
      " 3   hypertension       5110 non-null   int64  \n",
      " 4   heart_disease      5110 non-null   int64  \n",
      " 5   ever_married       5110 non-null   object \n",
      " 6   work_type          5110 non-null   object \n",
      " 7   Residence_type     5110 non-null   object \n",
      " 8   avg_glucose_level  5110 non-null   float64\n",
      " 9   bmi                4909 non-null   float64\n",
      " 10  smoking_status     5110 non-null   object \n",
      " 11  stroke             5110 non-null   int64  \n",
      "dtypes: float64(3), int64(4), object(5)\n",
      "memory usage: 479.2+ KB\n"
     ]
    }
   ],
   "source": [
    "df.info()"
   ]
  },
  {
   "cell_type": "code",
   "execution_count": 8,
   "metadata": {
    "execution": {
     "iopub.execute_input": "2021-03-18T10:33:52.556507Z",
     "iopub.status.busy": "2021-03-18T10:33:52.555883Z",
     "iopub.status.idle": "2021-03-18T10:33:52.583817Z",
     "shell.execute_reply": "2021-03-18T10:33:52.583291Z"
    },
    "papermill": {
     "duration": 0.049928,
     "end_time": "2021-03-18T10:33:52.583958",
     "exception": false,
     "start_time": "2021-03-18T10:33:52.534030",
     "status": "completed"
    },
    "tags": []
   },
   "outputs": [
    {
     "data": {
      "text/html": [
       "<div>\n",
       "<style scoped>\n",
       "    .dataframe tbody tr th:only-of-type {\n",
       "        vertical-align: middle;\n",
       "    }\n",
       "\n",
       "    .dataframe tbody tr th {\n",
       "        vertical-align: top;\n",
       "    }\n",
       "\n",
       "    .dataframe thead th {\n",
       "        text-align: right;\n",
       "    }\n",
       "</style>\n",
       "<table border=\"1\" class=\"dataframe\">\n",
       "  <thead>\n",
       "    <tr style=\"text-align: right;\">\n",
       "      <th></th>\n",
       "      <th>id</th>\n",
       "      <th>age</th>\n",
       "      <th>hypertension</th>\n",
       "      <th>heart_disease</th>\n",
       "      <th>avg_glucose_level</th>\n",
       "      <th>bmi</th>\n",
       "      <th>stroke</th>\n",
       "    </tr>\n",
       "  </thead>\n",
       "  <tbody>\n",
       "    <tr>\n",
       "      <th>count</th>\n",
       "      <td>5110.000000</td>\n",
       "      <td>5110.000000</td>\n",
       "      <td>5110.000000</td>\n",
       "      <td>5110.000000</td>\n",
       "      <td>5110.000000</td>\n",
       "      <td>4909.000000</td>\n",
       "      <td>5110.000000</td>\n",
       "    </tr>\n",
       "    <tr>\n",
       "      <th>mean</th>\n",
       "      <td>36517.829354</td>\n",
       "      <td>43.226614</td>\n",
       "      <td>0.097456</td>\n",
       "      <td>0.054012</td>\n",
       "      <td>106.147677</td>\n",
       "      <td>28.893237</td>\n",
       "      <td>0.048728</td>\n",
       "    </tr>\n",
       "    <tr>\n",
       "      <th>std</th>\n",
       "      <td>21161.721625</td>\n",
       "      <td>22.612647</td>\n",
       "      <td>0.296607</td>\n",
       "      <td>0.226063</td>\n",
       "      <td>45.283560</td>\n",
       "      <td>7.854067</td>\n",
       "      <td>0.215320</td>\n",
       "    </tr>\n",
       "    <tr>\n",
       "      <th>min</th>\n",
       "      <td>67.000000</td>\n",
       "      <td>0.080000</td>\n",
       "      <td>0.000000</td>\n",
       "      <td>0.000000</td>\n",
       "      <td>55.120000</td>\n",
       "      <td>10.300000</td>\n",
       "      <td>0.000000</td>\n",
       "    </tr>\n",
       "    <tr>\n",
       "      <th>25%</th>\n",
       "      <td>17741.250000</td>\n",
       "      <td>25.000000</td>\n",
       "      <td>0.000000</td>\n",
       "      <td>0.000000</td>\n",
       "      <td>77.245000</td>\n",
       "      <td>23.500000</td>\n",
       "      <td>0.000000</td>\n",
       "    </tr>\n",
       "    <tr>\n",
       "      <th>50%</th>\n",
       "      <td>36932.000000</td>\n",
       "      <td>45.000000</td>\n",
       "      <td>0.000000</td>\n",
       "      <td>0.000000</td>\n",
       "      <td>91.885000</td>\n",
       "      <td>28.100000</td>\n",
       "      <td>0.000000</td>\n",
       "    </tr>\n",
       "    <tr>\n",
       "      <th>75%</th>\n",
       "      <td>54682.000000</td>\n",
       "      <td>61.000000</td>\n",
       "      <td>0.000000</td>\n",
       "      <td>0.000000</td>\n",
       "      <td>114.090000</td>\n",
       "      <td>33.100000</td>\n",
       "      <td>0.000000</td>\n",
       "    </tr>\n",
       "    <tr>\n",
       "      <th>max</th>\n",
       "      <td>72940.000000</td>\n",
       "      <td>82.000000</td>\n",
       "      <td>1.000000</td>\n",
       "      <td>1.000000</td>\n",
       "      <td>271.740000</td>\n",
       "      <td>97.600000</td>\n",
       "      <td>1.000000</td>\n",
       "    </tr>\n",
       "  </tbody>\n",
       "</table>\n",
       "</div>"
      ],
      "text/plain": [
       "                 id          age  hypertension  heart_disease  \\\n",
       "count   5110.000000  5110.000000   5110.000000    5110.000000   \n",
       "mean   36517.829354    43.226614      0.097456       0.054012   \n",
       "std    21161.721625    22.612647      0.296607       0.226063   \n",
       "min       67.000000     0.080000      0.000000       0.000000   \n",
       "25%    17741.250000    25.000000      0.000000       0.000000   \n",
       "50%    36932.000000    45.000000      0.000000       0.000000   \n",
       "75%    54682.000000    61.000000      0.000000       0.000000   \n",
       "max    72940.000000    82.000000      1.000000       1.000000   \n",
       "\n",
       "       avg_glucose_level          bmi       stroke  \n",
       "count        5110.000000  4909.000000  5110.000000  \n",
       "mean          106.147677    28.893237     0.048728  \n",
       "std            45.283560     7.854067     0.215320  \n",
       "min            55.120000    10.300000     0.000000  \n",
       "25%            77.245000    23.500000     0.000000  \n",
       "50%            91.885000    28.100000     0.000000  \n",
       "75%           114.090000    33.100000     0.000000  \n",
       "max           271.740000    97.600000     1.000000  "
      ]
     },
     "execution_count": 8,
     "metadata": {},
     "output_type": "execute_result"
    }
   ],
   "source": [
    "df.describe()"
   ]
  },
  {
   "cell_type": "code",
   "execution_count": 9,
   "metadata": {
    "execution": {
     "iopub.execute_input": "2021-03-18T10:33:52.620876Z",
     "iopub.status.busy": "2021-03-18T10:33:52.620218Z",
     "iopub.status.idle": "2021-03-18T10:33:52.626662Z",
     "shell.execute_reply": "2021-03-18T10:33:52.627124Z"
    },
    "papermill": {
     "duration": 0.02726,
     "end_time": "2021-03-18T10:33:52.627319",
     "exception": false,
     "start_time": "2021-03-18T10:33:52.600059",
     "status": "completed"
    },
    "tags": []
   },
   "outputs": [
    {
     "data": {
      "text/plain": [
       "id                     0\n",
       "gender                 0\n",
       "age                    0\n",
       "hypertension           0\n",
       "heart_disease          0\n",
       "ever_married           0\n",
       "work_type              0\n",
       "Residence_type         0\n",
       "avg_glucose_level      0\n",
       "bmi                  201\n",
       "smoking_status         0\n",
       "stroke                 0\n",
       "dtype: int64"
      ]
     },
     "execution_count": 9,
     "metadata": {},
     "output_type": "execute_result"
    }
   ],
   "source": [
    "df.isnull().sum()"
   ]
  },
  {
   "cell_type": "code",
   "execution_count": 10,
   "metadata": {
    "execution": {
     "iopub.execute_input": "2021-03-18T10:33:52.663843Z",
     "iopub.status.busy": "2021-03-18T10:33:52.663292Z",
     "iopub.status.idle": "2021-03-18T10:33:52.665845Z",
     "shell.execute_reply": "2021-03-18T10:33:52.666303Z"
    },
    "papermill": {
     "duration": 0.023575,
     "end_time": "2021-03-18T10:33:52.666484",
     "exception": false,
     "start_time": "2021-03-18T10:33:52.642909",
     "status": "completed"
    },
    "tags": []
   },
   "outputs": [],
   "source": [
    "df.bmi=df.bmi.fillna(df.bmi.mean())"
   ]
  },
  {
   "cell_type": "code",
   "execution_count": 11,
   "metadata": {
    "execution": {
     "iopub.execute_input": "2021-03-18T10:33:52.701862Z",
     "iopub.status.busy": "2021-03-18T10:33:52.701332Z",
     "iopub.status.idle": "2021-03-18T10:33:52.709256Z",
     "shell.execute_reply": "2021-03-18T10:33:52.709690Z"
    },
    "papermill": {
     "duration": 0.026644,
     "end_time": "2021-03-18T10:33:52.709859",
     "exception": false,
     "start_time": "2021-03-18T10:33:52.683215",
     "status": "completed"
    },
    "tags": []
   },
   "outputs": [
    {
     "data": {
      "text/plain": [
       "id                   0\n",
       "gender               0\n",
       "age                  0\n",
       "hypertension         0\n",
       "heart_disease        0\n",
       "ever_married         0\n",
       "work_type            0\n",
       "Residence_type       0\n",
       "avg_glucose_level    0\n",
       "bmi                  0\n",
       "smoking_status       0\n",
       "stroke               0\n",
       "dtype: int64"
      ]
     },
     "execution_count": 11,
     "metadata": {},
     "output_type": "execute_result"
    }
   ],
   "source": [
    "df.isnull().sum()"
   ]
  },
  {
   "cell_type": "code",
   "execution_count": 12,
   "metadata": {
    "execution": {
     "iopub.execute_input": "2021-03-18T10:33:52.745015Z",
     "iopub.status.busy": "2021-03-18T10:33:52.744422Z",
     "iopub.status.idle": "2021-03-18T10:33:52.748043Z",
     "shell.execute_reply": "2021-03-18T10:33:52.748491Z"
    },
    "papermill": {
     "duration": 0.022808,
     "end_time": "2021-03-18T10:33:52.748650",
     "exception": false,
     "start_time": "2021-03-18T10:33:52.725842",
     "status": "completed"
    },
    "tags": []
   },
   "outputs": [],
   "source": [
    "#plot graph for individual columns"
   ]
  },
  {
   "cell_type": "code",
   "execution_count": 13,
   "metadata": {
    "execution": {
     "iopub.execute_input": "2021-03-18T10:33:52.789851Z",
     "iopub.status.busy": "2021-03-18T10:33:52.789272Z",
     "iopub.status.idle": "2021-03-18T10:33:52.932025Z",
     "shell.execute_reply": "2021-03-18T10:33:52.931545Z"
    },
    "papermill": {
     "duration": 0.167502,
     "end_time": "2021-03-18T10:33:52.932189",
     "exception": false,
     "start_time": "2021-03-18T10:33:52.764687",
     "status": "completed"
    },
    "tags": []
   },
   "outputs": [
    {
     "data": {
      "text/plain": [
       "<AxesSubplot: xlabel='gender', ylabel='count'>"
      ]
     },
     "execution_count": 13,
     "metadata": {},
     "output_type": "execute_result"
    },
    {
     "data": {
      "image/png": "[encoded data removed]",
      "text/plain": [
       "<Figure size 800x550 with 1 Axes>"
      ]
     },
     "metadata": {},
     "output_type": "display_data"
    }
   ],
   "source": [
    "sns.countplot(x=df['gender'])"
   ]
  },
  {
   "cell_type": "code",
   "execution_count": 14,
   "metadata": {
    "execution": {
     "iopub.execute_input": "2021-03-18T10:33:52.977511Z",
     "iopub.status.busy": "2021-03-18T10:33:52.974832Z",
     "iopub.status.idle": "2021-03-18T10:33:53.084160Z",
     "shell.execute_reply": "2021-03-18T10:33:53.083596Z"
    },
    "papermill": {
     "duration": 0.135216,
     "end_time": "2021-03-18T10:33:53.084317",
     "exception": false,
     "start_time": "2021-03-18T10:33:52.949101",
     "status": "completed"
    },
    "tags": []
   },
   "outputs": [
    {
     "data": {
      "text/plain": [
       "<AxesSubplot: xlabel='ever_married', ylabel='count'>"
      ]
     },
     "execution_count": 14,
     "metadata": {},
     "output_type": "execute_result"
    },
    {
     "data": {
      "image/png": "[encoded data removed]",
      "text/plain": [
       "<Figure size 800x550 with 1 Axes>"
      ]
     },
     "metadata": {},
     "output_type": "display_data"
    }
   ],
   "source": [
    "sns.countplot(x=df['ever_married'])"
   ]
  },
  {
   "cell_type": "code",
   "execution_count": 15,
   "metadata": {
    "execution": {
     "iopub.execute_input": "2021-03-18T10:33:53.128991Z",
     "iopub.status.busy": "2021-03-18T10:33:53.128061Z",
     "iopub.status.idle": "2021-03-18T10:33:53.333110Z",
     "shell.execute_reply": "2021-03-18T10:33:53.332646Z"
    },
    "papermill": {
     "duration": 0.231247,
     "end_time": "2021-03-18T10:33:53.333270",
     "exception": false,
     "start_time": "2021-03-18T10:33:53.102023",
     "status": "completed"
    },
    "tags": []
   },
   "outputs": [
    {
     "data": {
      "text/plain": [
       "<AxesSubplot: xlabel='work_type', ylabel='count'>"
      ]
     },
     "execution_count": 15,
     "metadata": {},
     "output_type": "execute_result"
    },
    {
     "data": {
      "image/png": "[encoded data removed]",
      "text/plain": [
       "<Figure size 800x550 with 1 Axes>"
      ]
     },
     "metadata": {},
     "output_type": "display_data"
    }
   ],
   "source": [
    "sns.countplot(x=df['work_type'])"
   ]
  },
  {
   "cell_type": "code",
   "execution_count": 16,
   "metadata": {
    "execution": {
     "iopub.execute_input": "2021-03-18T10:33:53.379581Z",
     "iopub.status.busy": "2021-03-18T10:33:53.378979Z",
     "iopub.status.idle": "2021-03-18T10:33:53.477575Z",
     "shell.execute_reply": "2021-03-18T10:33:53.477084Z"
    },
    "papermill": {
     "duration": 0.125681,
     "end_time": "2021-03-18T10:33:53.477721",
     "exception": false,
     "start_time": "2021-03-18T10:33:53.352040",
     "status": "completed"
    },
    "tags": []
   },
   "outputs": [
    {
     "data": {
      "text/plain": [
       "<AxesSubplot: xlabel='Residence_type', ylabel='count'>"
      ]
     },
     "execution_count": 16,
     "metadata": {},
     "output_type": "execute_result"
    },
    {
     "data": {
      "image/png": "[encoded data removed]",
      "text/plain": [
       "<Figure size 800x550 with 1 Axes>"
      ]
     },
     "metadata": {},
     "output_type": "display_data"
    }
   ],
   "source": [
    "sns.countplot(x=df['Residence_type'])"
   ]
  },
  {
   "cell_type": "code",
   "execution_count": 17,
   "metadata": {
    "execution": {
     "iopub.execute_input": "2021-03-18T10:33:53.525116Z",
     "iopub.status.busy": "2021-03-18T10:33:53.523502Z",
     "iopub.status.idle": "2021-03-18T10:33:53.643144Z",
     "shell.execute_reply": "2021-03-18T10:33:53.643595Z"
    },
    "papermill": {
     "duration": 0.146188,
     "end_time": "2021-03-18T10:33:53.643769",
     "exception": false,
     "start_time": "2021-03-18T10:33:53.497581",
     "status": "completed"
    },
    "tags": []
   },
   "outputs": [
    {
     "data": {
      "text/plain": [
       "<AxesSubplot: xlabel='smoking_status', ylabel='count'>"
      ]
     },
     "execution_count": 17,
     "metadata": {},
     "output_type": "execute_result"
    },
    {
     "data": {
      "image/png": "[encoded data removed]",
      "text/plain": [
       "<Figure size 800x550 with 1 Axes>"
      ]
     },
     "metadata": {},
     "output_type": "display_data"
    }
   ],
   "source": [
    "sns.countplot(x=df['smoking_status'])"
   ]
  },
  {
   "cell_type": "code",
   "execution_count": 18,
   "metadata": {
    "execution": {
     "iopub.execute_input": "2021-03-18T10:33:53.692840Z",
     "iopub.status.busy": "2021-03-18T10:33:53.691944Z",
     "iopub.status.idle": "2021-03-18T10:33:53.694711Z",
     "shell.execute_reply": "2021-03-18T10:33:53.694141Z"
    },
    "papermill": {
     "duration": 0.0302,
     "end_time": "2021-03-18T10:33:53.694841",
     "exception": false,
     "start_time": "2021-03-18T10:33:53.664641",
     "status": "completed"
    },
    "tags": []
   },
   "outputs": [],
   "source": [
    "df['smoking_status'].replace(to_replace='Unknown', value=df['bmi'].mode()[0], inplace=True)"
   ]
  },
  {
   "cell_type": "code",
   "execution_count": 19,
   "metadata": {
    "execution": {
     "iopub.execute_input": "2021-03-18T10:33:53.745397Z",
     "iopub.status.busy": "2021-03-18T10:33:53.744800Z",
     "iopub.status.idle": "2021-03-18T10:33:53.862689Z",
     "shell.execute_reply": "2021-03-18T10:33:53.863120Z"
    },
    "papermill": {
     "duration": 0.147802,
     "end_time": "2021-03-18T10:33:53.863319",
     "exception": false,
     "start_time": "2021-03-18T10:33:53.715517",
     "status": "completed"
    },
    "tags": []
   },
   "outputs": [
    {
     "data": {
      "text/plain": [
       "<AxesSubplot: xlabel='smoking_status', ylabel='count'>"
      ]
     },
     "execution_count": 19,
     "metadata": {},
     "output_type": "execute_result"
    },
    {
     "data": {
      "image/png": "[encoded data removed]",
      "text/plain": [
       "<Figure size 800x550 with 1 Axes>"
      ]
     },
     "metadata": {},
     "output_type": "display_data"
    }
   ],
   "source": [
    "sns.countplot(x=df['smoking_status'])"
   ]
  },
  {
   "cell_type": "code",
   "execution_count": 20,
   "metadata": {
    "execution": {
     "iopub.execute_input": "2021-03-18T10:33:53.910508Z",
     "iopub.status.busy": "2021-03-18T10:33:53.909937Z",
     "iopub.status.idle": "2021-03-18T10:33:54.082686Z",
     "shell.execute_reply": "2021-03-18T10:33:54.082123Z"
    },
    "papermill": {
     "duration": 0.19731,
     "end_time": "2021-03-18T10:33:54.082819",
     "exception": false,
     "start_time": "2021-03-18T10:33:53.885509",
     "status": "completed"
    },
    "tags": []
   },
   "outputs": [],
   "source": [
    "from sklearn.preprocessing import LabelEncoder\n",
    "le=LabelEncoder()"
   ]
  },
  {
   "cell_type": "code",
   "execution_count": 21,
   "metadata": {
    "execution": {
     "iopub.execute_input": "2021-03-18T10:33:54.135710Z",
     "iopub.status.busy": "2021-03-18T10:33:54.135080Z",
     "iopub.status.idle": "2021-03-18T10:33:54.146345Z",
     "shell.execute_reply": "2021-03-18T10:33:54.145865Z"
    },
    "papermill": {
     "duration": 0.041937,
     "end_time": "2021-03-18T10:33:54.146479",
     "exception": false,
     "start_time": "2021-03-18T10:33:54.104542",
     "status": "completed"
    },
    "tags": []
   },
   "outputs": [
    {
     "data": {
      "text/html": [
       "<div>\n",
       "<style scoped>\n",
       "    .dataframe tbody tr th:only-of-type {\n",
       "        vertical-align: middle;\n",
       "    }\n",
       "\n",
       "    .dataframe tbody tr th {\n",
       "        vertical-align: top;\n",
       "    }\n",
       "\n",
       "    .dataframe thead th {\n",
       "        text-align: right;\n",
       "    }\n",
       "</style>\n",
       "<table border=\"1\" class=\"dataframe\">\n",
       "  <thead>\n",
       "    <tr style=\"text-align: right;\">\n",
       "      <th></th>\n",
       "      <th>id</th>\n",
       "      <th>gender</th>\n",
       "      <th>age</th>\n",
       "      <th>hypertension</th>\n",
       "      <th>heart_disease</th>\n",
       "      <th>ever_married</th>\n",
       "      <th>work_type</th>\n",
       "      <th>Residence_type</th>\n",
       "      <th>avg_glucose_level</th>\n",
       "      <th>bmi</th>\n",
       "      <th>smoking_status</th>\n",
       "      <th>stroke</th>\n",
       "    </tr>\n",
       "  </thead>\n",
       "  <tbody>\n",
       "    <tr>\n",
       "      <th>0</th>\n",
       "      <td>9046</td>\n",
       "      <td>Male</td>\n",
       "      <td>67.0</td>\n",
       "      <td>0</td>\n",
       "      <td>1</td>\n",
       "      <td>Yes</td>\n",
       "      <td>Private</td>\n",
       "      <td>Urban</td>\n",
       "      <td>228.69</td>\n",
       "      <td>36.600000</td>\n",
       "      <td>formerly smoked</td>\n",
       "      <td>1</td>\n",
       "    </tr>\n",
       "    <tr>\n",
       "      <th>1</th>\n",
       "      <td>51676</td>\n",
       "      <td>Female</td>\n",
       "      <td>61.0</td>\n",
       "      <td>0</td>\n",
       "      <td>0</td>\n",
       "      <td>Yes</td>\n",
       "      <td>Self-employed</td>\n",
       "      <td>Rural</td>\n",
       "      <td>202.21</td>\n",
       "      <td>28.893237</td>\n",
       "      <td>never smoked</td>\n",
       "      <td>1</td>\n",
       "    </tr>\n",
       "    <tr>\n",
       "      <th>2</th>\n",
       "      <td>31112</td>\n",
       "      <td>Male</td>\n",
       "      <td>80.0</td>\n",
       "      <td>0</td>\n",
       "      <td>1</td>\n",
       "      <td>Yes</td>\n",
       "      <td>Private</td>\n",
       "      <td>Rural</td>\n",
       "      <td>105.92</td>\n",
       "      <td>32.500000</td>\n",
       "      <td>never smoked</td>\n",
       "      <td>1</td>\n",
       "    </tr>\n",
       "    <tr>\n",
       "      <th>3</th>\n",
       "      <td>60182</td>\n",
       "      <td>Female</td>\n",
       "      <td>49.0</td>\n",
       "      <td>0</td>\n",
       "      <td>0</td>\n",
       "      <td>Yes</td>\n",
       "      <td>Private</td>\n",
       "      <td>Urban</td>\n",
       "      <td>171.23</td>\n",
       "      <td>34.400000</td>\n",
       "      <td>smokes</td>\n",
       "      <td>1</td>\n",
       "    </tr>\n",
       "    <tr>\n",
       "      <th>4</th>\n",
       "      <td>1665</td>\n",
       "      <td>Female</td>\n",
       "      <td>79.0</td>\n",
       "      <td>1</td>\n",
       "      <td>0</td>\n",
       "      <td>Yes</td>\n",
       "      <td>Self-employed</td>\n",
       "      <td>Rural</td>\n",
       "      <td>174.12</td>\n",
       "      <td>24.000000</td>\n",
       "      <td>never smoked</td>\n",
       "      <td>1</td>\n",
       "    </tr>\n",
       "  </tbody>\n",
       "</table>\n",
       "</div>"
      ],
      "text/plain": [
       "      id  gender   age  hypertension  heart_disease ever_married  \\\n",
       "0   9046    Male  67.0             0              1          Yes   \n",
       "1  51676  Female  61.0             0              0          Yes   \n",
       "2  31112    Male  80.0             0              1          Yes   \n",
       "3  60182  Female  49.0             0              0          Yes   \n",
       "4   1665  Female  79.0             1              0          Yes   \n",
       "\n",
       "       work_type Residence_type  avg_glucose_level        bmi  \\\n",
       "0        Private          Urban             228.69  36.600000   \n",
       "1  Self-employed          Rural             202.21  28.893237   \n",
       "2        Private          Rural             105.92  32.500000   \n",
       "3        Private          Urban             171.23  34.400000   \n",
       "4  Self-employed          Rural             174.12  24.000000   \n",
       "\n",
       "    smoking_status  stroke  \n",
       "0  formerly smoked       1  \n",
       "1     never smoked       1  \n",
       "2     never smoked       1  \n",
       "3           smokes       1  \n",
       "4     never smoked       1  "
      ]
     },
     "execution_count": 21,
     "metadata": {},
     "output_type": "execute_result"
    }
   ],
   "source": [
    "df.head()"
   ]
  },
  {
   "cell_type": "code",
   "execution_count": 22,
   "metadata": {
    "execution": {
     "iopub.execute_input": "2021-03-18T10:33:54.196819Z",
     "iopub.status.busy": "2021-03-18T10:33:54.196224Z",
     "iopub.status.idle": "2021-03-18T10:33:54.204291Z",
     "shell.execute_reply": "2021-03-18T10:33:54.204735Z"
    },
    "papermill": {
     "duration": 0.036492,
     "end_time": "2021-03-18T10:33:54.204898",
     "exception": false,
     "start_time": "2021-03-18T10:33:54.168406",
     "status": "completed"
    },
    "tags": []
   },
   "outputs": [],
   "source": [
    "a=pd.get_dummies(df.gender)\n",
    "b=pd.get_dummies(df.ever_married)\n",
    "c=pd.get_dummies(df.work_type)\n",
    "d=pd.get_dummies(df.Residence_type)\n",
    "e=pd.get_dummies(df.smoking_status)"
   ]
  },
  {
   "cell_type": "code",
   "execution_count": 23,
   "metadata": {
    "execution": {
     "iopub.execute_input": "2021-03-18T10:33:54.255101Z",
     "iopub.status.busy": "2021-03-18T10:33:54.254578Z",
     "iopub.status.idle": "2021-03-18T10:33:54.279789Z",
     "shell.execute_reply": "2021-03-18T10:33:54.280371Z"
    },
    "papermill": {
     "duration": 0.050435,
     "end_time": "2021-03-18T10:33:54.280551",
     "exception": false,
     "start_time": "2021-03-18T10:33:54.230116",
     "status": "completed"
    },
    "tags": []
   },
   "outputs": [
    {
     "data": {
      "text/html": [
       "<div>\n",
       "<style scoped>\n",
       "    .dataframe tbody tr th:only-of-type {\n",
       "        vertical-align: middle;\n",
       "    }\n",
       "\n",
       "    .dataframe tbody tr th {\n",
       "        vertical-align: top;\n",
       "    }\n",
       "\n",
       "    .dataframe thead th {\n",
       "        text-align: right;\n",
       "    }\n",
       "</style>\n",
       "<table border=\"1\" class=\"dataframe\">\n",
       "  <thead>\n",
       "    <tr style=\"text-align: right;\">\n",
       "      <th></th>\n",
       "      <th>id</th>\n",
       "      <th>gender</th>\n",
       "      <th>age</th>\n",
       "      <th>hypertension</th>\n",
       "      <th>heart_disease</th>\n",
       "      <th>ever_married</th>\n",
       "      <th>work_type</th>\n",
       "      <th>Residence_type</th>\n",
       "      <th>avg_glucose_level</th>\n",
       "      <th>bmi</th>\n",
       "      <th>...</th>\n",
       "      <th>Never_worked</th>\n",
       "      <th>Private</th>\n",
       "      <th>Self-employed</th>\n",
       "      <th>children</th>\n",
       "      <th>Rural</th>\n",
       "      <th>Urban</th>\n",
       "      <th>28.893236911794666</th>\n",
       "      <th>formerly smoked</th>\n",
       "      <th>never smoked</th>\n",
       "      <th>smokes</th>\n",
       "    </tr>\n",
       "  </thead>\n",
       "  <tbody>\n",
       "    <tr>\n",
       "      <th>0</th>\n",
       "      <td>9046</td>\n",
       "      <td>Male</td>\n",
       "      <td>67.0</td>\n",
       "      <td>0</td>\n",
       "      <td>1</td>\n",
       "      <td>Yes</td>\n",
       "      <td>Private</td>\n",
       "      <td>Urban</td>\n",
       "      <td>228.69</td>\n",
       "      <td>36.600000</td>\n",
       "      <td>...</td>\n",
       "      <td>0</td>\n",
       "      <td>1</td>\n",
       "      <td>0</td>\n",
       "      <td>0</td>\n",
       "      <td>0</td>\n",
       "      <td>1</td>\n",
       "      <td>0</td>\n",
       "      <td>1</td>\n",
       "      <td>0</td>\n",
       "      <td>0</td>\n",
       "    </tr>\n",
       "    <tr>\n",
       "      <th>1</th>\n",
       "      <td>51676</td>\n",
       "      <td>Female</td>\n",
       "      <td>61.0</td>\n",
       "      <td>0</td>\n",
       "      <td>0</td>\n",
       "      <td>Yes</td>\n",
       "      <td>Self-employed</td>\n",
       "      <td>Rural</td>\n",
       "      <td>202.21</td>\n",
       "      <td>28.893237</td>\n",
       "      <td>...</td>\n",
       "      <td>0</td>\n",
       "      <td>0</td>\n",
       "      <td>1</td>\n",
       "      <td>0</td>\n",
       "      <td>1</td>\n",
       "      <td>0</td>\n",
       "      <td>0</td>\n",
       "      <td>0</td>\n",
       "      <td>1</td>\n",
       "      <td>0</td>\n",
       "    </tr>\n",
       "    <tr>\n",
       "      <th>2</th>\n",
       "      <td>31112</td>\n",
       "      <td>Male</td>\n",
       "      <td>80.0</td>\n",
       "      <td>0</td>\n",
       "      <td>1</td>\n",
       "      <td>Yes</td>\n",
       "      <td>Private</td>\n",
       "      <td>Rural</td>\n",
       "      <td>105.92</td>\n",
       "      <td>32.500000</td>\n",
       "      <td>...</td>\n",
       "      <td>0</td>\n",
       "      <td>1</td>\n",
       "      <td>0</td>\n",
       "      <td>0</td>\n",
       "      <td>1</td>\n",
       "      <td>0</td>\n",
       "      <td>0</td>\n",
       "      <td>0</td>\n",
       "      <td>1</td>\n",
       "      <td>0</td>\n",
       "    </tr>\n",
       "    <tr>\n",
       "      <th>3</th>\n",
       "      <td>60182</td>\n",
       "      <td>Female</td>\n",
       "      <td>49.0</td>\n",
       "      <td>0</td>\n",
       "      <td>0</td>\n",
       "      <td>Yes</td>\n",
       "      <td>Private</td>\n",
       "      <td>Urban</td>\n",
       "      <td>171.23</td>\n",
       "      <td>34.400000</td>\n",
       "      <td>...</td>\n",
       "      <td>0</td>\n",
       "      <td>1</td>\n",
       "      <td>0</td>\n",
       "      <td>0</td>\n",
       "      <td>0</td>\n",
       "      <td>1</td>\n",
       "      <td>0</td>\n",
       "      <td>0</td>\n",
       "      <td>0</td>\n",
       "      <td>1</td>\n",
       "    </tr>\n",
       "    <tr>\n",
       "      <th>4</th>\n",
       "      <td>1665</td>\n",
       "      <td>Female</td>\n",
       "      <td>79.0</td>\n",
       "      <td>1</td>\n",
       "      <td>0</td>\n",
       "      <td>Yes</td>\n",
       "      <td>Self-employed</td>\n",
       "      <td>Rural</td>\n",
       "      <td>174.12</td>\n",
       "      <td>24.000000</td>\n",
       "      <td>...</td>\n",
       "      <td>0</td>\n",
       "      <td>0</td>\n",
       "      <td>1</td>\n",
       "      <td>0</td>\n",
       "      <td>1</td>\n",
       "      <td>0</td>\n",
       "      <td>0</td>\n",
       "      <td>0</td>\n",
       "      <td>1</td>\n",
       "      <td>0</td>\n",
       "    </tr>\n",
       "  </tbody>\n",
       "</table>\n",
       "<p>5 rows × 28 columns</p>\n",
       "</div>"
      ],
      "text/plain": [
       "      id  gender   age  hypertension  heart_disease ever_married  \\\n",
       "0   9046    Male  67.0             0              1          Yes   \n",
       "1  51676  Female  61.0             0              0          Yes   \n",
       "2  31112    Male  80.0             0              1          Yes   \n",
       "3  60182  Female  49.0             0              0          Yes   \n",
       "4   1665  Female  79.0             1              0          Yes   \n",
       "\n",
       "       work_type Residence_type  avg_glucose_level        bmi  ...  \\\n",
       "0        Private          Urban             228.69  36.600000  ...   \n",
       "1  Self-employed          Rural             202.21  28.893237  ...   \n",
       "2        Private          Rural             105.92  32.500000  ...   \n",
       "3        Private          Urban             171.23  34.400000  ...   \n",
       "4  Self-employed          Rural             174.12  24.000000  ...   \n",
       "\n",
       "  Never_worked  Private  Self-employed  children  Rural  Urban  \\\n",
       "0            0        1              0         0      0      1   \n",
       "1            0        0              1         0      1      0   \n",
       "2            0        1              0         0      1      0   \n",
       "3            0        1              0         0      0      1   \n",
       "4            0        0              1         0      1      0   \n",
       "\n",
       "   28.893236911794666  formerly smoked  never smoked  smokes  \n",
       "0                   0                1             0       0  \n",
       "1                   0                0             1       0  \n",
       "2                   0                0             1       0  \n",
       "3                   0                0             0       1  \n",
       "4                   0                0             1       0  \n",
       "\n",
       "[5 rows x 28 columns]"
      ]
     },
     "execution_count": 23,
     "metadata": {},
     "output_type": "execute_result"
    }
   ],
   "source": [
    "merged=pd.concat([df, a, b, c, d, e,], axis='columns')\n",
    "merged.head()"
   ]
  },
  {
   "cell_type": "code",
   "execution_count": 24,
   "metadata": {
    "execution": {
     "iopub.execute_input": "2021-03-18T10:33:54.328912Z",
     "iopub.status.busy": "2021-03-18T10:33:54.328363Z",
     "iopub.status.idle": "2021-03-18T10:33:54.347322Z",
     "shell.execute_reply": "2021-03-18T10:33:54.346861Z"
    },
    "papermill": {
     "duration": 0.044246,
     "end_time": "2021-03-18T10:33:54.347457",
     "exception": false,
     "start_time": "2021-03-18T10:33:54.303211",
     "status": "completed"
    },
    "tags": []
   },
   "outputs": [
    {
     "data": {
      "text/html": [
       "<div>\n",
       "<style scoped>\n",
       "    .dataframe tbody tr th:only-of-type {\n",
       "        vertical-align: middle;\n",
       "    }\n",
       "\n",
       "    .dataframe tbody tr th {\n",
       "        vertical-align: top;\n",
       "    }\n",
       "\n",
       "    .dataframe thead th {\n",
       "        text-align: right;\n",
       "    }\n",
       "</style>\n",
       "<table border=\"1\" class=\"dataframe\">\n",
       "  <thead>\n",
       "    <tr style=\"text-align: right;\">\n",
       "      <th></th>\n",
       "      <th>id</th>\n",
       "      <th>age</th>\n",
       "      <th>hypertension</th>\n",
       "      <th>heart_disease</th>\n",
       "      <th>avg_glucose_level</th>\n",
       "      <th>bmi</th>\n",
       "      <th>stroke</th>\n",
       "      <th>Female</th>\n",
       "      <th>Other</th>\n",
       "      <th>No</th>\n",
       "      <th>Govt_job</th>\n",
       "      <th>Never_worked</th>\n",
       "      <th>Self-employed</th>\n",
       "      <th>children</th>\n",
       "      <th>Rural</th>\n",
       "      <th>28.893236911794666</th>\n",
       "      <th>never smoked</th>\n",
       "      <th>smokes</th>\n",
       "    </tr>\n",
       "  </thead>\n",
       "  <tbody>\n",
       "    <tr>\n",
       "      <th>0</th>\n",
       "      <td>9046</td>\n",
       "      <td>67.0</td>\n",
       "      <td>0</td>\n",
       "      <td>1</td>\n",
       "      <td>228.69</td>\n",
       "      <td>36.600000</td>\n",
       "      <td>1</td>\n",
       "      <td>0</td>\n",
       "      <td>0</td>\n",
       "      <td>0</td>\n",
       "      <td>0</td>\n",
       "      <td>0</td>\n",
       "      <td>0</td>\n",
       "      <td>0</td>\n",
       "      <td>0</td>\n",
       "      <td>0</td>\n",
       "      <td>0</td>\n",
       "      <td>0</td>\n",
       "    </tr>\n",
       "    <tr>\n",
       "      <th>1</th>\n",
       "      <td>51676</td>\n",
       "      <td>61.0</td>\n",
       "      <td>0</td>\n",
       "      <td>0</td>\n",
       "      <td>202.21</td>\n",
       "      <td>28.893237</td>\n",
       "      <td>1</td>\n",
       "      <td>1</td>\n",
       "      <td>0</td>\n",
       "      <td>0</td>\n",
       "      <td>0</td>\n",
       "      <td>0</td>\n",
       "      <td>1</td>\n",
       "      <td>0</td>\n",
       "      <td>1</td>\n",
       "      <td>0</td>\n",
       "      <td>1</td>\n",
       "      <td>0</td>\n",
       "    </tr>\n",
       "    <tr>\n",
       "      <th>2</th>\n",
       "      <td>31112</td>\n",
       "      <td>80.0</td>\n",
       "      <td>0</td>\n",
       "      <td>1</td>\n",
       "      <td>105.92</td>\n",
       "      <td>32.500000</td>\n",
       "      <td>1</td>\n",
       "      <td>0</td>\n",
       "      <td>0</td>\n",
       "      <td>0</td>\n",
       "      <td>0</td>\n",
       "      <td>0</td>\n",
       "      <td>0</td>\n",
       "      <td>0</td>\n",
       "      <td>1</td>\n",
       "      <td>0</td>\n",
       "      <td>1</td>\n",
       "      <td>0</td>\n",
       "    </tr>\n",
       "    <tr>\n",
       "      <th>3</th>\n",
       "      <td>60182</td>\n",
       "      <td>49.0</td>\n",
       "      <td>0</td>\n",
       "      <td>0</td>\n",
       "      <td>171.23</td>\n",
       "      <td>34.400000</td>\n",
       "      <td>1</td>\n",
       "      <td>1</td>\n",
       "      <td>0</td>\n",
       "      <td>0</td>\n",
       "      <td>0</td>\n",
       "      <td>0</td>\n",
       "      <td>0</td>\n",
       "      <td>0</td>\n",
       "      <td>0</td>\n",
       "      <td>0</td>\n",
       "      <td>0</td>\n",
       "      <td>1</td>\n",
       "    </tr>\n",
       "    <tr>\n",
       "      <th>4</th>\n",
       "      <td>1665</td>\n",
       "      <td>79.0</td>\n",
       "      <td>1</td>\n",
       "      <td>0</td>\n",
       "      <td>174.12</td>\n",
       "      <td>24.000000</td>\n",
       "      <td>1</td>\n",
       "      <td>1</td>\n",
       "      <td>0</td>\n",
       "      <td>0</td>\n",
       "      <td>0</td>\n",
       "      <td>0</td>\n",
       "      <td>1</td>\n",
       "      <td>0</td>\n",
       "      <td>1</td>\n",
       "      <td>0</td>\n",
       "      <td>1</td>\n",
       "      <td>0</td>\n",
       "    </tr>\n",
       "  </tbody>\n",
       "</table>\n",
       "</div>"
      ],
      "text/plain": [
       "      id   age  hypertension  heart_disease  avg_glucose_level        bmi  \\\n",
       "0   9046  67.0             0              1             228.69  36.600000   \n",
       "1  51676  61.0             0              0             202.21  28.893237   \n",
       "2  31112  80.0             0              1             105.92  32.500000   \n",
       "3  60182  49.0             0              0             171.23  34.400000   \n",
       "4   1665  79.0             1              0             174.12  24.000000   \n",
       "\n",
       "   stroke  Female  Other  No  Govt_job  Never_worked  Self-employed  children  \\\n",
       "0       1       0      0   0         0             0              0         0   \n",
       "1       1       1      0   0         0             0              1         0   \n",
       "2       1       0      0   0         0             0              0         0   \n",
       "3       1       1      0   0         0             0              0         0   \n",
       "4       1       1      0   0         0             0              1         0   \n",
       "\n",
       "   Rural  28.893236911794666  never smoked  smokes  \n",
       "0      0                   0             0       0  \n",
       "1      1                   0             1       0  \n",
       "2      1                   0             1       0  \n",
       "3      0                   0             0       1  \n",
       "4      1                   0             1       0  "
      ]
     },
     "execution_count": 24,
     "metadata": {},
     "output_type": "execute_result"
    }
   ],
   "source": [
    "data=merged.drop(['gender', 'ever_married', 'work_type', 'Residence_type', 'smoking_status', 'Male', 'Yes', 'Private', 'Urban', 'formerly smoked'], axis='columns')\n",
    "data.head()"
   ]
  },
  {
   "cell_type": "code",
   "execution_count": 33,
   "metadata": {},
   "outputs": [],
   "source": [
    "data.drop(['id'],inplace=True,axis=1)"
   ]
  },
  {
   "cell_type": "code",
   "execution_count": 25,
   "metadata": {
    "execution": {
     "iopub.execute_input": "2021-03-18T10:33:54.398284Z",
     "iopub.status.busy": "2021-03-18T10:33:54.397710Z",
     "iopub.status.idle": "2021-03-18T10:33:54.409887Z",
     "shell.execute_reply": "2021-03-18T10:33:54.410364Z"
    },
    "papermill": {
     "duration": 0.039774,
     "end_time": "2021-03-18T10:33:54.410536",
     "exception": false,
     "start_time": "2021-03-18T10:33:54.370762",
     "status": "completed"
    },
    "tags": []
   },
   "outputs": [],
   "source": [
    "dff=data.apply(le.fit_transform)"
   ]
  },
  {
   "cell_type": "code",
   "execution_count": 26,
   "metadata": {},
   "outputs": [],
   "source": [
    "dff.drop(28.893236911794666, axis=1, inplace=True)\n",
    "\n",
    "\n",
    "\n",
    "\n"
   ]
  },
  {
   "cell_type": "code",
   "execution_count": 27,
   "metadata": {
    "execution": {
     "iopub.execute_input": "2021-03-18T10:33:54.460094Z",
     "iopub.status.busy": "2021-03-18T10:33:54.459552Z",
     "iopub.status.idle": "2021-03-18T10:33:54.464224Z",
     "shell.execute_reply": "2021-03-18T10:33:54.464718Z"
    },
    "papermill": {
     "duration": 0.030988,
     "end_time": "2021-03-18T10:33:54.464868",
     "exception": false,
     "start_time": "2021-03-18T10:33:54.433880",
     "status": "completed"
    },
    "tags": []
   },
   "outputs": [],
   "source": [
    "x=dff.drop('stroke', axis='columns')\n",
    "y=dff.stroke"
   ]
  },
  {
   "cell_type": "code",
   "execution_count": 28,
   "metadata": {
    "execution": {
     "iopub.execute_input": "2021-03-18T10:33:54.515014Z",
     "iopub.status.busy": "2021-03-18T10:33:54.514445Z",
     "iopub.status.idle": "2021-03-18T10:33:54.587882Z",
     "shell.execute_reply": "2021-03-18T10:33:54.588375Z"
    },
    "papermill": {
     "duration": 0.099712,
     "end_time": "2021-03-18T10:33:54.588544",
     "exception": false,
     "start_time": "2021-03-18T10:33:54.488832",
     "status": "completed"
    },
    "tags": []
   },
   "outputs": [],
   "source": [
    "from sklearn.model_selection import train_test_split"
   ]
  },
  {
   "cell_type": "code",
   "execution_count": 29,
   "metadata": {
    "execution": {
     "iopub.execute_input": "2021-03-18T10:33:54.638675Z",
     "iopub.status.busy": "2021-03-18T10:33:54.638061Z",
     "iopub.status.idle": "2021-03-18T10:33:54.643706Z",
     "shell.execute_reply": "2021-03-18T10:33:54.644288Z"
    },
    "papermill": {
     "duration": 0.032125,
     "end_time": "2021-03-18T10:33:54.644468",
     "exception": false,
     "start_time": "2021-03-18T10:33:54.612343",
     "status": "completed"
    },
    "tags": []
   },
   "outputs": [],
   "source": [
    "X_train, X_test, y_train, y_test=train_test_split(x, y, test_size=0.2)"
   ]
  },
  {
   "cell_type": "markdown",
   "metadata": {},
   "source": [
    "# prediction avec pycaret"
   ]
  },
  {
   "cell_type": "code",
   "execution_count": 32,
   "metadata": {},
   "outputs": [
    {
     "data": {
      "text/html": [
       "<style type=\"text/css\">\n",
       "#T_754b5_row8_col1 {\n",
       "  background-color: lightgreen;\n",
       "}\n",
       "</style>\n",
       "<table id=\"T_754b5\">\n",
       "  <thead>\n",
       "    <tr>\n",
       "      <th class=\"blank level0\" >&nbsp;</th>\n",
       "      <th id=\"T_754b5_level0_col0\" class=\"col_heading level0 col0\" >Description</th>\n",
       "      <th id=\"T_754b5_level0_col1\" class=\"col_heading level0 col1\" >Value</th>\n",
       "    </tr>\n",
       "  </thead>\n",
       "  <tbody>\n",
       "    <tr>\n",
       "      <th id=\"T_754b5_level0_row0\" class=\"row_heading level0 row0\" >0</th>\n",
       "      <td id=\"T_754b5_row0_col0\" class=\"data row0 col0\" >Session id</td>\n",
       "      <td id=\"T_754b5_row0_col1\" class=\"data row0 col1\" >7655</td>\n",
       "    </tr>\n",
       "    <tr>\n",
       "      <th id=\"T_754b5_level0_row1\" class=\"row_heading level0 row1\" >1</th>\n",
       "      <td id=\"T_754b5_row1_col0\" class=\"data row1 col0\" >Target</td>\n",
       "      <td id=\"T_754b5_row1_col1\" class=\"data row1 col1\" >stroke</td>\n",
       "    </tr>\n",
       "    <tr>\n",
       "      <th id=\"T_754b5_level0_row2\" class=\"row_heading level0 row2\" >2</th>\n",
       "      <td id=\"T_754b5_row2_col0\" class=\"data row2 col0\" >Target type</td>\n",
       "      <td id=\"T_754b5_row2_col1\" class=\"data row2 col1\" >Regression</td>\n",
       "    </tr>\n",
       "    <tr>\n",
       "      <th id=\"T_754b5_level0_row3\" class=\"row_heading level0 row3\" >3</th>\n",
       "      <td id=\"T_754b5_row3_col0\" class=\"data row3 col0\" >Original data shape</td>\n",
       "      <td id=\"T_754b5_row3_col1\" class=\"data row3 col1\" >(5110, 17)</td>\n",
       "    </tr>\n",
       "    <tr>\n",
       "      <th id=\"T_754b5_level0_row4\" class=\"row_heading level0 row4\" >4</th>\n",
       "      <td id=\"T_754b5_row4_col0\" class=\"data row4 col0\" >Transformed data shape</td>\n",
       "      <td id=\"T_754b5_row4_col1\" class=\"data row4 col1\" >(5110, 17)</td>\n",
       "    </tr>\n",
       "    <tr>\n",
       "      <th id=\"T_754b5_level0_row5\" class=\"row_heading level0 row5\" >5</th>\n",
       "      <td id=\"T_754b5_row5_col0\" class=\"data row5 col0\" >Transformed train set shape</td>\n",
       "      <td id=\"T_754b5_row5_col1\" class=\"data row5 col1\" >(3577, 17)</td>\n",
       "    </tr>\n",
       "    <tr>\n",
       "      <th id=\"T_754b5_level0_row6\" class=\"row_heading level0 row6\" >6</th>\n",
       "      <td id=\"T_754b5_row6_col0\" class=\"data row6 col0\" >Transformed test set shape</td>\n",
       "      <td id=\"T_754b5_row6_col1\" class=\"data row6 col1\" >(1533, 17)</td>\n",
       "    </tr>\n",
       "    <tr>\n",
       "      <th id=\"T_754b5_level0_row7\" class=\"row_heading level0 row7\" >7</th>\n",
       "      <td id=\"T_754b5_row7_col0\" class=\"data row7 col0\" >Numeric features</td>\n",
       "      <td id=\"T_754b5_row7_col1\" class=\"data row7 col1\" >16</td>\n",
       "    </tr>\n",
       "    <tr>\n",
       "      <th id=\"T_754b5_level0_row8\" class=\"row_heading level0 row8\" >8</th>\n",
       "      <td id=\"T_754b5_row8_col0\" class=\"data row8 col0\" >Preprocess</td>\n",
       "      <td id=\"T_754b5_row8_col1\" class=\"data row8 col1\" >True</td>\n",
       "    </tr>\n",
       "    <tr>\n",
       "      <th id=\"T_754b5_level0_row9\" class=\"row_heading level0 row9\" >9</th>\n",
       "      <td id=\"T_754b5_row9_col0\" class=\"data row9 col0\" >Imputation type</td>\n",
       "      <td id=\"T_754b5_row9_col1\" class=\"data row9 col1\" >simple</td>\n",
       "    </tr>\n",
       "    <tr>\n",
       "      <th id=\"T_754b5_level0_row10\" class=\"row_heading level0 row10\" >10</th>\n",
       "      <td id=\"T_754b5_row10_col0\" class=\"data row10 col0\" >Numeric imputation</td>\n",
       "      <td id=\"T_754b5_row10_col1\" class=\"data row10 col1\" >mean</td>\n",
       "    </tr>\n",
       "    <tr>\n",
       "      <th id=\"T_754b5_level0_row11\" class=\"row_heading level0 row11\" >11</th>\n",
       "      <td id=\"T_754b5_row11_col0\" class=\"data row11 col0\" >Categorical imputation</td>\n",
       "      <td id=\"T_754b5_row11_col1\" class=\"data row11 col1\" >mode</td>\n",
       "    </tr>\n",
       "    <tr>\n",
       "      <th id=\"T_754b5_level0_row12\" class=\"row_heading level0 row12\" >12</th>\n",
       "      <td id=\"T_754b5_row12_col0\" class=\"data row12 col0\" >Fold Generator</td>\n",
       "      <td id=\"T_754b5_row12_col1\" class=\"data row12 col1\" >KFold</td>\n",
       "    </tr>\n",
       "    <tr>\n",
       "      <th id=\"T_754b5_level0_row13\" class=\"row_heading level0 row13\" >13</th>\n",
       "      <td id=\"T_754b5_row13_col0\" class=\"data row13 col0\" >Fold Number</td>\n",
       "      <td id=\"T_754b5_row13_col1\" class=\"data row13 col1\" >10</td>\n",
       "    </tr>\n",
       "    <tr>\n",
       "      <th id=\"T_754b5_level0_row14\" class=\"row_heading level0 row14\" >14</th>\n",
       "      <td id=\"T_754b5_row14_col0\" class=\"data row14 col0\" >CPU Jobs</td>\n",
       "      <td id=\"T_754b5_row14_col1\" class=\"data row14 col1\" >-1</td>\n",
       "    </tr>\n",
       "    <tr>\n",
       "      <th id=\"T_754b5_level0_row15\" class=\"row_heading level0 row15\" >15</th>\n",
       "      <td id=\"T_754b5_row15_col0\" class=\"data row15 col0\" >Use GPU</td>\n",
       "      <td id=\"T_754b5_row15_col1\" class=\"data row15 col1\" >False</td>\n",
       "    </tr>\n",
       "    <tr>\n",
       "      <th id=\"T_754b5_level0_row16\" class=\"row_heading level0 row16\" >16</th>\n",
       "      <td id=\"T_754b5_row16_col0\" class=\"data row16 col0\" >Log Experiment</td>\n",
       "      <td id=\"T_754b5_row16_col1\" class=\"data row16 col1\" >False</td>\n",
       "    </tr>\n",
       "    <tr>\n",
       "      <th id=\"T_754b5_level0_row17\" class=\"row_heading level0 row17\" >17</th>\n",
       "      <td id=\"T_754b5_row17_col0\" class=\"data row17 col0\" >Experiment Name</td>\n",
       "      <td id=\"T_754b5_row17_col1\" class=\"data row17 col1\" >reg-default-name</td>\n",
       "    </tr>\n",
       "    <tr>\n",
       "      <th id=\"T_754b5_level0_row18\" class=\"row_heading level0 row18\" >18</th>\n",
       "      <td id=\"T_754b5_row18_col0\" class=\"data row18 col0\" >USI</td>\n",
       "      <td id=\"T_754b5_row18_col1\" class=\"data row18 col1\" >b2be</td>\n",
       "    </tr>\n",
       "  </tbody>\n",
       "</table>\n"
      ],
      "text/plain": [
       "<pandas.io.formats.style.Styler at 0x241ae6269d0>"
      ]
     },
     "metadata": {},
     "output_type": "display_data"
    },
    {
     "data": {
      "text/html": [],
      "text/plain": [
       "<IPython.core.display.HTML object>"
      ]
     },
     "metadata": {},
     "output_type": "display_data"
    },
    {
     "data": {
      "text/html": [
       "<style type=\"text/css\">\n",
       "#T_0e818 th {\n",
       "  text-align: left;\n",
       "}\n",
       "#T_0e818_row0_col0, #T_0e818_row0_col2, #T_0e818_row0_col3, #T_0e818_row0_col4, #T_0e818_row0_col5, #T_0e818_row0_col6, #T_0e818_row1_col0, #T_0e818_row1_col1, #T_0e818_row1_col2, #T_0e818_row1_col3, #T_0e818_row1_col4, #T_0e818_row1_col5, #T_0e818_row1_col6, #T_0e818_row2_col0, #T_0e818_row2_col1, #T_0e818_row2_col6, #T_0e818_row3_col0, #T_0e818_row3_col1, #T_0e818_row3_col2, #T_0e818_row3_col3, #T_0e818_row3_col4, #T_0e818_row3_col5 {\n",
       "  text-align: left;\n",
       "}\n",
       "#T_0e818_row0_col1, #T_0e818_row2_col2, #T_0e818_row2_col3, #T_0e818_row2_col4, #T_0e818_row2_col5, #T_0e818_row3_col6 {\n",
       "  text-align: left;\n",
       "  background-color: yellow;\n",
       "}\n",
       "#T_0e818_row0_col7, #T_0e818_row2_col7 {\n",
       "  text-align: left;\n",
       "  background-color: yellow;\n",
       "  background-color: lightgrey;\n",
       "}\n",
       "#T_0e818_row1_col7, #T_0e818_row3_col7 {\n",
       "  text-align: left;\n",
       "  background-color: lightgrey;\n",
       "}\n",
       "</style>\n",
       "<table id=\"T_0e818\">\n",
       "  <thead>\n",
       "    <tr>\n",
       "      <th class=\"blank level0\" >&nbsp;</th>\n",
       "      <th id=\"T_0e818_level0_col0\" class=\"col_heading level0 col0\" >Model</th>\n",
       "      <th id=\"T_0e818_level0_col1\" class=\"col_heading level0 col1\" >MAE</th>\n",
       "      <th id=\"T_0e818_level0_col2\" class=\"col_heading level0 col2\" >MSE</th>\n",
       "      <th id=\"T_0e818_level0_col3\" class=\"col_heading level0 col3\" >RMSE</th>\n",
       "      <th id=\"T_0e818_level0_col4\" class=\"col_heading level0 col4\" >R2</th>\n",
       "      <th id=\"T_0e818_level0_col5\" class=\"col_heading level0 col5\" >RMSLE</th>\n",
       "      <th id=\"T_0e818_level0_col6\" class=\"col_heading level0 col6\" >MAPE</th>\n",
       "      <th id=\"T_0e818_level0_col7\" class=\"col_heading level0 col7\" >TT (Sec)</th>\n",
       "    </tr>\n",
       "  </thead>\n",
       "  <tbody>\n",
       "    <tr>\n",
       "      <th id=\"T_0e818_level0_row0\" class=\"row_heading level0 row0\" >dt</th>\n",
       "      <td id=\"T_0e818_row0_col0\" class=\"data row0 col0\" >Decision Tree Regressor</td>\n",
       "      <td id=\"T_0e818_row0_col1\" class=\"data row0 col1\" >0.0836</td>\n",
       "      <td id=\"T_0e818_row0_col2\" class=\"data row0 col2\" >0.0836</td>\n",
       "      <td id=\"T_0e818_row0_col3\" class=\"data row0 col3\" >0.2882</td>\n",
       "      <td id=\"T_0e818_row0_col4\" class=\"data row0 col4\" >-0.9078</td>\n",
       "      <td id=\"T_0e818_row0_col5\" class=\"data row0 col5\" >0.1998</td>\n",
       "      <td id=\"T_0e818_row0_col6\" class=\"data row0 col6\" >0.8207</td>\n",
       "      <td id=\"T_0e818_row0_col7\" class=\"data row0 col7\" >0.0140</td>\n",
       "    </tr>\n",
       "    <tr>\n",
       "      <th id=\"T_0e818_level0_row1\" class=\"row_heading level0 row1\" >rf</th>\n",
       "      <td id=\"T_0e818_row1_col0\" class=\"data row1 col0\" >Random Forest Regressor</td>\n",
       "      <td id=\"T_0e818_row1_col1\" class=\"data row1 col1\" >0.0890</td>\n",
       "      <td id=\"T_0e818_row1_col2\" class=\"data row1 col2\" >0.0446</td>\n",
       "      <td id=\"T_0e818_row1_col3\" class=\"data row1 col3\" >0.2104</td>\n",
       "      <td id=\"T_0e818_row1_col4\" class=\"data row1 col4\" >-0.0057</td>\n",
       "      <td id=\"T_0e818_row1_col5\" class=\"data row1 col5\" >0.1511</td>\n",
       "      <td id=\"T_0e818_row1_col6\" class=\"data row1 col6\" >0.8475</td>\n",
       "      <td id=\"T_0e818_row1_col7\" class=\"data row1 col7\" >0.4240</td>\n",
       "    </tr>\n",
       "    <tr>\n",
       "      <th id=\"T_0e818_level0_row2\" class=\"row_heading level0 row2\" >lr</th>\n",
       "      <td id=\"T_0e818_row2_col0\" class=\"data row2 col0\" >Linear Regression</td>\n",
       "      <td id=\"T_0e818_row2_col1\" class=\"data row2 col1\" >0.0916</td>\n",
       "      <td id=\"T_0e818_row2_col2\" class=\"data row2 col2\" >0.0418</td>\n",
       "      <td id=\"T_0e818_row2_col3\" class=\"data row2 col3\" >0.2036</td>\n",
       "      <td id=\"T_0e818_row2_col4\" class=\"data row2 col4\" >0.0584</td>\n",
       "      <td id=\"T_0e818_row2_col5\" class=\"data row2 col5\" >0.1427</td>\n",
       "      <td id=\"T_0e818_row2_col6\" class=\"data row2 col6\" >0.8856</td>\n",
       "      <td id=\"T_0e818_row2_col7\" class=\"data row2 col7\" >0.0140</td>\n",
       "    </tr>\n",
       "    <tr>\n",
       "      <th id=\"T_0e818_level0_row3\" class=\"row_heading level0 row3\" >ada</th>\n",
       "      <td id=\"T_0e818_row3_col0\" class=\"data row3 col0\" >AdaBoost Regressor</td>\n",
       "      <td id=\"T_0e818_row3_col1\" class=\"data row3 col1\" >0.1399</td>\n",
       "      <td id=\"T_0e818_row3_col2\" class=\"data row3 col2\" >0.0596</td>\n",
       "      <td id=\"T_0e818_row3_col3\" class=\"data row3 col3\" >0.2414</td>\n",
       "      <td id=\"T_0e818_row3_col4\" class=\"data row3 col4\" >-0.3346</td>\n",
       "      <td id=\"T_0e818_row3_col5\" class=\"data row3 col5\" >0.1837</td>\n",
       "      <td id=\"T_0e818_row3_col6\" class=\"data row3 col6\" >0.7619</td>\n",
       "      <td id=\"T_0e818_row3_col7\" class=\"data row3 col7\" >0.0340</td>\n",
       "    </tr>\n",
       "  </tbody>\n",
       "</table>\n"
      ],
      "text/plain": [
       "<pandas.io.formats.style.Styler at 0x241ae1bda10>"
      ]
     },
     "metadata": {},
     "output_type": "display_data"
    },
    {
     "data": {
      "text/html": [],
      "text/plain": [
       "<IPython.core.display.HTML object>"
      ]
     },
     "metadata": {},
     "output_type": "display_data"
    },
    {
     "name": "stdout",
     "output_type": "stream",
     "text": [
      "DecisionTreeRegressor(ccp_alpha=0.0, criterion='squared_error', max_depth=None,\n",
      "                      max_features=None, max_leaf_nodes=None,\n",
      "                      min_impurity_decrease=0.0, min_samples_leaf=1,\n",
      "                      min_samples_split=2, min_weight_fraction_leaf=0.0,\n",
      "                      random_state=7655, splitter='best')\n"
     ]
    },
    {
     "data": {
      "application/vnd.jupyter.widget-view+json": {
       "model_id": "8c1ae2b0dfef42459d021422f7ecf9c7",
       "version_major": 2,
       "version_minor": 0
      },
      "text/plain": [
       "interactive(children=(ToggleButtons(description='Plot Type:', icons=('',), options=(('Pipeline Plot', 'pipelin…"
      ]
     },
     "metadata": {},
     "output_type": "display_data"
    }
   ],
   "source": [
    "from interpret import show\n",
    "from interpret.data import Marginal\n",
    "from interpret.glassbox import ExplainableBoostingClassifier\n",
    "from interpret.blackbox import LimeTabular, ShapKernel, MorrisSensitivity, PartialDependence\n",
    "import lime\n",
    "import lime.lime_tabular\n",
    "from interpret.perf import ROC\n",
    "# Charger le jeu de données\n",
    "import pandas as pd\n",
    "from pycaret.datasets import get_data\n",
    "\n",
    "from pycaret.regression import *\n",
    "\n",
    "\n",
    "# Initialiser l'environnement PyCaret\n",
    "clf1 = setup(data=dff, target='stroke')\n",
    "\n",
    "# Créer et comparer plusieurs modèles\n",
    "models_to_compare = ['lr', 'dt', 'rf', 'ada', 'knn']\n",
    "\n",
    "# Sélectionner les meilleurs modèles en fonction de la métrique MAE\n",
    "best_model = compare_models(include=models_to_compare, sort='MAE')\n",
    "\n",
    "# Afficher le modèle sélectionné\n",
    "print(best_model)\n",
    "\n",
    "# Évaluer le modèle sur l'ensemble de test\n",
    "evaluate_model(best_model)\n"
   ]
  },
  {
   "cell_type": "code",
   "execution_count": 34,
   "metadata": {},
   "outputs": [
    {
     "data": {
      "text/html": [],
      "text/plain": [
       "<IPython.core.display.HTML object>"
      ]
     },
     "metadata": {},
     "output_type": "display_data"
    },
    {
     "data": {
      "text/html": [
       "<style type=\"text/css\">\n",
       "#T_6a82d_row10_col0, #T_6a82d_row10_col1, #T_6a82d_row10_col2, #T_6a82d_row10_col3, #T_6a82d_row10_col4, #T_6a82d_row10_col5 {\n",
       "  background: yellow;\n",
       "}\n",
       "</style>\n",
       "<table id=\"T_6a82d\">\n",
       "  <thead>\n",
       "    <tr>\n",
       "      <th class=\"blank level0\" >&nbsp;</th>\n",
       "      <th id=\"T_6a82d_level0_col0\" class=\"col_heading level0 col0\" >MAE</th>\n",
       "      <th id=\"T_6a82d_level0_col1\" class=\"col_heading level0 col1\" >MSE</th>\n",
       "      <th id=\"T_6a82d_level0_col2\" class=\"col_heading level0 col2\" >RMSE</th>\n",
       "      <th id=\"T_6a82d_level0_col3\" class=\"col_heading level0 col3\" >R2</th>\n",
       "      <th id=\"T_6a82d_level0_col4\" class=\"col_heading level0 col4\" >RMSLE</th>\n",
       "      <th id=\"T_6a82d_level0_col5\" class=\"col_heading level0 col5\" >MAPE</th>\n",
       "    </tr>\n",
       "    <tr>\n",
       "      <th class=\"index_name level0\" >Fold</th>\n",
       "      <th class=\"blank col0\" >&nbsp;</th>\n",
       "      <th class=\"blank col1\" >&nbsp;</th>\n",
       "      <th class=\"blank col2\" >&nbsp;</th>\n",
       "      <th class=\"blank col3\" >&nbsp;</th>\n",
       "      <th class=\"blank col4\" >&nbsp;</th>\n",
       "      <th class=\"blank col5\" >&nbsp;</th>\n",
       "    </tr>\n",
       "  </thead>\n",
       "  <tbody>\n",
       "    <tr>\n",
       "      <th id=\"T_6a82d_level0_row0\" class=\"row_heading level0 row0\" >0</th>\n",
       "      <td id=\"T_6a82d_row0_col0\" class=\"data row0 col0\" >0.0813</td>\n",
       "      <td id=\"T_6a82d_row0_col1\" class=\"data row0 col1\" >0.0317</td>\n",
       "      <td id=\"T_6a82d_row0_col2\" class=\"data row0 col2\" >0.1780</td>\n",
       "      <td id=\"T_6a82d_row0_col3\" class=\"data row0 col3\" >0.0222</td>\n",
       "      <td id=\"T_6a82d_row0_col4\" class=\"data row0 col4\" >0.1263</td>\n",
       "      <td id=\"T_6a82d_row0_col5\" class=\"data row0 col5\" >0.8887</td>\n",
       "    </tr>\n",
       "    <tr>\n",
       "      <th id=\"T_6a82d_level0_row1\" class=\"row_heading level0 row1\" >1</th>\n",
       "      <td id=\"T_6a82d_row1_col0\" class=\"data row1 col0\" >0.0957</td>\n",
       "      <td id=\"T_6a82d_row1_col1\" class=\"data row1 col1\" >0.0466</td>\n",
       "      <td id=\"T_6a82d_row1_col2\" class=\"data row1 col2\" >0.2158</td>\n",
       "      <td id=\"T_6a82d_row1_col3\" class=\"data row1 col3\" >0.0730</td>\n",
       "      <td id=\"T_6a82d_row1_col4\" class=\"data row1 col4\" >0.1503</td>\n",
       "      <td id=\"T_6a82d_row1_col5\" class=\"data row1 col5\" >0.8849</td>\n",
       "    </tr>\n",
       "    <tr>\n",
       "      <th id=\"T_6a82d_level0_row2\" class=\"row_heading level0 row2\" >2</th>\n",
       "      <td id=\"T_6a82d_row2_col0\" class=\"data row2 col0\" >0.0913</td>\n",
       "      <td id=\"T_6a82d_row2_col1\" class=\"data row2 col1\" >0.0413</td>\n",
       "      <td id=\"T_6a82d_row2_col2\" class=\"data row2 col2\" >0.2032</td>\n",
       "      <td id=\"T_6a82d_row2_col3\" class=\"data row2 col3\" >0.1350</td>\n",
       "      <td id=\"T_6a82d_row2_col4\" class=\"data row2 col4\" >0.1405</td>\n",
       "      <td id=\"T_6a82d_row2_col5\" class=\"data row2 col5\" >0.8555</td>\n",
       "    </tr>\n",
       "    <tr>\n",
       "      <th id=\"T_6a82d_level0_row3\" class=\"row_heading level0 row3\" >3</th>\n",
       "      <td id=\"T_6a82d_row3_col0\" class=\"data row3 col0\" >0.0814</td>\n",
       "      <td id=\"T_6a82d_row3_col1\" class=\"data row3 col1\" >0.0338</td>\n",
       "      <td id=\"T_6a82d_row3_col2\" class=\"data row3 col2\" >0.1838</td>\n",
       "      <td id=\"T_6a82d_row3_col3\" class=\"data row3 col3\" >0.0348</td>\n",
       "      <td id=\"T_6a82d_row3_col4\" class=\"data row3 col4\" >0.1303</td>\n",
       "      <td id=\"T_6a82d_row3_col5\" class=\"data row3 col5\" >0.8998</td>\n",
       "    </tr>\n",
       "    <tr>\n",
       "      <th id=\"T_6a82d_level0_row4\" class=\"row_heading level0 row4\" >4</th>\n",
       "      <td id=\"T_6a82d_row4_col0\" class=\"data row4 col0\" >0.1025</td>\n",
       "      <td id=\"T_6a82d_row4_col1\" class=\"data row4 col1\" >0.0484</td>\n",
       "      <td id=\"T_6a82d_row4_col2\" class=\"data row4 col2\" >0.2200</td>\n",
       "      <td id=\"T_6a82d_row4_col3\" class=\"data row4 col3\" >0.0824</td>\n",
       "      <td id=\"T_6a82d_row4_col4\" class=\"data row4 col4\" >0.1535</td>\n",
       "      <td id=\"T_6a82d_row4_col5\" class=\"data row4 col5\" >0.8736</td>\n",
       "    </tr>\n",
       "    <tr>\n",
       "      <th id=\"T_6a82d_level0_row5\" class=\"row_heading level0 row5\" >5</th>\n",
       "      <td id=\"T_6a82d_row5_col0\" class=\"data row5 col0\" >0.0861</td>\n",
       "      <td id=\"T_6a82d_row5_col1\" class=\"data row5 col1\" >0.0360</td>\n",
       "      <td id=\"T_6a82d_row5_col2\" class=\"data row5 col2\" >0.1898</td>\n",
       "      <td id=\"T_6a82d_row5_col3\" class=\"data row5 col3\" >0.0413</td>\n",
       "      <td id=\"T_6a82d_row5_col4\" class=\"data row5 col4\" >0.1345</td>\n",
       "      <td id=\"T_6a82d_row5_col5\" class=\"data row5 col5\" >0.8911</td>\n",
       "    </tr>\n",
       "    <tr>\n",
       "      <th id=\"T_6a82d_level0_row6\" class=\"row_heading level0 row6\" >6</th>\n",
       "      <td id=\"T_6a82d_row6_col0\" class=\"data row6 col0\" >0.0958</td>\n",
       "      <td id=\"T_6a82d_row6_col1\" class=\"data row6 col1\" >0.0455</td>\n",
       "      <td id=\"T_6a82d_row6_col2\" class=\"data row6 col2\" >0.2134</td>\n",
       "      <td id=\"T_6a82d_row6_col3\" class=\"data row6 col3\" >0.0465</td>\n",
       "      <td id=\"T_6a82d_row6_col4\" class=\"data row6 col4\" >0.1496</td>\n",
       "      <td id=\"T_6a82d_row6_col5\" class=\"data row6 col5\" >0.8898</td>\n",
       "    </tr>\n",
       "    <tr>\n",
       "      <th id=\"T_6a82d_level0_row7\" class=\"row_heading level0 row7\" >7</th>\n",
       "      <td id=\"T_6a82d_row7_col0\" class=\"data row7 col0\" >0.0817</td>\n",
       "      <td id=\"T_6a82d_row7_col1\" class=\"data row7 col1\" >0.0346</td>\n",
       "      <td id=\"T_6a82d_row7_col2\" class=\"data row7 col2\" >0.1860</td>\n",
       "      <td id=\"T_6a82d_row7_col3\" class=\"data row7 col3\" >0.0136</td>\n",
       "      <td id=\"T_6a82d_row7_col4\" class=\"data row7 col4\" >0.1325</td>\n",
       "      <td id=\"T_6a82d_row7_col5\" class=\"data row7 col5\" >0.9021</td>\n",
       "    </tr>\n",
       "    <tr>\n",
       "      <th id=\"T_6a82d_level0_row8\" class=\"row_heading level0 row8\" >8</th>\n",
       "      <td id=\"T_6a82d_row8_col0\" class=\"data row8 col0\" >0.0935</td>\n",
       "      <td id=\"T_6a82d_row8_col1\" class=\"data row8 col1\" >0.0410</td>\n",
       "      <td id=\"T_6a82d_row8_col2\" class=\"data row8 col2\" >0.2024</td>\n",
       "      <td id=\"T_6a82d_row8_col3\" class=\"data row8 col3\" >0.0432</td>\n",
       "      <td id=\"T_6a82d_row8_col4\" class=\"data row8 col4\" >0.1433</td>\n",
       "      <td id=\"T_6a82d_row8_col5\" class=\"data row8 col5\" >0.8844</td>\n",
       "    </tr>\n",
       "    <tr>\n",
       "      <th id=\"T_6a82d_level0_row9\" class=\"row_heading level0 row9\" >9</th>\n",
       "      <td id=\"T_6a82d_row9_col0\" class=\"data row9 col0\" >0.1063</td>\n",
       "      <td id=\"T_6a82d_row9_col1\" class=\"data row9 col1\" >0.0591</td>\n",
       "      <td id=\"T_6a82d_row9_col2\" class=\"data row9 col2\" >0.2431</td>\n",
       "      <td id=\"T_6a82d_row9_col3\" class=\"data row9 col3\" >0.0923</td>\n",
       "      <td id=\"T_6a82d_row9_col4\" class=\"data row9 col4\" >0.1666</td>\n",
       "      <td id=\"T_6a82d_row9_col5\" class=\"data row9 col5\" >0.8865</td>\n",
       "    </tr>\n",
       "    <tr>\n",
       "      <th id=\"T_6a82d_level0_row10\" class=\"row_heading level0 row10\" >Mean</th>\n",
       "      <td id=\"T_6a82d_row10_col0\" class=\"data row10 col0\" >0.0916</td>\n",
       "      <td id=\"T_6a82d_row10_col1\" class=\"data row10 col1\" >0.0418</td>\n",
       "      <td id=\"T_6a82d_row10_col2\" class=\"data row10 col2\" >0.2036</td>\n",
       "      <td id=\"T_6a82d_row10_col3\" class=\"data row10 col3\" >0.0584</td>\n",
       "      <td id=\"T_6a82d_row10_col4\" class=\"data row10 col4\" >0.1427</td>\n",
       "      <td id=\"T_6a82d_row10_col5\" class=\"data row10 col5\" >0.8856</td>\n",
       "    </tr>\n",
       "    <tr>\n",
       "      <th id=\"T_6a82d_level0_row11\" class=\"row_heading level0 row11\" >Std</th>\n",
       "      <td id=\"T_6a82d_row11_col0\" class=\"data row11 col0\" >0.0084</td>\n",
       "      <td id=\"T_6a82d_row11_col1\" class=\"data row11 col1\" >0.0080</td>\n",
       "      <td id=\"T_6a82d_row11_col2\" class=\"data row11 col2\" >0.0190</td>\n",
       "      <td id=\"T_6a82d_row11_col3\" class=\"data row11 col3\" >0.0351</td>\n",
       "      <td id=\"T_6a82d_row11_col4\" class=\"data row11 col4\" >0.0118</td>\n",
       "      <td id=\"T_6a82d_row11_col5\" class=\"data row11 col5\" >0.0126</td>\n",
       "    </tr>\n",
       "  </tbody>\n",
       "</table>\n"
      ],
      "text/plain": [
       "<pandas.io.formats.style.Styler at 0x241afe4cfd0>"
      ]
     },
     "metadata": {},
     "output_type": "display_data"
    },
    {
     "data": {
      "text/html": [],
      "text/plain": [
       "<IPython.core.display.HTML object>"
      ]
     },
     "metadata": {},
     "output_type": "display_data"
    },
    {
     "data": {
      "text/html": [],
      "text/plain": [
       "<IPython.core.display.HTML object>"
      ]
     },
     "metadata": {},
     "output_type": "display_data"
    },
    {
     "data": {
      "text/html": [
       "<style type=\"text/css\">\n",
       "#T_a92ef_row10_col0, #T_a92ef_row10_col1, #T_a92ef_row10_col2, #T_a92ef_row10_col3, #T_a92ef_row10_col4, #T_a92ef_row10_col5 {\n",
       "  background: yellow;\n",
       "}\n",
       "</style>\n",
       "<table id=\"T_a92ef\">\n",
       "  <thead>\n",
       "    <tr>\n",
       "      <th class=\"blank level0\" >&nbsp;</th>\n",
       "      <th id=\"T_a92ef_level0_col0\" class=\"col_heading level0 col0\" >MAE</th>\n",
       "      <th id=\"T_a92ef_level0_col1\" class=\"col_heading level0 col1\" >MSE</th>\n",
       "      <th id=\"T_a92ef_level0_col2\" class=\"col_heading level0 col2\" >RMSE</th>\n",
       "      <th id=\"T_a92ef_level0_col3\" class=\"col_heading level0 col3\" >R2</th>\n",
       "      <th id=\"T_a92ef_level0_col4\" class=\"col_heading level0 col4\" >RMSLE</th>\n",
       "      <th id=\"T_a92ef_level0_col5\" class=\"col_heading level0 col5\" >MAPE</th>\n",
       "    </tr>\n",
       "    <tr>\n",
       "      <th class=\"index_name level0\" >Fold</th>\n",
       "      <th class=\"blank col0\" >&nbsp;</th>\n",
       "      <th class=\"blank col1\" >&nbsp;</th>\n",
       "      <th class=\"blank col2\" >&nbsp;</th>\n",
       "      <th class=\"blank col3\" >&nbsp;</th>\n",
       "      <th class=\"blank col4\" >&nbsp;</th>\n",
       "      <th class=\"blank col5\" >&nbsp;</th>\n",
       "    </tr>\n",
       "  </thead>\n",
       "  <tbody>\n",
       "    <tr>\n",
       "      <th id=\"T_a92ef_level0_row0\" class=\"row_heading level0 row0\" >0</th>\n",
       "      <td id=\"T_a92ef_row0_col0\" class=\"data row0 col0\" >0.0670</td>\n",
       "      <td id=\"T_a92ef_row0_col1\" class=\"data row0 col1\" >0.0670</td>\n",
       "      <td id=\"T_a92ef_row0_col2\" class=\"data row0 col2\" >0.2589</td>\n",
       "      <td id=\"T_a92ef_row0_col3\" class=\"data row0 col3\" >-1.0694</td>\n",
       "      <td id=\"T_a92ef_row0_col4\" class=\"data row0 col4\" >0.1795</td>\n",
       "      <td id=\"T_a92ef_row0_col5\" class=\"data row0 col5\" >0.9167</td>\n",
       "    </tr>\n",
       "    <tr>\n",
       "      <th id=\"T_a92ef_level0_row1\" class=\"row_heading level0 row1\" >1</th>\n",
       "      <td id=\"T_a92ef_row1_col0\" class=\"data row1 col0\" >0.0950</td>\n",
       "      <td id=\"T_a92ef_row1_col1\" class=\"data row1 col1\" >0.0950</td>\n",
       "      <td id=\"T_a92ef_row1_col2\" class=\"data row1 col2\" >0.3082</td>\n",
       "      <td id=\"T_a92ef_row1_col3\" class=\"data row1 col3\" >-0.8898</td>\n",
       "      <td id=\"T_a92ef_row1_col4\" class=\"data row1 col4\" >0.2136</td>\n",
       "      <td id=\"T_a92ef_row1_col5\" class=\"data row1 col5\" >0.8421</td>\n",
       "    </tr>\n",
       "    <tr>\n",
       "      <th id=\"T_a92ef_level0_row2\" class=\"row_heading level0 row2\" >2</th>\n",
       "      <td id=\"T_a92ef_row2_col0\" class=\"data row2 col0\" >0.1006</td>\n",
       "      <td id=\"T_a92ef_row2_col1\" class=\"data row2 col1\" >0.1006</td>\n",
       "      <td id=\"T_a92ef_row2_col2\" class=\"data row2 col2\" >0.3171</td>\n",
       "      <td id=\"T_a92ef_row2_col3\" class=\"data row2 col3\" >-1.1059</td>\n",
       "      <td id=\"T_a92ef_row2_col4\" class=\"data row2 col4\" >0.2198</td>\n",
       "      <td id=\"T_a92ef_row2_col5\" class=\"data row2 col5\" >0.9444</td>\n",
       "    </tr>\n",
       "    <tr>\n",
       "      <th id=\"T_a92ef_level0_row3\" class=\"row_heading level0 row3\" >3</th>\n",
       "      <td id=\"T_a92ef_row3_col0\" class=\"data row3 col0\" >0.0838</td>\n",
       "      <td id=\"T_a92ef_row3_col1\" class=\"data row3 col1\" >0.0838</td>\n",
       "      <td id=\"T_a92ef_row3_col2\" class=\"data row3 col2\" >0.2895</td>\n",
       "      <td id=\"T_a92ef_row3_col3\" class=\"data row3 col3\" >-1.3946</td>\n",
       "      <td id=\"T_a92ef_row3_col4\" class=\"data row3 col4\" >0.2007</td>\n",
       "      <td id=\"T_a92ef_row3_col5\" class=\"data row3 col5\" >0.9231</td>\n",
       "    </tr>\n",
       "    <tr>\n",
       "      <th id=\"T_a92ef_level0_row4\" class=\"row_heading level0 row4\" >4</th>\n",
       "      <td id=\"T_a92ef_row4_col0\" class=\"data row4 col0\" >0.0978</td>\n",
       "      <td id=\"T_a92ef_row4_col1\" class=\"data row4 col1\" >0.0978</td>\n",
       "      <td id=\"T_a92ef_row4_col2\" class=\"data row4 col2\" >0.3127</td>\n",
       "      <td id=\"T_a92ef_row4_col3\" class=\"data row4 col3\" >-0.8536</td>\n",
       "      <td id=\"T_a92ef_row4_col4\" class=\"data row4 col4\" >0.2168</td>\n",
       "      <td id=\"T_a92ef_row4_col5\" class=\"data row4 col5\" >0.8000</td>\n",
       "    </tr>\n",
       "    <tr>\n",
       "      <th id=\"T_a92ef_level0_row5\" class=\"row_heading level0 row5\" >5</th>\n",
       "      <td id=\"T_a92ef_row5_col0\" class=\"data row5 col0\" >0.0698</td>\n",
       "      <td id=\"T_a92ef_row5_col1\" class=\"data row5 col1\" >0.0698</td>\n",
       "      <td id=\"T_a92ef_row5_col2\" class=\"data row5 col2\" >0.2643</td>\n",
       "      <td id=\"T_a92ef_row5_col3\" class=\"data row5 col3\" >-0.8584</td>\n",
       "      <td id=\"T_a92ef_row5_col4\" class=\"data row5 col4\" >0.1832</td>\n",
       "      <td id=\"T_a92ef_row5_col5\" class=\"data row5 col5\" >0.8571</td>\n",
       "    </tr>\n",
       "    <tr>\n",
       "      <th id=\"T_a92ef_level0_row6\" class=\"row_heading level0 row6\" >6</th>\n",
       "      <td id=\"T_a92ef_row6_col0\" class=\"data row6 col0\" >0.0754</td>\n",
       "      <td id=\"T_a92ef_row6_col1\" class=\"data row6 col1\" >0.0754</td>\n",
       "      <td id=\"T_a92ef_row6_col2\" class=\"data row6 col2\" >0.2746</td>\n",
       "      <td id=\"T_a92ef_row6_col3\" class=\"data row6 col3\" >-0.5794</td>\n",
       "      <td id=\"T_a92ef_row6_col4\" class=\"data row6 col4\" >0.1904</td>\n",
       "      <td id=\"T_a92ef_row6_col5\" class=\"data row6 col5\" >0.6667</td>\n",
       "    </tr>\n",
       "    <tr>\n",
       "      <th id=\"T_a92ef_level0_row7\" class=\"row_heading level0 row7\" >7</th>\n",
       "      <td id=\"T_a92ef_row7_col0\" class=\"data row7 col0\" >0.0644</td>\n",
       "      <td id=\"T_a92ef_row7_col1\" class=\"data row7 col1\" >0.0644</td>\n",
       "      <td id=\"T_a92ef_row7_col2\" class=\"data row7 col2\" >0.2538</td>\n",
       "      <td id=\"T_a92ef_row7_col3\" class=\"data row7 col3\" >-0.8361</td>\n",
       "      <td id=\"T_a92ef_row7_col4\" class=\"data row7 col4\" >0.1760</td>\n",
       "      <td id=\"T_a92ef_row7_col5\" class=\"data row7 col5\" >0.7692</td>\n",
       "    </tr>\n",
       "    <tr>\n",
       "      <th id=\"T_a92ef_level0_row8\" class=\"row_heading level0 row8\" >8</th>\n",
       "      <td id=\"T_a92ef_row8_col0\" class=\"data row8 col0\" >0.0868</td>\n",
       "      <td id=\"T_a92ef_row8_col1\" class=\"data row8 col1\" >0.0868</td>\n",
       "      <td id=\"T_a92ef_row8_col2\" class=\"data row8 col2\" >0.2947</td>\n",
       "      <td id=\"T_a92ef_row8_col3\" class=\"data row8 col3\" >-1.0284</td>\n",
       "      <td id=\"T_a92ef_row8_col4\" class=\"data row8 col4\" >0.2043</td>\n",
       "      <td id=\"T_a92ef_row8_col5\" class=\"data row8 col5\" >0.6875</td>\n",
       "    </tr>\n",
       "    <tr>\n",
       "      <th id=\"T_a92ef_level0_row9\" class=\"row_heading level0 row9\" >9</th>\n",
       "      <td id=\"T_a92ef_row9_col0\" class=\"data row9 col0\" >0.0952</td>\n",
       "      <td id=\"T_a92ef_row9_col1\" class=\"data row9 col1\" >0.0952</td>\n",
       "      <td id=\"T_a92ef_row9_col2\" class=\"data row9 col2\" >0.3086</td>\n",
       "      <td id=\"T_a92ef_row9_col3\" class=\"data row9 col3\" >-0.4624</td>\n",
       "      <td id=\"T_a92ef_row9_col4\" class=\"data row9 col4\" >0.2139</td>\n",
       "      <td id=\"T_a92ef_row9_col5\" class=\"data row9 col5\" >0.8000</td>\n",
       "    </tr>\n",
       "    <tr>\n",
       "      <th id=\"T_a92ef_level0_row10\" class=\"row_heading level0 row10\" >Mean</th>\n",
       "      <td id=\"T_a92ef_row10_col0\" class=\"data row10 col0\" >0.0836</td>\n",
       "      <td id=\"T_a92ef_row10_col1\" class=\"data row10 col1\" >0.0836</td>\n",
       "      <td id=\"T_a92ef_row10_col2\" class=\"data row10 col2\" >0.2882</td>\n",
       "      <td id=\"T_a92ef_row10_col3\" class=\"data row10 col3\" >-0.9078</td>\n",
       "      <td id=\"T_a92ef_row10_col4\" class=\"data row10 col4\" >0.1998</td>\n",
       "      <td id=\"T_a92ef_row10_col5\" class=\"data row10 col5\" >0.8207</td>\n",
       "    </tr>\n",
       "    <tr>\n",
       "      <th id=\"T_a92ef_level0_row11\" class=\"row_heading level0 row11\" >Std</th>\n",
       "      <td id=\"T_a92ef_row11_col0\" class=\"data row11 col0\" >0.0129</td>\n",
       "      <td id=\"T_a92ef_row11_col1\" class=\"data row11 col1\" >0.0129</td>\n",
       "      <td id=\"T_a92ef_row11_col2\" class=\"data row11 col2\" >0.0226</td>\n",
       "      <td id=\"T_a92ef_row11_col3\" class=\"data row11 col3\" >0.2518</td>\n",
       "      <td id=\"T_a92ef_row11_col4\" class=\"data row11 col4\" >0.0156</td>\n",
       "      <td id=\"T_a92ef_row11_col5\" class=\"data row11 col5\" >0.0904</td>\n",
       "    </tr>\n",
       "  </tbody>\n",
       "</table>\n"
      ],
      "text/plain": [
       "<pandas.io.formats.style.Styler at 0x2418e6cc8d0>"
      ]
     },
     "metadata": {},
     "output_type": "display_data"
    },
    {
     "data": {
      "text/html": [],
      "text/plain": [
       "<IPython.core.display.HTML object>"
      ]
     },
     "metadata": {},
     "output_type": "display_data"
    },
    {
     "data": {
      "text/html": [],
      "text/plain": [
       "<IPython.core.display.HTML object>"
      ]
     },
     "metadata": {},
     "output_type": "display_data"
    },
    {
     "data": {
      "text/html": [
       "<style type=\"text/css\">\n",
       "#T_94aaf_row10_col0, #T_94aaf_row10_col1, #T_94aaf_row10_col2, #T_94aaf_row10_col3, #T_94aaf_row10_col4, #T_94aaf_row10_col5 {\n",
       "  background: yellow;\n",
       "}\n",
       "</style>\n",
       "<table id=\"T_94aaf\">\n",
       "  <thead>\n",
       "    <tr>\n",
       "      <th class=\"blank level0\" >&nbsp;</th>\n",
       "      <th id=\"T_94aaf_level0_col0\" class=\"col_heading level0 col0\" >MAE</th>\n",
       "      <th id=\"T_94aaf_level0_col1\" class=\"col_heading level0 col1\" >MSE</th>\n",
       "      <th id=\"T_94aaf_level0_col2\" class=\"col_heading level0 col2\" >RMSE</th>\n",
       "      <th id=\"T_94aaf_level0_col3\" class=\"col_heading level0 col3\" >R2</th>\n",
       "      <th id=\"T_94aaf_level0_col4\" class=\"col_heading level0 col4\" >RMSLE</th>\n",
       "      <th id=\"T_94aaf_level0_col5\" class=\"col_heading level0 col5\" >MAPE</th>\n",
       "    </tr>\n",
       "    <tr>\n",
       "      <th class=\"index_name level0\" >Fold</th>\n",
       "      <th class=\"blank col0\" >&nbsp;</th>\n",
       "      <th class=\"blank col1\" >&nbsp;</th>\n",
       "      <th class=\"blank col2\" >&nbsp;</th>\n",
       "      <th class=\"blank col3\" >&nbsp;</th>\n",
       "      <th class=\"blank col4\" >&nbsp;</th>\n",
       "      <th class=\"blank col5\" >&nbsp;</th>\n",
       "    </tr>\n",
       "  </thead>\n",
       "  <tbody>\n",
       "    <tr>\n",
       "      <th id=\"T_94aaf_level0_row0\" class=\"row_heading level0 row0\" >0</th>\n",
       "      <td id=\"T_94aaf_row0_col0\" class=\"data row0 col0\" >0.0772</td>\n",
       "      <td id=\"T_94aaf_row0_col1\" class=\"data row0 col1\" >0.0352</td>\n",
       "      <td id=\"T_94aaf_row0_col2\" class=\"data row0 col2\" >0.1876</td>\n",
       "      <td id=\"T_94aaf_row0_col3\" class=\"data row0 col3\" >-0.0861</td>\n",
       "      <td id=\"T_94aaf_row0_col4\" class=\"data row0 col4\" >0.1371</td>\n",
       "      <td id=\"T_94aaf_row0_col5\" class=\"data row0 col5\" >0.8642</td>\n",
       "    </tr>\n",
       "    <tr>\n",
       "      <th id=\"T_94aaf_level0_row1\" class=\"row_heading level0 row1\" >1</th>\n",
       "      <td id=\"T_94aaf_row1_col0\" class=\"data row1 col0\" >0.0952</td>\n",
       "      <td id=\"T_94aaf_row1_col1\" class=\"data row1 col1\" >0.0498</td>\n",
       "      <td id=\"T_94aaf_row1_col2\" class=\"data row1 col2\" >0.2232</td>\n",
       "      <td id=\"T_94aaf_row1_col3\" class=\"data row1 col3\" >0.0083</td>\n",
       "      <td id=\"T_94aaf_row1_col4\" class=\"data row1 col4\" >0.1593</td>\n",
       "      <td id=\"T_94aaf_row1_col5\" class=\"data row1 col5\" >0.8584</td>\n",
       "    </tr>\n",
       "    <tr>\n",
       "      <th id=\"T_94aaf_level0_row2\" class=\"row_heading level0 row2\" >2</th>\n",
       "      <td id=\"T_94aaf_row2_col0\" class=\"data row2 col0\" >0.0903</td>\n",
       "      <td id=\"T_94aaf_row2_col1\" class=\"data row2 col1\" >0.0455</td>\n",
       "      <td id=\"T_94aaf_row2_col2\" class=\"data row2 col2\" >0.2133</td>\n",
       "      <td id=\"T_94aaf_row2_col3\" class=\"data row2 col3\" >0.0469</td>\n",
       "      <td id=\"T_94aaf_row2_col4\" class=\"data row2 col4\" >0.1517</td>\n",
       "      <td id=\"T_94aaf_row2_col5\" class=\"data row2 col5\" >0.8394</td>\n",
       "    </tr>\n",
       "    <tr>\n",
       "      <th id=\"T_94aaf_level0_row3\" class=\"row_heading level0 row3\" >3</th>\n",
       "      <td id=\"T_94aaf_row3_col0\" class=\"data row3 col0\" >0.0758</td>\n",
       "      <td id=\"T_94aaf_row3_col1\" class=\"data row3 col1\" >0.0380</td>\n",
       "      <td id=\"T_94aaf_row3_col2\" class=\"data row3 col2\" >0.1951</td>\n",
       "      <td id=\"T_94aaf_row3_col3\" class=\"data row3 col3\" >-0.0873</td>\n",
       "      <td id=\"T_94aaf_row3_col4\" class=\"data row3 col4\" >0.1410</td>\n",
       "      <td id=\"T_94aaf_row3_col5\" class=\"data row3 col5\" >0.8723</td>\n",
       "    </tr>\n",
       "    <tr>\n",
       "      <th id=\"T_94aaf_level0_row4\" class=\"row_heading level0 row4\" >4</th>\n",
       "      <td id=\"T_94aaf_row4_col0\" class=\"data row4 col0\" >0.1069</td>\n",
       "      <td id=\"T_94aaf_row4_col1\" class=\"data row4 col1\" >0.0531</td>\n",
       "      <td id=\"T_94aaf_row4_col2\" class=\"data row4 col2\" >0.2304</td>\n",
       "      <td id=\"T_94aaf_row4_col3\" class=\"data row4 col3\" >-0.0068</td>\n",
       "      <td id=\"T_94aaf_row4_col4\" class=\"data row4 col4\" >0.1658</td>\n",
       "      <td id=\"T_94aaf_row4_col5\" class=\"data row4 col5\" >0.8290</td>\n",
       "    </tr>\n",
       "    <tr>\n",
       "      <th id=\"T_94aaf_level0_row5\" class=\"row_heading level0 row5\" >5</th>\n",
       "      <td id=\"T_94aaf_row5_col0\" class=\"data row5 col0\" >0.0771</td>\n",
       "      <td id=\"T_94aaf_row5_col1\" class=\"data row5 col1\" >0.0380</td>\n",
       "      <td id=\"T_94aaf_row5_col2\" class=\"data row5 col2\" >0.1948</td>\n",
       "      <td id=\"T_94aaf_row5_col3\" class=\"data row5 col3\" >-0.0100</td>\n",
       "      <td id=\"T_94aaf_row5_col4\" class=\"data row5 col4\" >0.1394</td>\n",
       "      <td id=\"T_94aaf_row5_col5\" class=\"data row5 col5\" >0.8786</td>\n",
       "    </tr>\n",
       "    <tr>\n",
       "      <th id=\"T_94aaf_level0_row6\" class=\"row_heading level0 row6\" >6</th>\n",
       "      <td id=\"T_94aaf_row6_col0\" class=\"data row6 col0\" >0.1001</td>\n",
       "      <td id=\"T_94aaf_row6_col1\" class=\"data row6 col1\" >0.0473</td>\n",
       "      <td id=\"T_94aaf_row6_col2\" class=\"data row6 col2\" >0.2175</td>\n",
       "      <td id=\"T_94aaf_row6_col3\" class=\"data row6 col3\" >0.0092</td>\n",
       "      <td id=\"T_94aaf_row6_col4\" class=\"data row6 col4\" >0.1581</td>\n",
       "      <td id=\"T_94aaf_row6_col5\" class=\"data row6 col5\" >0.8033</td>\n",
       "    </tr>\n",
       "    <tr>\n",
       "      <th id=\"T_94aaf_level0_row7\" class=\"row_heading level0 row7\" >7</th>\n",
       "      <td id=\"T_94aaf_row7_col0\" class=\"data row7 col0\" >0.0719</td>\n",
       "      <td id=\"T_94aaf_row7_col1\" class=\"data row7 col1\" >0.0337</td>\n",
       "      <td id=\"T_94aaf_row7_col2\" class=\"data row7 col2\" >0.1835</td>\n",
       "      <td id=\"T_94aaf_row7_col3\" class=\"data row7 col3\" >0.0407</td>\n",
       "      <td id=\"T_94aaf_row7_col4\" class=\"data row7 col4\" >0.1324</td>\n",
       "      <td id=\"T_94aaf_row7_col5\" class=\"data row7 col5\" >0.8254</td>\n",
       "    </tr>\n",
       "    <tr>\n",
       "      <th id=\"T_94aaf_level0_row8\" class=\"row_heading level0 row8\" >8</th>\n",
       "      <td id=\"T_94aaf_row8_col0\" class=\"data row8 col0\" >0.0896</td>\n",
       "      <td id=\"T_94aaf_row8_col1\" class=\"data row8 col1\" >0.0434</td>\n",
       "      <td id=\"T_94aaf_row8_col2\" class=\"data row8 col2\" >0.2083</td>\n",
       "      <td id=\"T_94aaf_row8_col3\" class=\"data row8 col3\" >-0.0139</td>\n",
       "      <td id=\"T_94aaf_row8_col4\" class=\"data row8 col4\" >0.1506</td>\n",
       "      <td id=\"T_94aaf_row8_col5\" class=\"data row8 col5\" >0.8444</td>\n",
       "    </tr>\n",
       "    <tr>\n",
       "      <th id=\"T_94aaf_level0_row9\" class=\"row_heading level0 row9\" >9</th>\n",
       "      <td id=\"T_94aaf_row9_col0\" class=\"data row9 col0\" >0.1061</td>\n",
       "      <td id=\"T_94aaf_row9_col1\" class=\"data row9 col1\" >0.0624</td>\n",
       "      <td id=\"T_94aaf_row9_col2\" class=\"data row9 col2\" >0.2498</td>\n",
       "      <td id=\"T_94aaf_row9_col3\" class=\"data row9 col3\" >0.0419</td>\n",
       "      <td id=\"T_94aaf_row9_col4\" class=\"data row9 col4\" >0.1755</td>\n",
       "      <td id=\"T_94aaf_row9_col5\" class=\"data row9 col5\" >0.8600</td>\n",
       "    </tr>\n",
       "    <tr>\n",
       "      <th id=\"T_94aaf_level0_row10\" class=\"row_heading level0 row10\" >Mean</th>\n",
       "      <td id=\"T_94aaf_row10_col0\" class=\"data row10 col0\" >0.0890</td>\n",
       "      <td id=\"T_94aaf_row10_col1\" class=\"data row10 col1\" >0.0446</td>\n",
       "      <td id=\"T_94aaf_row10_col2\" class=\"data row10 col2\" >0.2104</td>\n",
       "      <td id=\"T_94aaf_row10_col3\" class=\"data row10 col3\" >-0.0057</td>\n",
       "      <td id=\"T_94aaf_row10_col4\" class=\"data row10 col4\" >0.1511</td>\n",
       "      <td id=\"T_94aaf_row10_col5\" class=\"data row10 col5\" >0.8475</td>\n",
       "    </tr>\n",
       "    <tr>\n",
       "      <th id=\"T_94aaf_level0_row11\" class=\"row_heading level0 row11\" >Std</th>\n",
       "      <td id=\"T_94aaf_row11_col0\" class=\"data row11 col0\" >0.0123</td>\n",
       "      <td id=\"T_94aaf_row11_col1\" class=\"data row11 col1\" >0.0085</td>\n",
       "      <td id=\"T_94aaf_row11_col2\" class=\"data row11 col2\" >0.0198</td>\n",
       "      <td id=\"T_94aaf_row11_col3\" class=\"data row11 col3\" >0.0456</td>\n",
       "      <td id=\"T_94aaf_row11_col4\" class=\"data row11 col4\" >0.0131</td>\n",
       "      <td id=\"T_94aaf_row11_col5\" class=\"data row11 col5\" >0.0223</td>\n",
       "    </tr>\n",
       "  </tbody>\n",
       "</table>\n"
      ],
      "text/plain": [
       "<pandas.io.formats.style.Styler at 0x241ae3a1cd0>"
      ]
     },
     "metadata": {},
     "output_type": "display_data"
    },
    {
     "data": {
      "text/html": [],
      "text/plain": [
       "<IPython.core.display.HTML object>"
      ]
     },
     "metadata": {},
     "output_type": "display_data"
    },
    {
     "data": {
      "text/html": [],
      "text/plain": [
       "<IPython.core.display.HTML object>"
      ]
     },
     "metadata": {},
     "output_type": "display_data"
    },
    {
     "data": {
      "text/html": [
       "<style type=\"text/css\">\n",
       "#T_0fa8d_row10_col0, #T_0fa8d_row10_col1, #T_0fa8d_row10_col2, #T_0fa8d_row10_col3, #T_0fa8d_row10_col4, #T_0fa8d_row10_col5 {\n",
       "  background: yellow;\n",
       "}\n",
       "</style>\n",
       "<table id=\"T_0fa8d\">\n",
       "  <thead>\n",
       "    <tr>\n",
       "      <th class=\"blank level0\" >&nbsp;</th>\n",
       "      <th id=\"T_0fa8d_level0_col0\" class=\"col_heading level0 col0\" >MAE</th>\n",
       "      <th id=\"T_0fa8d_level0_col1\" class=\"col_heading level0 col1\" >MSE</th>\n",
       "      <th id=\"T_0fa8d_level0_col2\" class=\"col_heading level0 col2\" >RMSE</th>\n",
       "      <th id=\"T_0fa8d_level0_col3\" class=\"col_heading level0 col3\" >R2</th>\n",
       "      <th id=\"T_0fa8d_level0_col4\" class=\"col_heading level0 col4\" >RMSLE</th>\n",
       "      <th id=\"T_0fa8d_level0_col5\" class=\"col_heading level0 col5\" >MAPE</th>\n",
       "    </tr>\n",
       "    <tr>\n",
       "      <th class=\"index_name level0\" >Fold</th>\n",
       "      <th class=\"blank col0\" >&nbsp;</th>\n",
       "      <th class=\"blank col1\" >&nbsp;</th>\n",
       "      <th class=\"blank col2\" >&nbsp;</th>\n",
       "      <th class=\"blank col3\" >&nbsp;</th>\n",
       "      <th class=\"blank col4\" >&nbsp;</th>\n",
       "      <th class=\"blank col5\" >&nbsp;</th>\n",
       "    </tr>\n",
       "  </thead>\n",
       "  <tbody>\n",
       "    <tr>\n",
       "      <th id=\"T_0fa8d_level0_row0\" class=\"row_heading level0 row0\" >0</th>\n",
       "      <td id=\"T_0fa8d_row0_col0\" class=\"data row0 col0\" >0.0684</td>\n",
       "      <td id=\"T_0fa8d_row0_col1\" class=\"data row0 col1\" >0.0345</td>\n",
       "      <td id=\"T_0fa8d_row0_col2\" class=\"data row0 col2\" >0.1857</td>\n",
       "      <td id=\"T_0fa8d_row0_col3\" class=\"data row0 col3\" >-0.0640</td>\n",
       "      <td id=\"T_0fa8d_row0_col4\" class=\"data row0 col4\" >0.1329</td>\n",
       "      <td id=\"T_0fa8d_row0_col5\" class=\"data row0 col5\" >0.9115</td>\n",
       "    </tr>\n",
       "    <tr>\n",
       "      <th id=\"T_0fa8d_level0_row1\" class=\"row_heading level0 row1\" >1</th>\n",
       "      <td id=\"T_0fa8d_row1_col0\" class=\"data row1 col0\" >0.1947</td>\n",
       "      <td id=\"T_0fa8d_row1_col1\" class=\"data row1 col1\" >0.0796</td>\n",
       "      <td id=\"T_0fa8d_row1_col2\" class=\"data row1 col2\" >0.2822</td>\n",
       "      <td id=\"T_0fa8d_row1_col3\" class=\"data row1 col3\" >-0.5844</td>\n",
       "      <td id=\"T_0fa8d_row1_col4\" class=\"data row1 col4\" >0.2226</td>\n",
       "      <td id=\"T_0fa8d_row1_col5\" class=\"data row1 col5\" >0.6439</td>\n",
       "    </tr>\n",
       "    <tr>\n",
       "      <th id=\"T_0fa8d_level0_row2\" class=\"row_heading level0 row2\" >2</th>\n",
       "      <td id=\"T_0fa8d_row2_col0\" class=\"data row2 col0\" >0.1855</td>\n",
       "      <td id=\"T_0fa8d_row2_col1\" class=\"data row2 col1\" >0.0692</td>\n",
       "      <td id=\"T_0fa8d_row2_col2\" class=\"data row2 col2\" >0.2630</td>\n",
       "      <td id=\"T_0fa8d_row2_col3\" class=\"data row2 col3\" >-0.4484</td>\n",
       "      <td id=\"T_0fa8d_row2_col4\" class=\"data row2 col4\" >0.2085</td>\n",
       "      <td id=\"T_0fa8d_row2_col5\" class=\"data row2 col5\" >0.6391</td>\n",
       "    </tr>\n",
       "    <tr>\n",
       "      <th id=\"T_0fa8d_level0_row3\" class=\"row_heading level0 row3\" >3</th>\n",
       "      <td id=\"T_0fa8d_row3_col0\" class=\"data row3 col0\" >0.0715</td>\n",
       "      <td id=\"T_0fa8d_row3_col1\" class=\"data row3 col1\" >0.0399</td>\n",
       "      <td id=\"T_0fa8d_row3_col2\" class=\"data row3 col2\" >0.1998</td>\n",
       "      <td id=\"T_0fa8d_row3_col3\" class=\"data row3 col3\" >-0.1403</td>\n",
       "      <td id=\"T_0fa8d_row3_col4\" class=\"data row3 col4\" >0.1412</td>\n",
       "      <td id=\"T_0fa8d_row3_col5\" class=\"data row3 col5\" >0.8975</td>\n",
       "    </tr>\n",
       "    <tr>\n",
       "      <th id=\"T_0fa8d_level0_row4\" class=\"row_heading level0 row4\" >4</th>\n",
       "      <td id=\"T_0fa8d_row4_col0\" class=\"data row4 col0\" >0.1802</td>\n",
       "      <td id=\"T_0fa8d_row4_col1\" class=\"data row4 col1\" >0.0715</td>\n",
       "      <td id=\"T_0fa8d_row4_col2\" class=\"data row4 col2\" >0.2675</td>\n",
       "      <td id=\"T_0fa8d_row4_col3\" class=\"data row4 col3\" >-0.3564</td>\n",
       "      <td id=\"T_0fa8d_row4_col4\" class=\"data row4 col4\" >0.2084</td>\n",
       "      <td id=\"T_0fa8d_row4_col5\" class=\"data row4 col5\" >0.6870</td>\n",
       "    </tr>\n",
       "    <tr>\n",
       "      <th id=\"T_0fa8d_level0_row5\" class=\"row_heading level0 row5\" >5</th>\n",
       "      <td id=\"T_0fa8d_row5_col0\" class=\"data row5 col0\" >0.1971</td>\n",
       "      <td id=\"T_0fa8d_row5_col1\" class=\"data row5 col1\" >0.0754</td>\n",
       "      <td id=\"T_0fa8d_row5_col2\" class=\"data row5 col2\" >0.2746</td>\n",
       "      <td id=\"T_0fa8d_row5_col3\" class=\"data row5 col3\" >-1.0063</td>\n",
       "      <td id=\"T_0fa8d_row5_col4\" class=\"data row5 col4\" >0.2213</td>\n",
       "      <td id=\"T_0fa8d_row5_col5\" class=\"data row5 col5\" >0.6417</td>\n",
       "    </tr>\n",
       "    <tr>\n",
       "      <th id=\"T_0fa8d_level0_row6\" class=\"row_heading level0 row6\" >6</th>\n",
       "      <td id=\"T_0fa8d_row6_col0\" class=\"data row6 col0\" >0.0977</td>\n",
       "      <td id=\"T_0fa8d_row6_col1\" class=\"data row6 col1\" >0.0507</td>\n",
       "      <td id=\"T_0fa8d_row6_col2\" class=\"data row6 col2\" >0.2251</td>\n",
       "      <td id=\"T_0fa8d_row6_col3\" class=\"data row6 col3\" >-0.0609</td>\n",
       "      <td id=\"T_0fa8d_row6_col4\" class=\"data row6 col4\" >0.1632</td>\n",
       "      <td id=\"T_0fa8d_row6_col5\" class=\"data row6 col5\" >0.8386</td>\n",
       "    </tr>\n",
       "    <tr>\n",
       "      <th id=\"T_0fa8d_level0_row7\" class=\"row_heading level0 row7\" >7</th>\n",
       "      <td id=\"T_0fa8d_row7_col0\" class=\"data row7 col0\" >0.0691</td>\n",
       "      <td id=\"T_0fa8d_row7_col1\" class=\"data row7 col1\" >0.0359</td>\n",
       "      <td id=\"T_0fa8d_row7_col2\" class=\"data row7 col2\" >0.1894</td>\n",
       "      <td id=\"T_0fa8d_row7_col3\" class=\"data row7 col3\" >-0.0222</td>\n",
       "      <td id=\"T_0fa8d_row7_col4\" class=\"data row7 col4\" >0.1343</td>\n",
       "      <td id=\"T_0fa8d_row7_col5\" class=\"data row7 col5\" >0.9311</td>\n",
       "    </tr>\n",
       "    <tr>\n",
       "      <th id=\"T_0fa8d_level0_row8\" class=\"row_heading level0 row8\" >8</th>\n",
       "      <td id=\"T_0fa8d_row8_col0\" class=\"data row8 col0\" >0.1736</td>\n",
       "      <td id=\"T_0fa8d_row8_col1\" class=\"data row8 col1\" >0.0661</td>\n",
       "      <td id=\"T_0fa8d_row8_col2\" class=\"data row8 col2\" >0.2571</td>\n",
       "      <td id=\"T_0fa8d_row8_col3\" class=\"data row8 col3\" >-0.5435</td>\n",
       "      <td id=\"T_0fa8d_row8_col4\" class=\"data row8 col4\" >0.2028</td>\n",
       "      <td id=\"T_0fa8d_row8_col5\" class=\"data row8 col5\" >0.6913</td>\n",
       "    </tr>\n",
       "    <tr>\n",
       "      <th id=\"T_0fa8d_level0_row9\" class=\"row_heading level0 row9\" >9</th>\n",
       "      <td id=\"T_0fa8d_row9_col0\" class=\"data row9 col0\" >0.1614</td>\n",
       "      <td id=\"T_0fa8d_row9_col1\" class=\"data row9 col1\" >0.0729</td>\n",
       "      <td id=\"T_0fa8d_row9_col2\" class=\"data row9 col2\" >0.2700</td>\n",
       "      <td id=\"T_0fa8d_row9_col3\" class=\"data row9 col3\" >-0.1195</td>\n",
       "      <td id=\"T_0fa8d_row9_col4\" class=\"data row9 col4\" >0.2013</td>\n",
       "      <td id=\"T_0fa8d_row9_col5\" class=\"data row9 col5\" >0.7373</td>\n",
       "    </tr>\n",
       "    <tr>\n",
       "      <th id=\"T_0fa8d_level0_row10\" class=\"row_heading level0 row10\" >Mean</th>\n",
       "      <td id=\"T_0fa8d_row10_col0\" class=\"data row10 col0\" >0.1399</td>\n",
       "      <td id=\"T_0fa8d_row10_col1\" class=\"data row10 col1\" >0.0596</td>\n",
       "      <td id=\"T_0fa8d_row10_col2\" class=\"data row10 col2\" >0.2414</td>\n",
       "      <td id=\"T_0fa8d_row10_col3\" class=\"data row10 col3\" >-0.3346</td>\n",
       "      <td id=\"T_0fa8d_row10_col4\" class=\"data row10 col4\" >0.1837</td>\n",
       "      <td id=\"T_0fa8d_row10_col5\" class=\"data row10 col5\" >0.7619</td>\n",
       "    </tr>\n",
       "    <tr>\n",
       "      <th id=\"T_0fa8d_level0_row11\" class=\"row_heading level0 row11\" >Std</th>\n",
       "      <td id=\"T_0fa8d_row11_col0\" class=\"data row11 col0\" >0.0531</td>\n",
       "      <td id=\"T_0fa8d_row11_col1\" class=\"data row11 col1\" >0.0166</td>\n",
       "      <td id=\"T_0fa8d_row11_col2\" class=\"data row11 col2\" >0.0358</td>\n",
       "      <td id=\"T_0fa8d_row11_col3\" class=\"data row11 col3\" >0.3001</td>\n",
       "      <td id=\"T_0fa8d_row11_col4\" class=\"data row11 col4\" >0.0347</td>\n",
       "      <td id=\"T_0fa8d_row11_col5\" class=\"data row11 col5\" >0.1140</td>\n",
       "    </tr>\n",
       "  </tbody>\n",
       "</table>\n"
      ],
      "text/plain": [
       "<pandas.io.formats.style.Styler at 0x241ae89a4d0>"
      ]
     },
     "metadata": {},
     "output_type": "display_data"
    },
    {
     "data": {
      "text/html": [],
      "text/plain": [
       "<IPython.core.display.HTML object>"
      ]
     },
     "metadata": {},
     "output_type": "display_data"
    },
    {
     "data": {
      "text/html": [],
      "text/plain": [
       "<IPython.core.display.HTML object>"
      ]
     },
     "metadata": {},
     "output_type": "display_data"
    },
    {
     "data": {
      "text/html": [
       "<style type=\"text/css\">\n",
       "#T_664af_row10_col0, #T_664af_row10_col1, #T_664af_row10_col2, #T_664af_row10_col3, #T_664af_row10_col4, #T_664af_row10_col5 {\n",
       "  background: yellow;\n",
       "}\n",
       "</style>\n",
       "<table id=\"T_664af\">\n",
       "  <thead>\n",
       "    <tr>\n",
       "      <th class=\"blank level0\" >&nbsp;</th>\n",
       "      <th id=\"T_664af_level0_col0\" class=\"col_heading level0 col0\" >MAE</th>\n",
       "      <th id=\"T_664af_level0_col1\" class=\"col_heading level0 col1\" >MSE</th>\n",
       "      <th id=\"T_664af_level0_col2\" class=\"col_heading level0 col2\" >RMSE</th>\n",
       "      <th id=\"T_664af_level0_col3\" class=\"col_heading level0 col3\" >R2</th>\n",
       "      <th id=\"T_664af_level0_col4\" class=\"col_heading level0 col4\" >RMSLE</th>\n",
       "      <th id=\"T_664af_level0_col5\" class=\"col_heading level0 col5\" >MAPE</th>\n",
       "    </tr>\n",
       "    <tr>\n",
       "      <th class=\"index_name level0\" >Fold</th>\n",
       "      <th class=\"blank col0\" >&nbsp;</th>\n",
       "      <th class=\"blank col1\" >&nbsp;</th>\n",
       "      <th class=\"blank col2\" >&nbsp;</th>\n",
       "      <th class=\"blank col3\" >&nbsp;</th>\n",
       "      <th class=\"blank col4\" >&nbsp;</th>\n",
       "      <th class=\"blank col5\" >&nbsp;</th>\n",
       "    </tr>\n",
       "  </thead>\n",
       "  <tbody>\n",
       "    <tr>\n",
       "      <th id=\"T_664af_level0_row0\" class=\"row_heading level0 row0\" >0</th>\n",
       "      <td id=\"T_664af_row0_col0\" class=\"data row0 col0\" >-0.0000</td>\n",
       "      <td id=\"T_664af_row0_col1\" class=\"data row0 col1\" >-0.0000</td>\n",
       "      <td id=\"T_664af_row0_col2\" class=\"data row0 col2\" >-0.0000</td>\n",
       "      <td id=\"T_664af_row0_col3\" class=\"data row0 col3\" >0.0000</td>\n",
       "      <td id=\"T_664af_row0_col4\" class=\"data row0 col4\" >-0.0000</td>\n",
       "      <td id=\"T_664af_row0_col5\" class=\"data row0 col5\" >-0.0000</td>\n",
       "    </tr>\n",
       "    <tr>\n",
       "      <th id=\"T_664af_level0_row1\" class=\"row_heading level0 row1\" >1</th>\n",
       "      <td id=\"T_664af_row1_col0\" class=\"data row1 col0\" >-0.0000</td>\n",
       "      <td id=\"T_664af_row1_col1\" class=\"data row1 col1\" >-0.0000</td>\n",
       "      <td id=\"T_664af_row1_col2\" class=\"data row1 col2\" >-0.0000</td>\n",
       "      <td id=\"T_664af_row1_col3\" class=\"data row1 col3\" >0.0000</td>\n",
       "      <td id=\"T_664af_row1_col4\" class=\"data row1 col4\" >-0.0000</td>\n",
       "      <td id=\"T_664af_row1_col5\" class=\"data row1 col5\" >-0.0000</td>\n",
       "    </tr>\n",
       "    <tr>\n",
       "      <th id=\"T_664af_level0_row2\" class=\"row_heading level0 row2\" >2</th>\n",
       "      <td id=\"T_664af_row2_col0\" class=\"data row2 col0\" >-0.0000</td>\n",
       "      <td id=\"T_664af_row2_col1\" class=\"data row2 col1\" >-0.0000</td>\n",
       "      <td id=\"T_664af_row2_col2\" class=\"data row2 col2\" >-0.0000</td>\n",
       "      <td id=\"T_664af_row2_col3\" class=\"data row2 col3\" >0.0000</td>\n",
       "      <td id=\"T_664af_row2_col4\" class=\"data row2 col4\" >-0.0000</td>\n",
       "      <td id=\"T_664af_row2_col5\" class=\"data row2 col5\" >-0.0000</td>\n",
       "    </tr>\n",
       "    <tr>\n",
       "      <th id=\"T_664af_level0_row3\" class=\"row_heading level0 row3\" >3</th>\n",
       "      <td id=\"T_664af_row3_col0\" class=\"data row3 col0\" >-0.0000</td>\n",
       "      <td id=\"T_664af_row3_col1\" class=\"data row3 col1\" >-0.0000</td>\n",
       "      <td id=\"T_664af_row3_col2\" class=\"data row3 col2\" >-0.0000</td>\n",
       "      <td id=\"T_664af_row3_col3\" class=\"data row3 col3\" >0.0000</td>\n",
       "      <td id=\"T_664af_row3_col4\" class=\"data row3 col4\" >-0.0000</td>\n",
       "      <td id=\"T_664af_row3_col5\" class=\"data row3 col5\" >-0.0000</td>\n",
       "    </tr>\n",
       "    <tr>\n",
       "      <th id=\"T_664af_level0_row4\" class=\"row_heading level0 row4\" >4</th>\n",
       "      <td id=\"T_664af_row4_col0\" class=\"data row4 col0\" >-0.0000</td>\n",
       "      <td id=\"T_664af_row4_col1\" class=\"data row4 col1\" >-0.0000</td>\n",
       "      <td id=\"T_664af_row4_col2\" class=\"data row4 col2\" >-0.0000</td>\n",
       "      <td id=\"T_664af_row4_col3\" class=\"data row4 col3\" >0.0000</td>\n",
       "      <td id=\"T_664af_row4_col4\" class=\"data row4 col4\" >-0.0000</td>\n",
       "      <td id=\"T_664af_row4_col5\" class=\"data row4 col5\" >-0.0000</td>\n",
       "    </tr>\n",
       "    <tr>\n",
       "      <th id=\"T_664af_level0_row5\" class=\"row_heading level0 row5\" >5</th>\n",
       "      <td id=\"T_664af_row5_col0\" class=\"data row5 col0\" >-0.0000</td>\n",
       "      <td id=\"T_664af_row5_col1\" class=\"data row5 col1\" >-0.0000</td>\n",
       "      <td id=\"T_664af_row5_col2\" class=\"data row5 col2\" >-0.0000</td>\n",
       "      <td id=\"T_664af_row5_col3\" class=\"data row5 col3\" >0.0000</td>\n",
       "      <td id=\"T_664af_row5_col4\" class=\"data row5 col4\" >-0.0000</td>\n",
       "      <td id=\"T_664af_row5_col5\" class=\"data row5 col5\" >-0.0000</td>\n",
       "    </tr>\n",
       "    <tr>\n",
       "      <th id=\"T_664af_level0_row6\" class=\"row_heading level0 row6\" >6</th>\n",
       "      <td id=\"T_664af_row6_col0\" class=\"data row6 col0\" >-0.0000</td>\n",
       "      <td id=\"T_664af_row6_col1\" class=\"data row6 col1\" >-0.0000</td>\n",
       "      <td id=\"T_664af_row6_col2\" class=\"data row6 col2\" >-0.0000</td>\n",
       "      <td id=\"T_664af_row6_col3\" class=\"data row6 col3\" >0.0000</td>\n",
       "      <td id=\"T_664af_row6_col4\" class=\"data row6 col4\" >-0.0000</td>\n",
       "      <td id=\"T_664af_row6_col5\" class=\"data row6 col5\" >-0.0000</td>\n",
       "    </tr>\n",
       "    <tr>\n",
       "      <th id=\"T_664af_level0_row7\" class=\"row_heading level0 row7\" >7</th>\n",
       "      <td id=\"T_664af_row7_col0\" class=\"data row7 col0\" >-0.0000</td>\n",
       "      <td id=\"T_664af_row7_col1\" class=\"data row7 col1\" >-0.0000</td>\n",
       "      <td id=\"T_664af_row7_col2\" class=\"data row7 col2\" >-0.0000</td>\n",
       "      <td id=\"T_664af_row7_col3\" class=\"data row7 col3\" >0.0000</td>\n",
       "      <td id=\"T_664af_row7_col4\" class=\"data row7 col4\" >-0.0000</td>\n",
       "      <td id=\"T_664af_row7_col5\" class=\"data row7 col5\" >-0.0000</td>\n",
       "    </tr>\n",
       "    <tr>\n",
       "      <th id=\"T_664af_level0_row8\" class=\"row_heading level0 row8\" >8</th>\n",
       "      <td id=\"T_664af_row8_col0\" class=\"data row8 col0\" >-0.0000</td>\n",
       "      <td id=\"T_664af_row8_col1\" class=\"data row8 col1\" >-0.0000</td>\n",
       "      <td id=\"T_664af_row8_col2\" class=\"data row8 col2\" >-0.0000</td>\n",
       "      <td id=\"T_664af_row8_col3\" class=\"data row8 col3\" >0.0000</td>\n",
       "      <td id=\"T_664af_row8_col4\" class=\"data row8 col4\" >-0.0000</td>\n",
       "      <td id=\"T_664af_row8_col5\" class=\"data row8 col5\" >-0.0000</td>\n",
       "    </tr>\n",
       "    <tr>\n",
       "      <th id=\"T_664af_level0_row9\" class=\"row_heading level0 row9\" >9</th>\n",
       "      <td id=\"T_664af_row9_col0\" class=\"data row9 col0\" >-0.0000</td>\n",
       "      <td id=\"T_664af_row9_col1\" class=\"data row9 col1\" >-0.0000</td>\n",
       "      <td id=\"T_664af_row9_col2\" class=\"data row9 col2\" >-0.0000</td>\n",
       "      <td id=\"T_664af_row9_col3\" class=\"data row9 col3\" >0.0000</td>\n",
       "      <td id=\"T_664af_row9_col4\" class=\"data row9 col4\" >-0.0000</td>\n",
       "      <td id=\"T_664af_row9_col5\" class=\"data row9 col5\" >-0.0000</td>\n",
       "    </tr>\n",
       "    <tr>\n",
       "      <th id=\"T_664af_level0_row10\" class=\"row_heading level0 row10\" >Mean</th>\n",
       "      <td id=\"T_664af_row10_col0\" class=\"data row10 col0\" >0.0000</td>\n",
       "      <td id=\"T_664af_row10_col1\" class=\"data row10 col1\" >0.0000</td>\n",
       "      <td id=\"T_664af_row10_col2\" class=\"data row10 col2\" >0.0000</td>\n",
       "      <td id=\"T_664af_row10_col3\" class=\"data row10 col3\" >0.0000</td>\n",
       "      <td id=\"T_664af_row10_col4\" class=\"data row10 col4\" >0.0000</td>\n",
       "      <td id=\"T_664af_row10_col5\" class=\"data row10 col5\" >0.0000</td>\n",
       "    </tr>\n",
       "    <tr>\n",
       "      <th id=\"T_664af_level0_row11\" class=\"row_heading level0 row11\" >Std</th>\n",
       "      <td id=\"T_664af_row11_col0\" class=\"data row11 col0\" >0.0000</td>\n",
       "      <td id=\"T_664af_row11_col1\" class=\"data row11 col1\" >0.0000</td>\n",
       "      <td id=\"T_664af_row11_col2\" class=\"data row11 col2\" >0.0000</td>\n",
       "      <td id=\"T_664af_row11_col3\" class=\"data row11 col3\" >0.0000</td>\n",
       "      <td id=\"T_664af_row11_col4\" class=\"data row11 col4\" >0.0000</td>\n",
       "      <td id=\"T_664af_row11_col5\" class=\"data row11 col5\" >0.0000</td>\n",
       "    </tr>\n",
       "  </tbody>\n",
       "</table>\n"
      ],
      "text/plain": [
       "<pandas.io.formats.style.Styler at 0x241ae88d410>"
      ]
     },
     "metadata": {},
     "output_type": "display_data"
    },
    {
     "data": {
      "text/html": [],
      "text/plain": [
       "<IPython.core.display.HTML object>"
      ]
     },
     "metadata": {},
     "output_type": "display_data"
    }
   ],
   "source": [
    "\n",
    "# Create and compare multiple models\n",
    "models_to_compare = ['lr', 'dt', 'rf', 'ada', 'knn']\n",
    "\n",
    "for model_name in models_to_compare:\n",
    "    # Creating a model\n",
    "    current_model = create_model(model_name)\n",
    "    \n",
    "    # Train the model\n",
    "    current_model.fit(X_train, y_train)\n",
    "\n",
    "    # Create a blackbox model using the trained model\n",
    "    blackbox_model = current_model"
   ]
  },
  {
   "cell_type": "code",
   "execution_count": 93,
   "metadata": {},
   "outputs": [
    {
     "data": {
      "text/html": [
       "<div>\n",
       "<style scoped>\n",
       "    .dataframe tbody tr th:only-of-type {\n",
       "        vertical-align: middle;\n",
       "    }\n",
       "\n",
       "    .dataframe tbody tr th {\n",
       "        vertical-align: top;\n",
       "    }\n",
       "\n",
       "    .dataframe thead th {\n",
       "        text-align: right;\n",
       "    }\n",
       "</style>\n",
       "<table border=\"1\" class=\"dataframe\">\n",
       "  <thead>\n",
       "    <tr style=\"text-align: right;\">\n",
       "      <th></th>\n",
       "      <th>id</th>\n",
       "      <th>age</th>\n",
       "      <th>hypertension</th>\n",
       "      <th>heart_disease</th>\n",
       "      <th>avg_glucose_level</th>\n",
       "      <th>bmi</th>\n",
       "      <th>stroke</th>\n",
       "      <th>Female</th>\n",
       "      <th>Other</th>\n",
       "      <th>No</th>\n",
       "      <th>Govt_job</th>\n",
       "      <th>Never_worked</th>\n",
       "      <th>Self-employed</th>\n",
       "      <th>children</th>\n",
       "      <th>Rural</th>\n",
       "      <th>never smoked</th>\n",
       "      <th>smokes</th>\n",
       "    </tr>\n",
       "  </thead>\n",
       "  <tbody>\n",
       "    <tr>\n",
       "      <th>0</th>\n",
       "      <td>671</td>\n",
       "      <td>88</td>\n",
       "      <td>0</td>\n",
       "      <td>1</td>\n",
       "      <td>3850</td>\n",
       "      <td>240</td>\n",
       "      <td>1</td>\n",
       "      <td>0</td>\n",
       "      <td>0</td>\n",
       "      <td>0</td>\n",
       "      <td>0</td>\n",
       "      <td>0</td>\n",
       "      <td>0</td>\n",
       "      <td>0</td>\n",
       "      <td>0</td>\n",
       "      <td>0</td>\n",
       "      <td>0</td>\n",
       "    </tr>\n",
       "    <tr>\n",
       "      <th>1</th>\n",
       "      <td>3610</td>\n",
       "      <td>82</td>\n",
       "      <td>0</td>\n",
       "      <td>0</td>\n",
       "      <td>3588</td>\n",
       "      <td>162</td>\n",
       "      <td>1</td>\n",
       "      <td>1</td>\n",
       "      <td>0</td>\n",
       "      <td>0</td>\n",
       "      <td>0</td>\n",
       "      <td>0</td>\n",
       "      <td>1</td>\n",
       "      <td>0</td>\n",
       "      <td>1</td>\n",
       "      <td>1</td>\n",
       "      <td>0</td>\n",
       "    </tr>\n",
       "    <tr>\n",
       "      <th>2</th>\n",
       "      <td>2151</td>\n",
       "      <td>101</td>\n",
       "      <td>0</td>\n",
       "      <td>1</td>\n",
       "      <td>2483</td>\n",
       "      <td>199</td>\n",
       "      <td>1</td>\n",
       "      <td>0</td>\n",
       "      <td>0</td>\n",
       "      <td>0</td>\n",
       "      <td>0</td>\n",
       "      <td>0</td>\n",
       "      <td>0</td>\n",
       "      <td>0</td>\n",
       "      <td>1</td>\n",
       "      <td>1</td>\n",
       "      <td>0</td>\n",
       "    </tr>\n",
       "    <tr>\n",
       "      <th>3</th>\n",
       "      <td>4226</td>\n",
       "      <td>70</td>\n",
       "      <td>0</td>\n",
       "      <td>0</td>\n",
       "      <td>3385</td>\n",
       "      <td>218</td>\n",
       "      <td>1</td>\n",
       "      <td>1</td>\n",
       "      <td>0</td>\n",
       "      <td>0</td>\n",
       "      <td>0</td>\n",
       "      <td>0</td>\n",
       "      <td>0</td>\n",
       "      <td>0</td>\n",
       "      <td>0</td>\n",
       "      <td>0</td>\n",
       "      <td>1</td>\n",
       "    </tr>\n",
       "    <tr>\n",
       "      <th>4</th>\n",
       "      <td>114</td>\n",
       "      <td>100</td>\n",
       "      <td>1</td>\n",
       "      <td>0</td>\n",
       "      <td>3394</td>\n",
       "      <td>113</td>\n",
       "      <td>1</td>\n",
       "      <td>1</td>\n",
       "      <td>0</td>\n",
       "      <td>0</td>\n",
       "      <td>0</td>\n",
       "      <td>0</td>\n",
       "      <td>1</td>\n",
       "      <td>0</td>\n",
       "      <td>1</td>\n",
       "      <td>1</td>\n",
       "      <td>0</td>\n",
       "    </tr>\n",
       "  </tbody>\n",
       "</table>\n",
       "</div>"
      ],
      "text/plain": [
       "     id  age  hypertension  heart_disease  avg_glucose_level  bmi  stroke  \\\n",
       "0   671   88             0              1               3850  240       1   \n",
       "1  3610   82             0              0               3588  162       1   \n",
       "2  2151  101             0              1               2483  199       1   \n",
       "3  4226   70             0              0               3385  218       1   \n",
       "4   114  100             1              0               3394  113       1   \n",
       "\n",
       "   Female  Other  No  Govt_job  Never_worked  Self-employed  children  Rural  \\\n",
       "0       0      0   0         0             0              0         0      0   \n",
       "1       1      0   0         0             0              1         0      1   \n",
       "2       0      0   0         0             0              0         0      1   \n",
       "3       1      0   0         0             0              0         0      0   \n",
       "4       1      0   0         0             0              1         0      1   \n",
       "\n",
       "   never smoked  smokes  \n",
       "0             0       0  \n",
       "1             1       0  \n",
       "2             1       0  \n",
       "3             0       1  \n",
       "4             1       0  "
      ]
     },
     "execution_count": 93,
     "metadata": {},
     "output_type": "execute_result"
    }
   ],
   "source": [
    "dff.head()"
   ]
  },
  {
   "cell_type": "code",
   "execution_count": 137,
   "metadata": {},
   "outputs": [
    {
     "data": {
      "text/plain": [
       "0    3901\n",
       "1     187\n",
       "Name: stroke, dtype: int64"
      ]
     },
     "execution_count": 137,
     "metadata": {},
     "output_type": "execute_result"
    }
   ],
   "source": [
    "y_train.value_counts()"
   ]
  },
  {
   "cell_type": "code",
   "execution_count": 135,
   "metadata": {},
   "outputs": [
    {
     "data": {
      "text/plain": [
       "0    4861\n",
       "1     249\n",
       "Name: stroke, dtype: int64"
      ]
     },
     "execution_count": 135,
     "metadata": {},
     "output_type": "execute_result"
    }
   ],
   "source": [
    "dff['stroke'].value_counts()"
   ]
  },
  {
   "cell_type": "code",
   "execution_count": 39,
   "metadata": {},
   "outputs": [
    {
     "data": {
      "text/plain": [
       "0    971\n",
       "1     51\n",
       "Name: stroke, dtype: int64"
      ]
     },
     "execution_count": 39,
     "metadata": {},
     "output_type": "execute_result"
    }
   ],
   "source": [
    "y_test.value_counts("
   ]
  },
  {
   "cell_type": "markdown",
   "metadata": {},
   "source": [
    "# Application de l'ia explicable"
   ]
  },
  {
   "cell_type": "markdown",
   "metadata": {},
   "source": [
    "# Local Explanations: How an individual prediction was made"
   ]
  },
  {
   "cell_type": "code",
   "execution_count": 37,
   "metadata": {},
   "outputs": [
    {
     "data": {
      "text/html": [
       "<!-- http://127.0.0.1:7001/2481147070544/ -->\n",
       "<iframe src=\"http://127.0.0.1:7001/2481147070544/\" width=100% height=800 frameBorder=\"0\"></iframe>"
      ]
     },
     "metadata": {},
     "output_type": "display_data"
    },
    {
     "data": {
      "text/html": [
       "<!-- http://127.0.0.1:7001/2481185622032/ -->\n",
       "<iframe src=\"http://127.0.0.1:7001/2481185622032/\" width=100% height=800 frameBorder=\"0\"></iframe>"
      ]
     },
     "metadata": {},
     "output_type": "display_data"
    },
    {
     "data": {
      "text/html": [
       "<!-- http://127.0.0.1:7001/2481184808400/ -->\n",
       "<iframe src=\"http://127.0.0.1:7001/2481184808400/\" width=100% height=800 frameBorder=\"0\"></iframe>"
      ]
     },
     "metadata": {},
     "output_type": "display_data"
    },
    {
     "data": {
      "text/html": [
       "<!-- http://127.0.0.1:7001/2481185624336/ -->\n",
       "<iframe src=\"http://127.0.0.1:7001/2481185624336/\" width=100% height=800 frameBorder=\"0\"></iframe>"
      ]
     },
     "metadata": {},
     "output_type": "display_data"
    },
    {
     "data": {
      "text/html": [
       "<!-- http://127.0.0.1:7001/2481186306832/ -->\n",
       "<iframe src=\"http://127.0.0.1:7001/2481186306832/\" width=100% height=800 frameBorder=\"0\"></iframe>"
      ]
     },
     "metadata": {},
     "output_type": "display_data"
    }
   ],
   "source": [
    " # Explainability using LIME\n",
    "for model_name in models_to_compare:\n",
    "    # Train the model\n",
    "    current_model.fit(X_train, y_train)\n",
    "    # Create a blackbox model using the trained model\n",
    "    blackbox_model = current_model\n",
    "    lime = LimeTabular(blackbox_model, X_train, random_state=1)\n",
    "    lime_local = lime.explain_local(X_test[:5], y_test[:5], name=f'LIME_{model_name}')\n",
    "    show(lime_local, 0)"
   ]
  },
  {
   "cell_type": "code",
   "execution_count": 38,
   "metadata": {},
   "outputs": [
    {
     "data": {
      "application/vnd.jupyter.widget-view+json": {
       "model_id": "3e58c6a233f942e8a0a895b303210e2b",
       "version_major": 2,
       "version_minor": 0
      },
      "text/plain": [
       "  0%|          | 0/5 [00:00<?, ?it/s]"
      ]
     },
     "metadata": {},
     "output_type": "display_data"
    },
    {
     "data": {
      "text/html": [
       "<!-- http://127.0.0.1:7001/2481536033872/ -->\n",
       "<iframe src=\"http://127.0.0.1:7001/2481536033872/\" width=100% height=800 frameBorder=\"0\"></iframe>"
      ]
     },
     "metadata": {},
     "output_type": "display_data"
    },
    {
     "data": {
      "application/vnd.jupyter.widget-view+json": {
       "model_id": "9ee2d12c498e4475a7ea66ca546a3744",
       "version_major": 2,
       "version_minor": 0
      },
      "text/plain": [
       "  0%|          | 0/5 [00:00<?, ?it/s]"
      ]
     },
     "metadata": {},
     "output_type": "display_data"
    },
    {
     "data": {
      "text/html": [
       "<!-- http://127.0.0.1:7001/2481186907920/ -->\n",
       "<iframe src=\"http://127.0.0.1:7001/2481186907920/\" width=100% height=800 frameBorder=\"0\"></iframe>"
      ]
     },
     "metadata": {},
     "output_type": "display_data"
    },
    {
     "data": {
      "application/vnd.jupyter.widget-view+json": {
       "model_id": "1c49b36f5a4d45ccb46072d9cf7c8ca1",
       "version_major": 2,
       "version_minor": 0
      },
      "text/plain": [
       "  0%|          | 0/5 [00:00<?, ?it/s]"
      ]
     },
     "metadata": {},
     "output_type": "display_data"
    },
    {
     "data": {
      "text/html": [
       "<!-- http://127.0.0.1:7001/2481185783376/ -->\n",
       "<iframe src=\"http://127.0.0.1:7001/2481185783376/\" width=100% height=800 frameBorder=\"0\"></iframe>"
      ]
     },
     "metadata": {},
     "output_type": "display_data"
    },
    {
     "data": {
      "application/vnd.jupyter.widget-view+json": {
       "model_id": "3ed8ccc9823449a0bdce1f310155a29c",
       "version_major": 2,
       "version_minor": 0
      },
      "text/plain": [
       "  0%|          | 0/5 [00:00<?, ?it/s]"
      ]
     },
     "metadata": {},
     "output_type": "display_data"
    },
    {
     "data": {
      "text/html": [
       "<!-- http://127.0.0.1:7001/2481185770192/ -->\n",
       "<iframe src=\"http://127.0.0.1:7001/2481185770192/\" width=100% height=800 frameBorder=\"0\"></iframe>"
      ]
     },
     "metadata": {},
     "output_type": "display_data"
    },
    {
     "data": {
      "application/vnd.jupyter.widget-view+json": {
       "model_id": "8f85aa830b844fdfa1a3dc03b242f7de",
       "version_major": 2,
       "version_minor": 0
      },
      "text/plain": [
       "  0%|          | 0/5 [00:00<?, ?it/s]"
      ]
     },
     "metadata": {},
     "output_type": "display_data"
    },
    {
     "data": {
      "text/html": [
       "<!-- http://127.0.0.1:7001/2481536637712/ -->\n",
       "<iframe src=\"http://127.0.0.1:7001/2481536637712/\" width=100% height=800 frameBorder=\"0\"></iframe>"
      ]
     },
     "metadata": {},
     "output_type": "display_data"
    }
   ],
   "source": [
    " # SHAP explanation\n",
    "for model_name in models_to_compare:\n",
    "    # Train the model\n",
    "    current_model.fit(X_train, y_train)\n",
    "    # Create a blackbox model using the trained model\n",
    "    blackbox_model = current_model\n",
    "    background_val = pd.DataFrame(np.median(X_train, axis=0).reshape(1, -1), columns=x.columns)\n",
    "    shap = ShapKernel(blackbox_model, background_val)\n",
    "    shap_local = shap.explain_local(X_test[:5], y_test[:5], name=f'SHAP_{model_name}')\n",
    "    show(shap_local, 0)\n"
   ]
  },
  {
   "cell_type": "markdown",
   "metadata": {},
   "source": [
    "# Global Explanations: How the model behaves overall"
   ]
  },
  {
   "cell_type": "code",
   "execution_count": 100,
   "metadata": {},
   "outputs": [
    {
     "data": {
      "text/html": [
       "<!-- http://127.0.0.1:7001/2068223952400/ -->\n",
       "<iframe src=\"http://127.0.0.1:7001/2068223952400/\" width=100% height=800 frameBorder=\"0\"></iframe>"
      ]
     },
     "metadata": {},
     "output_type": "display_data"
    },
    {
     "data": {
      "text/html": [
       "<!-- http://127.0.0.1:7001/2068225587088/ -->\n",
       "<iframe src=\"http://127.0.0.1:7001/2068225587088/\" width=100% height=800 frameBorder=\"0\"></iframe>"
      ]
     },
     "metadata": {},
     "output_type": "display_data"
    },
    {
     "data": {
      "text/html": [
       "<!-- http://127.0.0.1:7001/2068225829712/ -->\n",
       "<iframe src=\"http://127.0.0.1:7001/2068225829712/\" width=100% height=800 frameBorder=\"0\"></iframe>"
      ]
     },
     "metadata": {},
     "output_type": "display_data"
    },
    {
     "data": {
      "text/html": [
       "<!-- http://127.0.0.1:7001/2068223773712/ -->\n",
       "<iframe src=\"http://127.0.0.1:7001/2068223773712/\" width=100% height=800 frameBorder=\"0\"></iframe>"
      ]
     },
     "metadata": {},
     "output_type": "display_data"
    },
    {
     "data": {
      "text/html": [
       "<!-- http://127.0.0.1:7001/2068225758736/ -->\n",
       "<iframe src=\"http://127.0.0.1:7001/2068225758736/\" width=100% height=800 frameBorder=\"0\"></iframe>"
      ]
     },
     "metadata": {},
     "output_type": "display_data"
    }
   ],
   "source": [
    "for model_name in models_to_compare:\n",
    "    # Train the model\n",
    "    current_model.fit(X_train, y_train)\n",
    "    # Create a blackbox model using the trained model\n",
    "    blackbox_model = current_model\n",
    "    # Morris Sensitivity\n",
    "    sensitivity = MorrisSensitivity(blackbox_model, X_train)\n",
    "    sensitivity_global = sensitivity.explain_global(name=f'Morris_{model_name}')\n",
    "    show(sensitivity_global)"
   ]
  },
  {
   "cell_type": "code",
   "execution_count": 101,
   "metadata": {},
   "outputs": [
    {
     "data": {
      "text/html": [
       "<!-- http://127.0.0.1:7001/2068227096400/ -->\n",
       "<iframe src=\"http://127.0.0.1:7001/2068227096400/\" width=100% height=800 frameBorder=\"0\"></iframe>"
      ]
     },
     "metadata": {},
     "output_type": "display_data"
    },
    {
     "data": {
      "text/html": [
       "<!-- http://127.0.0.1:7001/2068224158288/ -->\n",
       "<iframe src=\"http://127.0.0.1:7001/2068224158288/\" width=100% height=800 frameBorder=\"0\"></iframe>"
      ]
     },
     "metadata": {},
     "output_type": "display_data"
    },
    {
     "data": {
      "text/html": [
       "<!-- http://127.0.0.1:7001/2068226988560/ -->\n",
       "<iframe src=\"http://127.0.0.1:7001/2068226988560/\" width=100% height=800 frameBorder=\"0\"></iframe>"
      ]
     },
     "metadata": {},
     "output_type": "display_data"
    },
    {
     "data": {
      "text/html": [
       "<!-- http://127.0.0.1:7001/2068226150096/ -->\n",
       "<iframe src=\"http://127.0.0.1:7001/2068226150096/\" width=100% height=800 frameBorder=\"0\"></iframe>"
      ]
     },
     "metadata": {},
     "output_type": "display_data"
    },
    {
     "data": {
      "text/html": [
       "<!-- http://127.0.0.1:7001/2068225803152/ -->\n",
       "<iframe src=\"http://127.0.0.1:7001/2068225803152/\" width=100% height=800 frameBorder=\"0\"></iframe>"
      ]
     },
     "metadata": {},
     "output_type": "display_data"
    }
   ],
   "source": [
    "for model_name in models_to_compare: \n",
    "    # Train the model\n",
    "    current_model.fit(X_train, y_train)\n",
    "\n",
    "    # Create a blackbox model using the trained model\n",
    "    blackbox_model = current_model\n",
    "     # Marginal explanation\n",
    "    marginal = Marginal().explain_data(X_train, y_train, name=f'Marginal_{model_name}')\n",
    "    show(marginal)"
   ]
  },
  {
   "cell_type": "code",
   "execution_count": 102,
   "metadata": {},
   "outputs": [
    {
     "data": {
      "text/html": [
       "<!-- http://127.0.0.1:7001/2068226162128/ -->\n",
       "<iframe src=\"http://127.0.0.1:7001/2068226162128/\" width=100% height=800 frameBorder=\"0\"></iframe>"
      ]
     },
     "metadata": {},
     "output_type": "display_data"
    },
    {
     "data": {
      "text/html": [
       "<!-- http://127.0.0.1:7001/2068223798992/ -->\n",
       "<iframe src=\"http://127.0.0.1:7001/2068223798992/\" width=100% height=800 frameBorder=\"0\"></iframe>"
      ]
     },
     "metadata": {},
     "output_type": "display_data"
    },
    {
     "data": {
      "text/html": [
       "<!-- http://127.0.0.1:7001/2068223732624/ -->\n",
       "<iframe src=\"http://127.0.0.1:7001/2068223732624/\" width=100% height=800 frameBorder=\"0\"></iframe>"
      ]
     },
     "metadata": {},
     "output_type": "display_data"
    },
    {
     "data": {
      "text/html": [
       "<!-- http://127.0.0.1:7001/2068233977296/ -->\n",
       "<iframe src=\"http://127.0.0.1:7001/2068233977296/\" width=100% height=800 frameBorder=\"0\"></iframe>"
      ]
     },
     "metadata": {},
     "output_type": "display_data"
    },
    {
     "data": {
      "text/html": [
       "<!-- http://127.0.0.1:7001/2068260144720/ -->\n",
       "<iframe src=\"http://127.0.0.1:7001/2068260144720/\" width=100% height=800 frameBorder=\"0\"></iframe>"
      ]
     },
     "metadata": {},
     "output_type": "display_data"
    }
   ],
   "source": [
    "for model_name in models_to_compare: \n",
    "    # Train the model\n",
    "    current_model.fit(X_train, y_train)\n",
    "    # Create a blackbox model using the trained model\n",
    "    blackbox_model = current_model\n",
    "    # Partial Dependence\n",
    "    pdp = PartialDependence(blackbox_model, X_train)\n",
    "    pdp_global = pdp.explain_global(name=f'PDP_{model_name}')\n",
    "    show(pdp_global, 0)\n"
   ]
  },
  {
   "cell_type": "code",
   "execution_count": 106,
   "metadata": {
    "scrolled": true
   },
   "outputs": [
    {
     "data": {
      "text/html": [
       "<!-- http://127.0.0.1:7001/2069616671632/ -->\n",
       "<iframe src=\"http://127.0.0.1:7001/2069616671632/\" width=100% height=800 frameBorder=\"0\"></iframe>"
      ]
     },
     "metadata": {},
     "output_type": "display_data"
    }
   ],
   "source": [
    "from interpret import show\n",
    "from interpret.perf import RegressionPerf\n",
    "from sklearn.linear_model import LinearRegression\n",
    "for model_name in models_to_compare:\n",
    "   \n",
    "    if model_name == 'lr':\n",
    "        # Linear Regression\n",
    "        lr = LinearRegression()\n",
    "        lr.fit(X_train, y_train)\n",
    "\n",
    "        # Performance Explanation\n",
    "        lr_perf = RegressionPerf(lr).explain_perf(X_test, y_test, name='Linear Regression')\n",
    "        show(lr_perf)\n",
    "\n",
    "      "
   ]
  },
  {
   "cell_type": "code",
   "execution_count": 108,
   "metadata": {},
   "outputs": [
    {
     "data": {
      "text/html": [
       "<!-- http://127.0.0.1:7001/2068267794832/ -->\n",
       "<iframe src=\"http://127.0.0.1:7001/2068267794832/\" width=100% height=800 frameBorder=\"0\"></iframe>"
      ]
     },
     "metadata": {},
     "output_type": "display_data"
    }
   ],
   "source": [
    "from sklearn.tree import DecisionTreeRegressor\n",
    "\n",
    "for model_name in models_to_compare:\n",
    "\n",
    "    if model_name == 'dt':\n",
    "        # Decision Tree\n",
    "        dt = DecisionTreeRegressor(random_state=seed)\n",
    "        dt.fit(X_train, y_train)\n",
    "\n",
    "        # Performance Explanation\n",
    "        dt_perf = RegressionPerf(dt).explain_perf(X_test, y_test, name='Decision Tree')\n",
    "        show(dt_perf)\n",
    "\n",
    "        "
   ]
  },
  {
   "cell_type": "code",
   "execution_count": null,
   "metadata": {},
   "outputs": [],
   "source": []
  },
  {
   "cell_type": "code",
   "execution_count": null,
   "metadata": {},
   "outputs": [],
   "source": []
  }
 ],
 "metadata": {
  "kernelspec": {
   "display_name": "Python 3 (ipykernel)",
   "language": "python",
   "name": "python3"
  },
  "language_info": {
   "codemirror_mode": {
    "name": "ipython",
    "version": 3
   },
   "file_extension": ".py",
   "mimetype": "text/x-python",
   "name": "python",
   "nbconvert_exporter": "python",
   "pygments_lexer": "ipython3",
   "version": "3.11.4"
  },
  "papermill": {
   "default_parameters": {},
   "duration": 10.331407,
   "end_time": "2021-03-18T10:33:55.938861",
   "environment_variables": {},
   "exception": null,
   "input_path": "__notebook__.ipynb",
   "output_path": "__notebook__.ipynb",
   "parameters": {},
   "start_time": "2021-03-18T10:33:45.607454",
   "version": "2.2.2"
  }
 },
 "nbformat": 4,
 "nbformat_minor": 4
}
